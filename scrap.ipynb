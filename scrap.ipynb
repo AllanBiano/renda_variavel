{
 "metadata": {
  "language_info": {
   "codemirror_mode": {
    "name": "ipython",
    "version": 3
   },
   "file_extension": ".py",
   "mimetype": "text/x-python",
   "name": "python",
   "nbconvert_exporter": "python",
   "pygments_lexer": "ipython3",
   "version": "3.8.8"
  },
  "orig_nbformat": 2,
  "kernelspec": {
   "name": "python3",
   "display_name": "Python 3.8.8 64-bit ('base': conda)"
  },
  "interpreter": {
   "hash": "70437ad1e85be4a6249bd927ad4849ff63ae39d5847aa63d3658922017d6cc74"
  }
 },
 "nbformat": 4,
 "nbformat_minor": 2,
 "cells": [
  {
   "cell_type": "code",
   "execution_count": 1,
   "metadata": {},
   "outputs": [],
   "source": [
    "import csv\n",
    "import requests\n",
    "import pandas as pd\n",
    "\n",
    "import time\n",
    "from datetime import datetime\n",
    "\n",
    "from bs4 import BeautifulSoup"
   ]
  },
  {
   "cell_type": "code",
   "execution_count": 2,
   "metadata": {},
   "outputs": [],
   "source": [
    "def dividendos_acao(acao: str):\n",
    "    url = f'https://statusinvest.com.br/acoes/{acao}'\n",
    "\n",
    "    print(\"Starting...{}\".format(datetime.now()))\n",
    "\n",
    "    response = requests.get(url)\n",
    "    soup = BeautifulSoup(response.text, \"html.parser\")\n",
    "\n",
    "    data = []\n",
    "    table = soup.find('table')\n",
    "    table_head = table.find('thead')\n",
    "    rows = table_head.find_all('tr')\n",
    "\n",
    "    for row in rows:\n",
    "        cols = row.find_all('th')\n",
    "        colsd = [ele.get_text(separator=\" \").strip() for ele in cols]\n",
    "        data.append([ele for ele in colsd])\n",
    "\n",
    "    table_body = table.find('tbody')\n",
    "\n",
    "    rows = table_body.find_all('tr')\n",
    "    for row in rows:\n",
    "        cols = row.find_all('td')\n",
    "        colsd = [ele.text.replace('R$','').replace('%','').replace('.0','').replace('.','').replace('N/A','').replace(',','.').strip() for ele in cols]\n",
    "        data.append([ele for ele in colsd])\n",
    "\n",
    "    data = pd.DataFrame(data)\n",
    "    data.columns = data.iloc[0]\n",
    "    data = data.drop([0])\n",
    "\n",
    "    # Extrair df para um arquivo csv externo\n",
    "    # file = open(\"dividendos.csv\", \"w\")\n",
    "    # wtr = csv.writer(file, delimiter=';', lineterminator='\\n')\n",
    "    # for x in data : wtr.writerow(x)\n",
    "    # file.close()\n",
    "\n",
    "    print(\"Finish...{}\".format(datetime.now()))\n",
    "    time.sleep(1)\n",
    "\n",
    "    return data"
   ]
  },
  {
   "cell_type": "code",
   "execution_count": 3,
   "metadata": {},
   "outputs": [
    {
     "output_type": "stream",
     "name": "stdout",
     "text": [
      "Starting...2021-06-28 19:55:09.010451\n",
      "Finish...2021-06-28 19:55:10.595279\n"
     ]
    },
    {
     "output_type": "execute_result",
     "data": {
      "text/plain": [
       "0        Tipo    DATA COM   Pagamento       Valor\n",
       "1   Dividendo  28/02/2022  01/04/2022  0.02000000\n",
       "2   Dividendo  30/11/2021  03/01/2022  0.02000000\n",
       "3   Dividendo  31/08/2021  01/10/2021  0.02000000\n",
       "4   Dividendo  31/05/2021  01/07/2021  0.02000000\n",
       "5         JCP  24/05/2021  30/09/2021  0.01840000\n",
       "6         JCP  27/04/2021  30/09/2021  0.02131000\n",
       "7         JCP  25/03/2021  30/09/2021  0.01908000\n",
       "8         JCP  09/03/2021  30/09/2021  0.01545600\n",
       "9   Dividendo  26/02/2021  01/04/2021  0.02000000\n",
       "10        JCP  22/01/2021  12/03/2021  0.02080000\n",
       "11        JCP  10/12/2020  12/03/2021  0.10165000\n",
       "12  Dividendo  30/11/2020  04/01/2021  0.02000000"
      ],
      "text/html": "<div>\n<style scoped>\n    .dataframe tbody tr th:only-of-type {\n        vertical-align: middle;\n    }\n\n    .dataframe tbody tr th {\n        vertical-align: top;\n    }\n\n    .dataframe thead th {\n        text-align: right;\n    }\n</style>\n<table border=\"1\" class=\"dataframe\">\n  <thead>\n    <tr style=\"text-align: right;\">\n      <th></th>\n      <th>Tipo</th>\n      <th>DATA COM</th>\n      <th>Pagamento</th>\n      <th>Valor</th>\n    </tr>\n  </thead>\n  <tbody>\n    <tr>\n      <th>1</th>\n      <td>Dividendo</td>\n      <td>28/02/2022</td>\n      <td>01/04/2022</td>\n      <td>0.02000000</td>\n    </tr>\n    <tr>\n      <th>2</th>\n      <td>Dividendo</td>\n      <td>30/11/2021</td>\n      <td>03/01/2022</td>\n      <td>0.02000000</td>\n    </tr>\n    <tr>\n      <th>3</th>\n      <td>Dividendo</td>\n      <td>31/08/2021</td>\n      <td>01/10/2021</td>\n      <td>0.02000000</td>\n    </tr>\n    <tr>\n      <th>4</th>\n      <td>Dividendo</td>\n      <td>31/05/2021</td>\n      <td>01/07/2021</td>\n      <td>0.02000000</td>\n    </tr>\n    <tr>\n      <th>5</th>\n      <td>JCP</td>\n      <td>24/05/2021</td>\n      <td>30/09/2021</td>\n      <td>0.01840000</td>\n    </tr>\n    <tr>\n      <th>6</th>\n      <td>JCP</td>\n      <td>27/04/2021</td>\n      <td>30/09/2021</td>\n      <td>0.02131000</td>\n    </tr>\n    <tr>\n      <th>7</th>\n      <td>JCP</td>\n      <td>25/03/2021</td>\n      <td>30/09/2021</td>\n      <td>0.01908000</td>\n    </tr>\n    <tr>\n      <th>8</th>\n      <td>JCP</td>\n      <td>09/03/2021</td>\n      <td>30/09/2021</td>\n      <td>0.01545600</td>\n    </tr>\n    <tr>\n      <th>9</th>\n      <td>Dividendo</td>\n      <td>26/02/2021</td>\n      <td>01/04/2021</td>\n      <td>0.02000000</td>\n    </tr>\n    <tr>\n      <th>10</th>\n      <td>JCP</td>\n      <td>22/01/2021</td>\n      <td>12/03/2021</td>\n      <td>0.02080000</td>\n    </tr>\n    <tr>\n      <th>11</th>\n      <td>JCP</td>\n      <td>10/12/2020</td>\n      <td>12/03/2021</td>\n      <td>0.10165000</td>\n    </tr>\n    <tr>\n      <th>12</th>\n      <td>Dividendo</td>\n      <td>30/11/2020</td>\n      <td>04/01/2021</td>\n      <td>0.02000000</td>\n    </tr>\n  </tbody>\n</table>\n</div>"
     },
     "metadata": {},
     "execution_count": 3
    }
   ],
   "source": [
    "dividendos_acao('itsa4')"
   ]
  },
  {
   "cell_type": "code",
   "execution_count": 4,
   "metadata": {},
   "outputs": [],
   "source": [
    "def dividendos_fii(fii: str):\n",
    "    url = f'https://statusinvest.com.br/fundos-imobiliarios/{fii}'\n",
    "\n",
    "    print(\"Starting...{}\".format(datetime.now()))\n",
    "\n",
    "    response = requests.get(url)\n",
    "    soup = BeautifulSoup(response.text, \"html.parser\")\n",
    "\n",
    "    data = []\n",
    "    table = soup.find('table')\n",
    "    table_head = table.find('thead')\n",
    "    rows = table_head.find_all('tr')\n",
    "\n",
    "    for row in rows:\n",
    "        cols = row.find_all('th')\n",
    "        colsd = [ele.get_text(separator=\" \").strip() for ele in cols]\n",
    "        data.append([ele for ele in colsd])\n",
    "\n",
    "    table_body = table.find('tbody')\n",
    "\n",
    "    rows = table_body.find_all('tr')\n",
    "    for row in rows:\n",
    "        cols = row.find_all('td')\n",
    "        colsd = [ele.text.replace('R$','').replace('%','').replace('.0','').replace('.','').replace('N/A','').replace(',','.').strip() for ele in cols]\n",
    "        data.append([ele for ele in colsd])\n",
    "    \n",
    "    data = pd.DataFrame(data)\n",
    "    data.columns = data.iloc[0]\n",
    "    data = data.drop([0])\n",
    "    \n",
    "    # Extrair df para um arquivo csv externo\n",
    "    # file = open(\"dividendos.csv\", \"w\")\n",
    "    # wtr = csv.writer(file, delimiter=';', lineterminator='\\n')\n",
    "    # for x in data : wtr.writerow(x)\n",
    "    # file.close()\n",
    "\n",
    "    print(\"Finish...{}\".format(datetime.now()))\n",
    "    time.sleep(1)\n",
    "\n",
    "    return data"
   ]
  },
  {
   "cell_type": "code",
   "execution_count": 5,
   "metadata": {
    "tags": []
   },
   "outputs": [
    {
     "output_type": "stream",
     "name": "stdout",
     "text": [
      "Starting...2021-06-28 19:55:11.646113\n",
      "Finish...2021-06-28 19:55:13.007870\n"
     ]
    },
    {
     "output_type": "execute_result",
     "data": {
      "text/plain": [
       "0         Tipo    DATA COM   Pagamento       Valor\n",
       "1   Rendimento  31/05/2021  15/06/2021  1.00000000\n",
       "2   Rendimento  30/04/2021  14/05/2021  0.78000000\n",
       "3   Rendimento  31/03/2021  15/04/2021  0.78000000\n",
       "4   Rendimento  26/02/2021  12/03/2021  0.78000000\n",
       "5   Rendimento  29/01/2021  12/02/2021  0.78000000\n",
       "6   Rendimento  30/12/2020  15/01/2021  2.63000000\n",
       "7   Rendimento  30/11/2020  14/12/2020  0.78000000\n",
       "8   Rendimento  30/10/2020  16/11/2020  0.78000000\n",
       "9   Rendimento  30/09/2020  15/10/2020  0.60000000\n",
       "10  Rendimento  31/08/2020  15/09/2020  0.78000000\n",
       "11  Rendimento  31/07/2020  14/08/2020  0.78000000\n",
       "12  Rendimento  30/06/2020  14/07/2020  0.78000000"
      ],
      "text/html": "<div>\n<style scoped>\n    .dataframe tbody tr th:only-of-type {\n        vertical-align: middle;\n    }\n\n    .dataframe tbody tr th {\n        vertical-align: top;\n    }\n\n    .dataframe thead th {\n        text-align: right;\n    }\n</style>\n<table border=\"1\" class=\"dataframe\">\n  <thead>\n    <tr style=\"text-align: right;\">\n      <th></th>\n      <th>Tipo</th>\n      <th>DATA COM</th>\n      <th>Pagamento</th>\n      <th>Valor</th>\n    </tr>\n  </thead>\n  <tbody>\n    <tr>\n      <th>1</th>\n      <td>Rendimento</td>\n      <td>31/05/2021</td>\n      <td>15/06/2021</td>\n      <td>1.00000000</td>\n    </tr>\n    <tr>\n      <th>2</th>\n      <td>Rendimento</td>\n      <td>30/04/2021</td>\n      <td>14/05/2021</td>\n      <td>0.78000000</td>\n    </tr>\n    <tr>\n      <th>3</th>\n      <td>Rendimento</td>\n      <td>31/03/2021</td>\n      <td>15/04/2021</td>\n      <td>0.78000000</td>\n    </tr>\n    <tr>\n      <th>4</th>\n      <td>Rendimento</td>\n      <td>26/02/2021</td>\n      <td>12/03/2021</td>\n      <td>0.78000000</td>\n    </tr>\n    <tr>\n      <th>5</th>\n      <td>Rendimento</td>\n      <td>29/01/2021</td>\n      <td>12/02/2021</td>\n      <td>0.78000000</td>\n    </tr>\n    <tr>\n      <th>6</th>\n      <td>Rendimento</td>\n      <td>30/12/2020</td>\n      <td>15/01/2021</td>\n      <td>2.63000000</td>\n    </tr>\n    <tr>\n      <th>7</th>\n      <td>Rendimento</td>\n      <td>30/11/2020</td>\n      <td>14/12/2020</td>\n      <td>0.78000000</td>\n    </tr>\n    <tr>\n      <th>8</th>\n      <td>Rendimento</td>\n      <td>30/10/2020</td>\n      <td>16/11/2020</td>\n      <td>0.78000000</td>\n    </tr>\n    <tr>\n      <th>9</th>\n      <td>Rendimento</td>\n      <td>30/09/2020</td>\n      <td>15/10/2020</td>\n      <td>0.60000000</td>\n    </tr>\n    <tr>\n      <th>10</th>\n      <td>Rendimento</td>\n      <td>31/08/2020</td>\n      <td>15/09/2020</td>\n      <td>0.78000000</td>\n    </tr>\n    <tr>\n      <th>11</th>\n      <td>Rendimento</td>\n      <td>31/07/2020</td>\n      <td>14/08/2020</td>\n      <td>0.78000000</td>\n    </tr>\n    <tr>\n      <th>12</th>\n      <td>Rendimento</td>\n      <td>30/06/2020</td>\n      <td>14/07/2020</td>\n      <td>0.78000000</td>\n    </tr>\n  </tbody>\n</table>\n</div>"
     },
     "metadata": {},
     "execution_count": 5
    }
   ],
   "source": [
    "dividendos_fii('HGLG11')"
   ]
  }
 ]
}