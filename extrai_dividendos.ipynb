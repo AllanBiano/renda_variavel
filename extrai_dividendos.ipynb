{
 "metadata": {
  "language_info": {
   "codemirror_mode": {
    "name": "ipython",
    "version": 3
   },
   "file_extension": ".py",
   "mimetype": "text/x-python",
   "name": "python",
   "nbconvert_exporter": "python",
   "pygments_lexer": "ipython3",
   "version": "3.8.8"
  },
  "orig_nbformat": 2,
  "kernelspec": {
   "name": "python3",
   "display_name": "Python 3.8.8 64-bit ('base': conda)"
  },
  "interpreter": {
   "hash": "70437ad1e85be4a6249bd927ad4849ff63ae39d5847aa63d3658922017d6cc74"
  }
 },
 "nbformat": 4,
 "nbformat_minor": 2,
 "cells": [
  {
   "cell_type": "code",
   "execution_count": 1,
   "metadata": {},
   "outputs": [],
   "source": [
    "# Imports\n",
    "from bs4 import BeautifulSoup\n",
    "import pandas as pd\n",
    "from urllib.request import Request, urlopen\n",
    "from urllib.error import URLError, HTTPError\n",
    "\n",
    "import matplotlib.pyplot as plt\n",
    "import seaborn as sns\n",
    "import plotly.offline as py\n",
    "import plotly.graph_objs as go\n",
    "\n",
    "from datetime import datetime\n",
    "\n",
    "from pandas_datareader import data as web"
   ]
  },
  {
   "cell_type": "code",
   "execution_count": 2,
   "metadata": {},
   "outputs": [],
   "source": [
    "def dividendos_acao(acao: str):\n",
    "    # Definindo características da página\n",
    "    url = f'https://fundamentus.com.br/proventos.php?papel={acao}&tipo=2'\n",
    "    headers = {'User-Agent': 'Mozilla/5.0 (Windows NT 10.0; Win64; x64) AppleWebKit/537.36 (KHTML, like Gecko) Chrome/76.0.3809.100 Safari/537.36'}\n",
    "\n",
    "    # Fazendo a request\n",
    "    try:\n",
    "        req = Request(url, headers = headers)\n",
    "        response = urlopen(req)\n",
    "        html = response.read()\n",
    "\n",
    "    # Tratando alguns possíveis erros\n",
    "    except HTTPError as e:\n",
    "        print('HTTPError\\n\\n')\n",
    "\n",
    "    except URLError as e:\n",
    "        print('URLError\\n\\n')\n",
    "\n",
    "    # Instanciando um objeto BeautifulSoup\n",
    "    soup = BeautifulSoup(html, 'html.parser')\n",
    "\n",
    "    # Pegando os nomes das colunas da tabela\n",
    "    colunas_names = [col.getText() for col in soup.find('table', {'id': 'resultado'}).find('thead').findAll('th')]\n",
    "    colunas = {i: col.getText() for i, col in enumerate(soup.find('table', {'id': 'resultado'}).find('thead').findAll('th'))}\n",
    "\n",
    "    # Criando um DataFrame com os nomes das colunas\n",
    "    dados = pd.DataFrame(columns=colunas_names)\n",
    "\n",
    "    # Pegando os dados da tabela por linha\n",
    "    for i in range(len(soup.find('table', {'id': 'resultado'}).find('tbody').findAll('tr'))):\n",
    "        linha = soup.find('table', {'id': 'resultado'}).find('tbody').findAll('tr')[i].getText().split('\\n')[1:]\n",
    "        inserir_linha = pd.DataFrame(linha).T.rename(columns=colunas)\n",
    "        dados = pd.concat([dados, inserir_linha], ignore_index=True)\n",
    "        dados['date'] = dados.Data.map(lambda x: x.split()[0])\n",
    "        dados['date'] = pd.to_datetime(dados.date)\n",
    "        dados['valor'] = dados.Data.map(lambda x: x.split()[1])\n",
    "        dados['valor'] = dados.valor.map(lambda x: float(x.replace(',', '.')))\n",
    "\n",
    "    # Rearranjando o df\n",
    "    dados = dados.drop(columns=['Data'])\n",
    "    dados['tipo'] = dados.Valor\n",
    "    dados = dados.drop(columns=['Valor'])\n",
    "    dados['data_pagamento'] = dados.Tipo\n",
    "    dados = dados.drop(columns=['Tipo', 'Data de Pagamento', 'Por quantas ações'])\n",
    "\n",
    "    # É tetra!\n",
    "    return dados"
   ]
  },
  {
   "cell_type": "code",
   "execution_count": 15,
   "metadata": {},
   "outputs": [
    {
     "output_type": "execute_result",
     "data": {
      "text/plain": [
       "         date   valor             tipo data_pagamento\n",
       "0  2021-04-14  0.7874        DIVIDENDO    29/04/2021 \n",
       "1  2020-07-22  0.0004        DIVIDENDO    15/12/2020 \n",
       "2  2019-12-26  0.4200  JRS CAP PROPRIO    07/02/2020 \n",
       "3  2019-11-11  0.2000  JRS CAP PROPRIO    07/02/2020 \n",
       "4  2019-12-08  0.2000  JRS CAP PROPRIO    04/10/2019 \n",
       "..        ...     ...              ...            ...\n",
       "65 1998-03-24  0.6694        DIVIDENDO             - \n",
       "66 1998-03-24  0.2049        DIVIDENDO             - \n",
       "67 1997-03-21  2.1263        DIVIDENDO             - \n",
       "68 1997-03-21  2.0000        DIVIDENDO             - \n",
       "69 1996-03-21  5.1471        DIVIDENDO            -  \n",
       "\n",
       "[70 rows x 4 columns]"
      ],
      "text/html": "<div>\n<style scoped>\n    .dataframe tbody tr th:only-of-type {\n        vertical-align: middle;\n    }\n\n    .dataframe tbody tr th {\n        vertical-align: top;\n    }\n\n    .dataframe thead th {\n        text-align: right;\n    }\n</style>\n<table border=\"1\" class=\"dataframe\">\n  <thead>\n    <tr style=\"text-align: right;\">\n      <th></th>\n      <th>date</th>\n      <th>valor</th>\n      <th>tipo</th>\n      <th>data_pagamento</th>\n    </tr>\n  </thead>\n  <tbody>\n    <tr>\n      <th>0</th>\n      <td>2021-04-14</td>\n      <td>0.7874</td>\n      <td>DIVIDENDO</td>\n      <td>29/04/2021</td>\n    </tr>\n    <tr>\n      <th>1</th>\n      <td>2020-07-22</td>\n      <td>0.0004</td>\n      <td>DIVIDENDO</td>\n      <td>15/12/2020</td>\n    </tr>\n    <tr>\n      <th>2</th>\n      <td>2019-12-26</td>\n      <td>0.4200</td>\n      <td>JRS CAP PROPRIO</td>\n      <td>07/02/2020</td>\n    </tr>\n    <tr>\n      <th>3</th>\n      <td>2019-11-11</td>\n      <td>0.2000</td>\n      <td>JRS CAP PROPRIO</td>\n      <td>07/02/2020</td>\n    </tr>\n    <tr>\n      <th>4</th>\n      <td>2019-12-08</td>\n      <td>0.2000</td>\n      <td>JRS CAP PROPRIO</td>\n      <td>04/10/2019</td>\n    </tr>\n    <tr>\n      <th>...</th>\n      <td>...</td>\n      <td>...</td>\n      <td>...</td>\n      <td>...</td>\n    </tr>\n    <tr>\n      <th>65</th>\n      <td>1998-03-24</td>\n      <td>0.6694</td>\n      <td>DIVIDENDO</td>\n      <td>-</td>\n    </tr>\n    <tr>\n      <th>66</th>\n      <td>1998-03-24</td>\n      <td>0.2049</td>\n      <td>DIVIDENDO</td>\n      <td>-</td>\n    </tr>\n    <tr>\n      <th>67</th>\n      <td>1997-03-21</td>\n      <td>2.1263</td>\n      <td>DIVIDENDO</td>\n      <td>-</td>\n    </tr>\n    <tr>\n      <th>68</th>\n      <td>1997-03-21</td>\n      <td>2.0000</td>\n      <td>DIVIDENDO</td>\n      <td>-</td>\n    </tr>\n    <tr>\n      <th>69</th>\n      <td>1996-03-21</td>\n      <td>5.1471</td>\n      <td>DIVIDENDO</td>\n      <td>-</td>\n    </tr>\n  </tbody>\n</table>\n<p>70 rows × 4 columns</p>\n</div>"
     },
     "metadata": {},
     "execution_count": 15
    }
   ],
   "source": [
    "dividendos_acao('PETR4')"
   ]
  },
  {
   "cell_type": "code",
   "execution_count": 3,
   "metadata": {},
   "outputs": [],
   "source": [
    "def stonk_last_value(acao: str, start_date: str = None):\n",
    "    if start_date == None:\n",
    "        start_date = '01-01-2000'    \n",
    "    # importar dados para o DataFrame\n",
    "    return web.DataReader(f'{acao}.SA', data_source='yahoo', start=start_date)"
   ]
  },
  {
   "cell_type": "code",
   "execution_count": 4,
   "metadata": {},
   "outputs": [],
   "source": [
    "def dividendos_fii(fii: str):\n",
    "    # Definindo características da página\n",
    "    url = f'https://fundamentus.com.br/fii_proventos.php?papel={fii}&tipo=2'\n",
    "    headers = {'User-Agent': 'Mozilla/5.0 (Windows NT 10.0; Win64; x64) AppleWebKit/537.36 (KHTML, like Gecko) Chrome/76.0.3809.100 Safari/537.36'}\n",
    "\n",
    "    # Fazendo a request\n",
    "    try:\n",
    "        req = Request(url, headers = headers)\n",
    "        response = urlopen(req)\n",
    "        html = response.read()\n",
    "\n",
    "    # Tratando alguns possíveis erros\n",
    "    except HTTPError as e:\n",
    "        print('HTTPError\\n\\n')\n",
    "\n",
    "    except URLError as e:\n",
    "        print('URLError\\n\\n')\n",
    "\n",
    "    # Instanciando um objeto BeautifulSoup\n",
    "    soup = BeautifulSoup(html, 'html.parser')\n",
    "\n",
    "    # Pegando os nomes das colunas da tabela\n",
    "    colunas_names = [col.getText() for col in soup.find('table', {'id': 'resultado'}).find('thead').findAll('th')]\n",
    "    colunas = {i: col.getText() for i, col in enumerate(soup.find('table', {'id': 'resultado'}).find('thead').findAll('th'))}\n",
    "\n",
    "    # Criando um DataFrame com os nomes das colunas\n",
    "    dados = pd.DataFrame(columns=colunas_names)\n",
    "\n",
    "    # Pegando os dados da tabela por linha\n",
    "    for i in range(len(soup.find('table', {'id': 'resultado'}).find('tbody').findAll('tr'))):\n",
    "        linha = soup.find('table', {'id': 'resultado'}).find('tbody').findAll('tr')[i].getText().split('\\n')[1:-1]\n",
    "        inserir_linha = pd.DataFrame(linha).T.rename(columns=colunas)\n",
    "        dados = pd.concat([dados, inserir_linha], ignore_index=True)\n",
    "        dados['date'] = pd.to_datetime(dados['Última Data Com'])\n",
    "        dados['valor'] = dados.Valor.map(lambda x: float(x.replace(',', '.')))        \n",
    "\n",
    "    dados['tipo'] = dados['Tipo']\n",
    "    dados['data_pagamento'] = dados['Data de Pagamento']\n",
    "    dados = dados.drop(columns=['Tipo', 'Última Data Com', 'Valor', 'Data de Pagamento'])\n",
    "\n",
    "    # É tetra!\n",
    "    return dados"
   ]
  },
  {
   "cell_type": "code",
   "execution_count": 5,
   "metadata": {},
   "outputs": [],
   "source": [
    "def plot_by_dividendo(codigo_ativo: str, kind: str):\n",
    "    if kind == 'fii':\n",
    "        df = dividendos_fii(codigo_ativo)\n",
    "    elif kind == 'acao':\n",
    "        df = dividendos_acao(codigo_ativo)\n",
    "    else:\n",
    "        raise ValueError (f'Os valores aceitáveis são: fii e acao')\n",
    "    # Gerando grafico para a acao\n",
    "    fig, ax = plt.subplots(figsize=(25,8))\n",
    "    conv_date = df.date.sort_values().map(lambda x: x.strftime('%d-%m-%Y'))\n",
    "    fig = sns.barplot(x=conv_date, y=df.valor, data=df)\n",
    "    title = f'{codigo_ativo} - dividendo/mes'\n",
    "    fig.set_title(title.upper(), fontsize=25)\n",
    "    plt.grid()\n",
    "    plt.xticks(rotation=90)\n",
    "    fig = fig"
   ]
  },
  {
   "cell_type": "code",
   "execution_count": 6,
   "metadata": {},
   "outputs": [],
   "source": [
    "def plot_by_year(codigo_ativo: str, kind: str):\n",
    "    if kind == 'fii':\n",
    "        df = dividendos_fii(codigo_ativo)\n",
    "    elif kind == 'acao':\n",
    "        df = dividendos_acao(codigo_ativo)\n",
    "    else:\n",
    "        raise ValueError (f'Os valores aceitáveis são: fii e acao')\n",
    "    # Gerando grafico para a acao\n",
    "    fig, ax = plt.subplots(figsize=(25,8))\n",
    "    fig = sns.barplot(x=df.date.map(lambda x: x.year), y=df.valor, data=df)\n",
    "    title = f'{codigo_ativo} - dividendo/ano'\n",
    "    fig.set_title(title.upper(), fontsize=25)\n",
    "    plt.grid()\n",
    "    plt.xticks(rotation=90)\n",
    "    fig = fig"
   ]
  },
  {
   "source": [
    "# ACOES"
   ],
   "cell_type": "markdown",
   "metadata": {}
  },
  {
   "cell_type": "code",
   "execution_count": 7,
   "metadata": {},
   "outputs": [],
   "source": [
    "def my_acao(plot = None):\n",
    "    # Acoes da minha carteira\n",
    "    acoes: list = [\n",
    "        'taee4',\n",
    "        'enbr3',\n",
    "        'csmg3',\n",
    "        'itsa4',\n",
    "        'enat3',\n",
    "        'cmig4',\n",
    "        'bbse3',\n",
    "        'trpl4',\n",
    "        'vale3',\n",
    "        'wege3',\n",
    "    ]\n",
    "    # Criando listas para armazenar os valores\n",
    "    median_list: list = []\n",
    "    last_value_list: list = []\n",
    "    magic_number_list: list = []\n",
    "    price_magic_number_list: list = []\n",
    "\n",
    "    for acao in acoes: \n",
    "        # Ultima valor de fechamento da acao\n",
    "        stonk_value: float = round(stonk_last_value(acao, '01-01-2015').iloc[-1].Close, 2)\n",
    "        last_value_list.append(stonk_value)\n",
    "\n",
    "        # Media dos dividendos por mes\n",
    "        df = dividendos_acao(acao).query('date > 2015')\n",
    "        median_by_year = df.groupby(df.date.map(lambda x: x.year)).median()\n",
    "        median_by_month_value = float(median_by_year.median()[0] / 12)\n",
    "        median_list.append(median_by_month_value)\n",
    "\n",
    "        # magic_number: valor_acao / dividendo_mes\n",
    "        magic_number_value: int = int(stonk_value / median_by_month_value)\n",
    "        magic_number_list.append(magic_number_value)\n",
    "\n",
    "        # Valor para o MG\n",
    "        price_magic_number: float = round(stonk_value * magic_number_value, 2)\n",
    "        price_magic_number_list.append(price_magic_number)\n",
    "\n",
    "        # Plots\n",
    "        if plot:\n",
    "            plot_by_dividendo(acao, 'acao')\n",
    "            plot_by_year(acao, 'acao')\n",
    "\n",
    "    # Criando o df\n",
    "    df_acoes = pd.DataFrame(acoes, columns=['code'])\n",
    "    df_acoes['last_value'] = pd.DataFrame(last_value_list)\n",
    "    df_acoes['median'] = pd.to_numeric(median_list)\n",
    "    df_acoes['magic_number'] = pd.to_numeric(magic_number_list)\n",
    "    df_acoes['price_magic_number'] = pd.to_numeric(price_magic_number_list)\n",
    "\n",
    "    return df_acoes"
   ]
  },
  {
   "source": [
    "# FUNDOS IMOBILIARIOS"
   ],
   "cell_type": "markdown",
   "metadata": {}
  },
  {
   "cell_type": "code",
   "execution_count": 8,
   "metadata": {},
   "outputs": [],
   "source": [
    "def my_fii(plot = None):\n",
    "    # FIIs da minha carteira\n",
    "    fiis: list = [\n",
    "        'alzr11',\n",
    "        'bcff11',\n",
    "        'hglg11',\n",
    "        'xplg11',\n",
    "        'xpin11',\n",
    "        'mxrf11',\n",
    "        'hfof11',\n",
    "        'rect11',\n",
    "        'hctr11',\n",
    "        'knip11',\n",
    "        'irdm11',\n",
    "        'vino11',\n",
    "    ]\n",
    "    # Criando listas para armazenar os valores\n",
    "    median_fii_list: list = []\n",
    "    last_fii_value_list: list = []\n",
    "    last_fii_div_list: list = []\n",
    "    value_div_fii_list: list = []\n",
    "    magic_number_fii_list: list = []\n",
    "    price_magic_number_fii_list: list = []\n",
    "\n",
    "    for fii in fiis:\n",
    "        # Ultima valor de fechamento da acao\n",
    "        stonk_value: float = round(stonk_last_value(fii, '01-01-2015').iloc[-1].Close, 2)\n",
    "        last_fii_value_list.append(stonk_value)\n",
    "\n",
    "        df = dividendos_fii(fii).query('date > 2015')\n",
    "\n",
    "        # Ultimo dividendo\n",
    "        last_div = dividendos_fii(fii).query('date > 2015').valor.iloc[0]\n",
    "        last_fii_div_list.append(last_div)\n",
    "\n",
    "        # Mediana dos dividendos por mes\n",
    "        median_by_year = df.groupby(df.date.map(lambda x: x.year)).median()\n",
    "        median_by_month_value: float = float(median_by_year.median())\n",
    "        median_fii_list.append(median_by_month_value)\n",
    "\n",
    "        # value_div: las_value / last_div\n",
    "        value_div: float = (last_div / stonk_value) * 100\n",
    "        value_div_fii_list.append(value_div)\n",
    "\n",
    "        # magic_number: valor_acao / dividendo_mes\n",
    "        magic_number_value = int(stonk_value / median_by_month_value)\n",
    "        magic_number_fii_list.append(magic_number_value)\n",
    "\n",
    "        # Valor para o MG\n",
    "        price_magic_number: float = round(stonk_value * magic_number_value, 2)\n",
    "        price_magic_number_fii_list.append(price_magic_number)\n",
    "\n",
    "        # Plots\n",
    "        if plot:\n",
    "            plot_by_dividendo(fii, 'fii')\n",
    "            plot_by_year(fii, 'fii')\n",
    "\n",
    "    # Criando o df\n",
    "    df_fiis = pd.DataFrame([fii.upper() for fii in fiis], columns=['code'])\n",
    "    df_fiis['last_value'] = pd.DataFrame(last_fii_value_list)\n",
    "    df_fiis['last_div'] = pd.DataFrame(last_fii_div_list)\n",
    "    df_fiis['value_div'] = pd.DataFrame(value_div_fii_list)\n",
    "    df_fiis['median_div'] = pd.to_numeric(median_fii_list)\n",
    "    df_fiis['magic_number'] = pd.to_numeric(magic_number_fii_list)\n",
    "    df_fiis['price_magic_number'] = pd.to_numeric(price_magic_number_fii_list)\n",
    "\n",
    "    return df_fiis"
   ]
  },
  {
   "cell_type": "code",
   "execution_count": 9,
   "metadata": {},
   "outputs": [
    {
     "output_type": "execute_result",
     "data": {
      "text/plain": [
       "      code  last_value  last_div  value_div  median_div  magic_number  \\\n",
       "0   ALZR11      117.08      0.67   0.572258      0.6050           193   \n",
       "1   BCFF11       76.55      0.50   0.653168      0.5100           150   \n",
       "2   HGLG11      165.50      1.00   0.604230      0.7800           212   \n",
       "3   XPLG11      105.20      0.61   0.579848      0.5950           176   \n",
       "4   XPIN11       98.49      0.62   0.629506      0.6200           158   \n",
       "5   MXRF11        9.91      0.07   0.706357      0.0700           141   \n",
       "6   HFOF11       92.75      0.60   0.646900      0.6325           146   \n",
       "7   RECT11       74.99      0.60   0.800107      0.8100            92   \n",
       "8   HCTR11      130.00      1.90   1.461538      1.4950            86   \n",
       "9   KNIP11      106.90      1.13   1.057063      0.7475           143   \n",
       "10  IRDM11      119.01      1.15   0.966305      0.8700           136   \n",
       "11  VINO11       57.64      0.45   0.780708      0.3600           160   \n",
       "\n",
       "    price_magic_number  \n",
       "0             22596.44  \n",
       "1             11482.50  \n",
       "2             35086.00  \n",
       "3             18515.20  \n",
       "4             15561.42  \n",
       "5              1397.31  \n",
       "6             13541.50  \n",
       "7              6899.08  \n",
       "8             11180.00  \n",
       "9             15286.70  \n",
       "10            16185.36  \n",
       "11             9222.40  "
      ],
      "text/html": "<div>\n<style scoped>\n    .dataframe tbody tr th:only-of-type {\n        vertical-align: middle;\n    }\n\n    .dataframe tbody tr th {\n        vertical-align: top;\n    }\n\n    .dataframe thead th {\n        text-align: right;\n    }\n</style>\n<table border=\"1\" class=\"dataframe\">\n  <thead>\n    <tr style=\"text-align: right;\">\n      <th></th>\n      <th>code</th>\n      <th>last_value</th>\n      <th>last_div</th>\n      <th>value_div</th>\n      <th>median_div</th>\n      <th>magic_number</th>\n      <th>price_magic_number</th>\n    </tr>\n  </thead>\n  <tbody>\n    <tr>\n      <th>0</th>\n      <td>ALZR11</td>\n      <td>117.08</td>\n      <td>0.67</td>\n      <td>0.572258</td>\n      <td>0.6050</td>\n      <td>193</td>\n      <td>22596.44</td>\n    </tr>\n    <tr>\n      <th>1</th>\n      <td>BCFF11</td>\n      <td>76.55</td>\n      <td>0.50</td>\n      <td>0.653168</td>\n      <td>0.5100</td>\n      <td>150</td>\n      <td>11482.50</td>\n    </tr>\n    <tr>\n      <th>2</th>\n      <td>HGLG11</td>\n      <td>165.50</td>\n      <td>1.00</td>\n      <td>0.604230</td>\n      <td>0.7800</td>\n      <td>212</td>\n      <td>35086.00</td>\n    </tr>\n    <tr>\n      <th>3</th>\n      <td>XPLG11</td>\n      <td>105.20</td>\n      <td>0.61</td>\n      <td>0.579848</td>\n      <td>0.5950</td>\n      <td>176</td>\n      <td>18515.20</td>\n    </tr>\n    <tr>\n      <th>4</th>\n      <td>XPIN11</td>\n      <td>98.49</td>\n      <td>0.62</td>\n      <td>0.629506</td>\n      <td>0.6200</td>\n      <td>158</td>\n      <td>15561.42</td>\n    </tr>\n    <tr>\n      <th>5</th>\n      <td>MXRF11</td>\n      <td>9.91</td>\n      <td>0.07</td>\n      <td>0.706357</td>\n      <td>0.0700</td>\n      <td>141</td>\n      <td>1397.31</td>\n    </tr>\n    <tr>\n      <th>6</th>\n      <td>HFOF11</td>\n      <td>92.75</td>\n      <td>0.60</td>\n      <td>0.646900</td>\n      <td>0.6325</td>\n      <td>146</td>\n      <td>13541.50</td>\n    </tr>\n    <tr>\n      <th>7</th>\n      <td>RECT11</td>\n      <td>74.99</td>\n      <td>0.60</td>\n      <td>0.800107</td>\n      <td>0.8100</td>\n      <td>92</td>\n      <td>6899.08</td>\n    </tr>\n    <tr>\n      <th>8</th>\n      <td>HCTR11</td>\n      <td>130.00</td>\n      <td>1.90</td>\n      <td>1.461538</td>\n      <td>1.4950</td>\n      <td>86</td>\n      <td>11180.00</td>\n    </tr>\n    <tr>\n      <th>9</th>\n      <td>KNIP11</td>\n      <td>106.90</td>\n      <td>1.13</td>\n      <td>1.057063</td>\n      <td>0.7475</td>\n      <td>143</td>\n      <td>15286.70</td>\n    </tr>\n    <tr>\n      <th>10</th>\n      <td>IRDM11</td>\n      <td>119.01</td>\n      <td>1.15</td>\n      <td>0.966305</td>\n      <td>0.8700</td>\n      <td>136</td>\n      <td>16185.36</td>\n    </tr>\n    <tr>\n      <th>11</th>\n      <td>VINO11</td>\n      <td>57.64</td>\n      <td>0.45</td>\n      <td>0.780708</td>\n      <td>0.3600</td>\n      <td>160</td>\n      <td>9222.40</td>\n    </tr>\n  </tbody>\n</table>\n</div>"
     },
     "metadata": {},
     "execution_count": 9
    }
   ],
   "source": [
    "my_fii()"
   ]
  },
  {
   "cell_type": "code",
   "execution_count": 10,
   "metadata": {},
   "outputs": [
    {
     "output_type": "execute_result",
     "data": {
      "text/plain": [
       "      code  last_value  last_div  value_div  median_div  magic_number  \\\n",
       "8   HCTR11      130.00      1.90   1.461538      1.4950            86   \n",
       "9   KNIP11      106.90      1.13   1.057063      0.7475           143   \n",
       "10  IRDM11      119.01      1.15   0.966305      0.8700           136   \n",
       "7   RECT11       74.99      0.60   0.800107      0.8100            92   \n",
       "11  VINO11       57.64      0.45   0.780708      0.3600           160   \n",
       "5   MXRF11        9.91      0.07   0.706357      0.0700           141   \n",
       "1   BCFF11       76.55      0.50   0.653168      0.5100           150   \n",
       "6   HFOF11       92.75      0.60   0.646900      0.6325           146   \n",
       "4   XPIN11       98.49      0.62   0.629506      0.6200           158   \n",
       "2   HGLG11      165.50      1.00   0.604230      0.7800           212   \n",
       "3   XPLG11      105.20      0.61   0.579848      0.5950           176   \n",
       "0   ALZR11      117.08      0.67   0.572258      0.6050           193   \n",
       "\n",
       "    price_magic_number  \n",
       "8             11180.00  \n",
       "9             15286.70  \n",
       "10            16185.36  \n",
       "7              6899.08  \n",
       "11             9222.40  \n",
       "5              1397.31  \n",
       "1             11482.50  \n",
       "6             13541.50  \n",
       "4             15561.42  \n",
       "2             35086.00  \n",
       "3             18515.20  \n",
       "0             22596.44  "
      ],
      "text/html": "<div>\n<style scoped>\n    .dataframe tbody tr th:only-of-type {\n        vertical-align: middle;\n    }\n\n    .dataframe tbody tr th {\n        vertical-align: top;\n    }\n\n    .dataframe thead th {\n        text-align: right;\n    }\n</style>\n<table border=\"1\" class=\"dataframe\">\n  <thead>\n    <tr style=\"text-align: right;\">\n      <th></th>\n      <th>code</th>\n      <th>last_value</th>\n      <th>last_div</th>\n      <th>value_div</th>\n      <th>median_div</th>\n      <th>magic_number</th>\n      <th>price_magic_number</th>\n    </tr>\n  </thead>\n  <tbody>\n    <tr>\n      <th>8</th>\n      <td>HCTR11</td>\n      <td>130.00</td>\n      <td>1.90</td>\n      <td>1.461538</td>\n      <td>1.4950</td>\n      <td>86</td>\n      <td>11180.00</td>\n    </tr>\n    <tr>\n      <th>9</th>\n      <td>KNIP11</td>\n      <td>106.90</td>\n      <td>1.13</td>\n      <td>1.057063</td>\n      <td>0.7475</td>\n      <td>143</td>\n      <td>15286.70</td>\n    </tr>\n    <tr>\n      <th>10</th>\n      <td>IRDM11</td>\n      <td>119.01</td>\n      <td>1.15</td>\n      <td>0.966305</td>\n      <td>0.8700</td>\n      <td>136</td>\n      <td>16185.36</td>\n    </tr>\n    <tr>\n      <th>7</th>\n      <td>RECT11</td>\n      <td>74.99</td>\n      <td>0.60</td>\n      <td>0.800107</td>\n      <td>0.8100</td>\n      <td>92</td>\n      <td>6899.08</td>\n    </tr>\n    <tr>\n      <th>11</th>\n      <td>VINO11</td>\n      <td>57.64</td>\n      <td>0.45</td>\n      <td>0.780708</td>\n      <td>0.3600</td>\n      <td>160</td>\n      <td>9222.40</td>\n    </tr>\n    <tr>\n      <th>5</th>\n      <td>MXRF11</td>\n      <td>9.91</td>\n      <td>0.07</td>\n      <td>0.706357</td>\n      <td>0.0700</td>\n      <td>141</td>\n      <td>1397.31</td>\n    </tr>\n    <tr>\n      <th>1</th>\n      <td>BCFF11</td>\n      <td>76.55</td>\n      <td>0.50</td>\n      <td>0.653168</td>\n      <td>0.5100</td>\n      <td>150</td>\n      <td>11482.50</td>\n    </tr>\n    <tr>\n      <th>6</th>\n      <td>HFOF11</td>\n      <td>92.75</td>\n      <td>0.60</td>\n      <td>0.646900</td>\n      <td>0.6325</td>\n      <td>146</td>\n      <td>13541.50</td>\n    </tr>\n    <tr>\n      <th>4</th>\n      <td>XPIN11</td>\n      <td>98.49</td>\n      <td>0.62</td>\n      <td>0.629506</td>\n      <td>0.6200</td>\n      <td>158</td>\n      <td>15561.42</td>\n    </tr>\n    <tr>\n      <th>2</th>\n      <td>HGLG11</td>\n      <td>165.50</td>\n      <td>1.00</td>\n      <td>0.604230</td>\n      <td>0.7800</td>\n      <td>212</td>\n      <td>35086.00</td>\n    </tr>\n    <tr>\n      <th>3</th>\n      <td>XPLG11</td>\n      <td>105.20</td>\n      <td>0.61</td>\n      <td>0.579848</td>\n      <td>0.5950</td>\n      <td>176</td>\n      <td>18515.20</td>\n    </tr>\n    <tr>\n      <th>0</th>\n      <td>ALZR11</td>\n      <td>117.08</td>\n      <td>0.67</td>\n      <td>0.572258</td>\n      <td>0.6050</td>\n      <td>193</td>\n      <td>22596.44</td>\n    </tr>\n  </tbody>\n</table>\n</div>"
     },
     "metadata": {},
     "execution_count": 10
    }
   ],
   "source": [
    "my_fii().sort_values(by=['value_div'], ascending=False)"
   ]
  },
  {
   "cell_type": "code",
   "execution_count": 11,
   "metadata": {},
   "outputs": [],
   "source": [
    "df_sorted = dividendos_acao('bbse3').sort_values(by='date')\n",
    "df_value = stonk_last_value('bbse3')"
   ]
  },
  {
   "cell_type": "code",
   "execution_count": 12,
   "metadata": {},
   "outputs": [
    {
     "output_type": "execute_result",
     "data": {
      "text/plain": [
       "                 High        Low       Open      Close      Volume  Adj Close\n",
       "Date                                                                         \n",
       "2013-04-29  16.950001  16.100000  16.950001  16.600000  85582800.0   9.656610\n",
       "2013-04-30  17.080000  16.600000  16.600000  17.049999  26950200.0   9.918386\n",
       "2013-05-02  17.500000  16.980000  17.000000  17.500000  16057200.0  10.180161\n",
       "2013-05-03  17.850000  17.370001  17.420000  17.750000  13031000.0  10.325591\n",
       "2013-05-06  17.990000  17.639999  17.750000  17.930000  19911900.0  10.430304\n",
       "...               ...        ...        ...        ...         ...        ...\n",
       "2021-06-22  25.570000  25.200001  25.410000  25.540001   5243800.0  25.540001\n",
       "2021-06-23  25.500000  24.660000  25.410000  24.700001   7326800.0  24.700001\n",
       "2021-06-24  24.860001  24.090000  24.730000  24.400000   5502100.0  24.400000\n",
       "2021-06-25  24.680000  23.709999  24.680000  23.920000   5693000.0  23.920000\n",
       "2021-06-28  24.150000  23.490000  23.700001  24.100000   5134200.0  24.100000\n",
       "\n",
       "[2024 rows x 6 columns]"
      ],
      "text/html": "<div>\n<style scoped>\n    .dataframe tbody tr th:only-of-type {\n        vertical-align: middle;\n    }\n\n    .dataframe tbody tr th {\n        vertical-align: top;\n    }\n\n    .dataframe thead th {\n        text-align: right;\n    }\n</style>\n<table border=\"1\" class=\"dataframe\">\n  <thead>\n    <tr style=\"text-align: right;\">\n      <th></th>\n      <th>High</th>\n      <th>Low</th>\n      <th>Open</th>\n      <th>Close</th>\n      <th>Volume</th>\n      <th>Adj Close</th>\n    </tr>\n    <tr>\n      <th>Date</th>\n      <th></th>\n      <th></th>\n      <th></th>\n      <th></th>\n      <th></th>\n      <th></th>\n    </tr>\n  </thead>\n  <tbody>\n    <tr>\n      <th>2013-04-29</th>\n      <td>16.950001</td>\n      <td>16.100000</td>\n      <td>16.950001</td>\n      <td>16.600000</td>\n      <td>85582800.0</td>\n      <td>9.656610</td>\n    </tr>\n    <tr>\n      <th>2013-04-30</th>\n      <td>17.080000</td>\n      <td>16.600000</td>\n      <td>16.600000</td>\n      <td>17.049999</td>\n      <td>26950200.0</td>\n      <td>9.918386</td>\n    </tr>\n    <tr>\n      <th>2013-05-02</th>\n      <td>17.500000</td>\n      <td>16.980000</td>\n      <td>17.000000</td>\n      <td>17.500000</td>\n      <td>16057200.0</td>\n      <td>10.180161</td>\n    </tr>\n    <tr>\n      <th>2013-05-03</th>\n      <td>17.850000</td>\n      <td>17.370001</td>\n      <td>17.420000</td>\n      <td>17.750000</td>\n      <td>13031000.0</td>\n      <td>10.325591</td>\n    </tr>\n    <tr>\n      <th>2013-05-06</th>\n      <td>17.990000</td>\n      <td>17.639999</td>\n      <td>17.750000</td>\n      <td>17.930000</td>\n      <td>19911900.0</td>\n      <td>10.430304</td>\n    </tr>\n    <tr>\n      <th>...</th>\n      <td>...</td>\n      <td>...</td>\n      <td>...</td>\n      <td>...</td>\n      <td>...</td>\n      <td>...</td>\n    </tr>\n    <tr>\n      <th>2021-06-22</th>\n      <td>25.570000</td>\n      <td>25.200001</td>\n      <td>25.410000</td>\n      <td>25.540001</td>\n      <td>5243800.0</td>\n      <td>25.540001</td>\n    </tr>\n    <tr>\n      <th>2021-06-23</th>\n      <td>25.500000</td>\n      <td>24.660000</td>\n      <td>25.410000</td>\n      <td>24.700001</td>\n      <td>7326800.0</td>\n      <td>24.700001</td>\n    </tr>\n    <tr>\n      <th>2021-06-24</th>\n      <td>24.860001</td>\n      <td>24.090000</td>\n      <td>24.730000</td>\n      <td>24.400000</td>\n      <td>5502100.0</td>\n      <td>24.400000</td>\n    </tr>\n    <tr>\n      <th>2021-06-25</th>\n      <td>24.680000</td>\n      <td>23.709999</td>\n      <td>24.680000</td>\n      <td>23.920000</td>\n      <td>5693000.0</td>\n      <td>23.920000</td>\n    </tr>\n    <tr>\n      <th>2021-06-28</th>\n      <td>24.150000</td>\n      <td>23.490000</td>\n      <td>23.700001</td>\n      <td>24.100000</td>\n      <td>5134200.0</td>\n      <td>24.100000</td>\n    </tr>\n  </tbody>\n</table>\n<p>2024 rows × 6 columns</p>\n</div>"
     },
     "metadata": {},
     "execution_count": 12
    }
   ],
   "source": [
    "df_value"
   ]
  },
  {
   "cell_type": "code",
   "execution_count": 13,
   "metadata": {},
   "outputs": [
    {
     "output_type": "display_data",
     "data": {
      "application/vnd.plotly.v1+json": {
       "config": {
        "linkText": "Export to plot.ly",
        "plotlyServerURL": "https://plot.ly",
        "showLink": false
       },
       "data": [
        {
         "type": "scatter",
         "x": [
          "2013-08-19T00:00:00",
          "2014-02-14T00:00:00",
          "2014-08-18T00:00:00",
          "2015-12-02T00:00:00",
          "2015-12-08T00:00:00",
          "2016-02-23T00:00:00",
          "2016-11-08T00:00:00",
          "2017-02-16T00:00:00",
          "2017-10-08T00:00:00",
          "2018-02-22T00:00:00",
          "2018-09-08T00:00:00",
          "2018-11-12T00:00:00",
          "2019-02-14T00:00:00",
          "2019-09-08T00:00:00",
          "2020-02-13T00:00:00",
          "2020-09-01T00:00:00",
          "2020-12-08T00:00:00",
          "2021-11-02T00:00:00"
         ],
         "y": [
          0.4089,
          0.5806,
          0.5977,
          0.7956,
          0.8791,
          0.8334,
          0.8191,
          0.8358,
          0.781,
          0.9467,
          0.7809,
          1.3523,
          0.6772,
          0.8907,
          1.8984,
          1.3523,
          0.8753,
          0.4748
         ]
        }
       ],
       "layout": {
        "autosize": false,
        "height": 900,
        "template": {
         "data": {
          "bar": [
           {
            "error_x": {
             "color": "#2a3f5f"
            },
            "error_y": {
             "color": "#2a3f5f"
            },
            "marker": {
             "line": {
              "color": "#E5ECF6",
              "width": 0.5
             }
            },
            "type": "bar"
           }
          ],
          "barpolar": [
           {
            "marker": {
             "line": {
              "color": "#E5ECF6",
              "width": 0.5
             }
            },
            "type": "barpolar"
           }
          ],
          "carpet": [
           {
            "aaxis": {
             "endlinecolor": "#2a3f5f",
             "gridcolor": "white",
             "linecolor": "white",
             "minorgridcolor": "white",
             "startlinecolor": "#2a3f5f"
            },
            "baxis": {
             "endlinecolor": "#2a3f5f",
             "gridcolor": "white",
             "linecolor": "white",
             "minorgridcolor": "white",
             "startlinecolor": "#2a3f5f"
            },
            "type": "carpet"
           }
          ],
          "choropleth": [
           {
            "colorbar": {
             "outlinewidth": 0,
             "ticks": ""
            },
            "type": "choropleth"
           }
          ],
          "contour": [
           {
            "colorbar": {
             "outlinewidth": 0,
             "ticks": ""
            },
            "colorscale": [
             [
              0,
              "#0d0887"
             ],
             [
              0.1111111111111111,
              "#46039f"
             ],
             [
              0.2222222222222222,
              "#7201a8"
             ],
             [
              0.3333333333333333,
              "#9c179e"
             ],
             [
              0.4444444444444444,
              "#bd3786"
             ],
             [
              0.5555555555555556,
              "#d8576b"
             ],
             [
              0.6666666666666666,
              "#ed7953"
             ],
             [
              0.7777777777777778,
              "#fb9f3a"
             ],
             [
              0.8888888888888888,
              "#fdca26"
             ],
             [
              1,
              "#f0f921"
             ]
            ],
            "type": "contour"
           }
          ],
          "contourcarpet": [
           {
            "colorbar": {
             "outlinewidth": 0,
             "ticks": ""
            },
            "type": "contourcarpet"
           }
          ],
          "heatmap": [
           {
            "colorbar": {
             "outlinewidth": 0,
             "ticks": ""
            },
            "colorscale": [
             [
              0,
              "#0d0887"
             ],
             [
              0.1111111111111111,
              "#46039f"
             ],
             [
              0.2222222222222222,
              "#7201a8"
             ],
             [
              0.3333333333333333,
              "#9c179e"
             ],
             [
              0.4444444444444444,
              "#bd3786"
             ],
             [
              0.5555555555555556,
              "#d8576b"
             ],
             [
              0.6666666666666666,
              "#ed7953"
             ],
             [
              0.7777777777777778,
              "#fb9f3a"
             ],
             [
              0.8888888888888888,
              "#fdca26"
             ],
             [
              1,
              "#f0f921"
             ]
            ],
            "type": "heatmap"
           }
          ],
          "heatmapgl": [
           {
            "colorbar": {
             "outlinewidth": 0,
             "ticks": ""
            },
            "colorscale": [
             [
              0,
              "#0d0887"
             ],
             [
              0.1111111111111111,
              "#46039f"
             ],
             [
              0.2222222222222222,
              "#7201a8"
             ],
             [
              0.3333333333333333,
              "#9c179e"
             ],
             [
              0.4444444444444444,
              "#bd3786"
             ],
             [
              0.5555555555555556,
              "#d8576b"
             ],
             [
              0.6666666666666666,
              "#ed7953"
             ],
             [
              0.7777777777777778,
              "#fb9f3a"
             ],
             [
              0.8888888888888888,
              "#fdca26"
             ],
             [
              1,
              "#f0f921"
             ]
            ],
            "type": "heatmapgl"
           }
          ],
          "histogram": [
           {
            "marker": {
             "colorbar": {
              "outlinewidth": 0,
              "ticks": ""
             }
            },
            "type": "histogram"
           }
          ],
          "histogram2d": [
           {
            "colorbar": {
             "outlinewidth": 0,
             "ticks": ""
            },
            "colorscale": [
             [
              0,
              "#0d0887"
             ],
             [
              0.1111111111111111,
              "#46039f"
             ],
             [
              0.2222222222222222,
              "#7201a8"
             ],
             [
              0.3333333333333333,
              "#9c179e"
             ],
             [
              0.4444444444444444,
              "#bd3786"
             ],
             [
              0.5555555555555556,
              "#d8576b"
             ],
             [
              0.6666666666666666,
              "#ed7953"
             ],
             [
              0.7777777777777778,
              "#fb9f3a"
             ],
             [
              0.8888888888888888,
              "#fdca26"
             ],
             [
              1,
              "#f0f921"
             ]
            ],
            "type": "histogram2d"
           }
          ],
          "histogram2dcontour": [
           {
            "colorbar": {
             "outlinewidth": 0,
             "ticks": ""
            },
            "colorscale": [
             [
              0,
              "#0d0887"
             ],
             [
              0.1111111111111111,
              "#46039f"
             ],
             [
              0.2222222222222222,
              "#7201a8"
             ],
             [
              0.3333333333333333,
              "#9c179e"
             ],
             [
              0.4444444444444444,
              "#bd3786"
             ],
             [
              0.5555555555555556,
              "#d8576b"
             ],
             [
              0.6666666666666666,
              "#ed7953"
             ],
             [
              0.7777777777777778,
              "#fb9f3a"
             ],
             [
              0.8888888888888888,
              "#fdca26"
             ],
             [
              1,
              "#f0f921"
             ]
            ],
            "type": "histogram2dcontour"
           }
          ],
          "mesh3d": [
           {
            "colorbar": {
             "outlinewidth": 0,
             "ticks": ""
            },
            "type": "mesh3d"
           }
          ],
          "parcoords": [
           {
            "line": {
             "colorbar": {
              "outlinewidth": 0,
              "ticks": ""
             }
            },
            "type": "parcoords"
           }
          ],
          "pie": [
           {
            "automargin": true,
            "type": "pie"
           }
          ],
          "scatter": [
           {
            "marker": {
             "colorbar": {
              "outlinewidth": 0,
              "ticks": ""
             }
            },
            "type": "scatter"
           }
          ],
          "scatter3d": [
           {
            "line": {
             "colorbar": {
              "outlinewidth": 0,
              "ticks": ""
             }
            },
            "marker": {
             "colorbar": {
              "outlinewidth": 0,
              "ticks": ""
             }
            },
            "type": "scatter3d"
           }
          ],
          "scattercarpet": [
           {
            "marker": {
             "colorbar": {
              "outlinewidth": 0,
              "ticks": ""
             }
            },
            "type": "scattercarpet"
           }
          ],
          "scattergeo": [
           {
            "marker": {
             "colorbar": {
              "outlinewidth": 0,
              "ticks": ""
             }
            },
            "type": "scattergeo"
           }
          ],
          "scattergl": [
           {
            "marker": {
             "colorbar": {
              "outlinewidth": 0,
              "ticks": ""
             }
            },
            "type": "scattergl"
           }
          ],
          "scattermapbox": [
           {
            "marker": {
             "colorbar": {
              "outlinewidth": 0,
              "ticks": ""
             }
            },
            "type": "scattermapbox"
           }
          ],
          "scatterpolar": [
           {
            "marker": {
             "colorbar": {
              "outlinewidth": 0,
              "ticks": ""
             }
            },
            "type": "scatterpolar"
           }
          ],
          "scatterpolargl": [
           {
            "marker": {
             "colorbar": {
              "outlinewidth": 0,
              "ticks": ""
             }
            },
            "type": "scatterpolargl"
           }
          ],
          "scatterternary": [
           {
            "marker": {
             "colorbar": {
              "outlinewidth": 0,
              "ticks": ""
             }
            },
            "type": "scatterternary"
           }
          ],
          "surface": [
           {
            "colorbar": {
             "outlinewidth": 0,
             "ticks": ""
            },
            "colorscale": [
             [
              0,
              "#0d0887"
             ],
             [
              0.1111111111111111,
              "#46039f"
             ],
             [
              0.2222222222222222,
              "#7201a8"
             ],
             [
              0.3333333333333333,
              "#9c179e"
             ],
             [
              0.4444444444444444,
              "#bd3786"
             ],
             [
              0.5555555555555556,
              "#d8576b"
             ],
             [
              0.6666666666666666,
              "#ed7953"
             ],
             [
              0.7777777777777778,
              "#fb9f3a"
             ],
             [
              0.8888888888888888,
              "#fdca26"
             ],
             [
              1,
              "#f0f921"
             ]
            ],
            "type": "surface"
           }
          ],
          "table": [
           {
            "cells": {
             "fill": {
              "color": "#EBF0F8"
             },
             "line": {
              "color": "white"
             }
            },
            "header": {
             "fill": {
              "color": "#C8D4E3"
             },
             "line": {
              "color": "white"
             }
            },
            "type": "table"
           }
          ]
         },
         "layout": {
          "annotationdefaults": {
           "arrowcolor": "#2a3f5f",
           "arrowhead": 0,
           "arrowwidth": 1
          },
          "autotypenumbers": "strict",
          "coloraxis": {
           "colorbar": {
            "outlinewidth": 0,
            "ticks": ""
           }
          },
          "colorscale": {
           "diverging": [
            [
             0,
             "#8e0152"
            ],
            [
             0.1,
             "#c51b7d"
            ],
            [
             0.2,
             "#de77ae"
            ],
            [
             0.3,
             "#f1b6da"
            ],
            [
             0.4,
             "#fde0ef"
            ],
            [
             0.5,
             "#f7f7f7"
            ],
            [
             0.6,
             "#e6f5d0"
            ],
            [
             0.7,
             "#b8e186"
            ],
            [
             0.8,
             "#7fbc41"
            ],
            [
             0.9,
             "#4d9221"
            ],
            [
             1,
             "#276419"
            ]
           ],
           "sequential": [
            [
             0,
             "#0d0887"
            ],
            [
             0.1111111111111111,
             "#46039f"
            ],
            [
             0.2222222222222222,
             "#7201a8"
            ],
            [
             0.3333333333333333,
             "#9c179e"
            ],
            [
             0.4444444444444444,
             "#bd3786"
            ],
            [
             0.5555555555555556,
             "#d8576b"
            ],
            [
             0.6666666666666666,
             "#ed7953"
            ],
            [
             0.7777777777777778,
             "#fb9f3a"
            ],
            [
             0.8888888888888888,
             "#fdca26"
            ],
            [
             1,
             "#f0f921"
            ]
           ],
           "sequentialminus": [
            [
             0,
             "#0d0887"
            ],
            [
             0.1111111111111111,
             "#46039f"
            ],
            [
             0.2222222222222222,
             "#7201a8"
            ],
            [
             0.3333333333333333,
             "#9c179e"
            ],
            [
             0.4444444444444444,
             "#bd3786"
            ],
            [
             0.5555555555555556,
             "#d8576b"
            ],
            [
             0.6666666666666666,
             "#ed7953"
            ],
            [
             0.7777777777777778,
             "#fb9f3a"
            ],
            [
             0.8888888888888888,
             "#fdca26"
            ],
            [
             1,
             "#f0f921"
            ]
           ]
          },
          "colorway": [
           "#636efa",
           "#EF553B",
           "#00cc96",
           "#ab63fa",
           "#FFA15A",
           "#19d3f3",
           "#FF6692",
           "#B6E880",
           "#FF97FF",
           "#FECB52"
          ],
          "font": {
           "color": "#2a3f5f"
          },
          "geo": {
           "bgcolor": "white",
           "lakecolor": "white",
           "landcolor": "#E5ECF6",
           "showlakes": true,
           "showland": true,
           "subunitcolor": "white"
          },
          "hoverlabel": {
           "align": "left"
          },
          "hovermode": "closest",
          "mapbox": {
           "style": "light"
          },
          "paper_bgcolor": "white",
          "plot_bgcolor": "#E5ECF6",
          "polar": {
           "angularaxis": {
            "gridcolor": "white",
            "linecolor": "white",
            "ticks": ""
           },
           "bgcolor": "#E5ECF6",
           "radialaxis": {
            "gridcolor": "white",
            "linecolor": "white",
            "ticks": ""
           }
          },
          "scene": {
           "xaxis": {
            "backgroundcolor": "#E5ECF6",
            "gridcolor": "white",
            "gridwidth": 2,
            "linecolor": "white",
            "showbackground": true,
            "ticks": "",
            "zerolinecolor": "white"
           },
           "yaxis": {
            "backgroundcolor": "#E5ECF6",
            "gridcolor": "white",
            "gridwidth": 2,
            "linecolor": "white",
            "showbackground": true,
            "ticks": "",
            "zerolinecolor": "white"
           },
           "zaxis": {
            "backgroundcolor": "#E5ECF6",
            "gridcolor": "white",
            "gridwidth": 2,
            "linecolor": "white",
            "showbackground": true,
            "ticks": "",
            "zerolinecolor": "white"
           }
          },
          "shapedefaults": {
           "line": {
            "color": "#2a3f5f"
           }
          },
          "ternary": {
           "aaxis": {
            "gridcolor": "white",
            "linecolor": "white",
            "ticks": ""
           },
           "baxis": {
            "gridcolor": "white",
            "linecolor": "white",
            "ticks": ""
           },
           "bgcolor": "#E5ECF6",
           "caxis": {
            "gridcolor": "white",
            "linecolor": "white",
            "ticks": ""
           }
          },
          "title": {
           "x": 0.05
          },
          "xaxis": {
           "automargin": true,
           "gridcolor": "white",
           "linecolor": "white",
           "ticks": "",
           "title": {
            "standoff": 15
           },
           "zerolinecolor": "white",
           "zerolinewidth": 2
          },
          "yaxis": {
           "automargin": true,
           "gridcolor": "white",
           "linecolor": "white",
           "ticks": "",
           "title": {
            "standoff": 15
           },
           "zerolinecolor": "white",
           "zerolinewidth": 2
          }
         }
        },
        "width": 1500
       }
      }
     },
     "metadata": {}
    }
   ],
   "source": [
    "data = [go.Scatter(\n",
    "            x=df_sorted.date,\n",
    "            y=df_sorted.valor\n",
    "            )\n",
    "        ]\n",
    "\n",
    "layout = dict(\n",
    "    autosize=False,\n",
    "    width=1500,\n",
    "    height=900,\n",
    ")\n",
    "\n",
    "fig = dict(data=data, layout=layout)\n",
    "py.iplot(fig)"
   ]
  },
  {
   "cell_type": "code",
   "execution_count": 14,
   "metadata": {},
   "outputs": [
    {
     "output_type": "display_data",
     "data": {
      "application/vnd.plotly.v1+json": {
       "config": {
        "linkText": "Export to plot.ly",
        "plotlyServerURL": "https://plot.ly",
        "showLink": false
       },
       "data": [
        {
         "line": {
          "color": "#330000"
         },
         "name": "TAEE4 - div",
         "opacity": 0.8,
         "type": "scatter",
         "x": [
          "2013-08-19T00:00:00",
          "2014-02-14T00:00:00",
          "2014-08-18T00:00:00",
          "2015-12-02T00:00:00",
          "2015-12-08T00:00:00",
          "2016-02-23T00:00:00",
          "2016-11-08T00:00:00",
          "2017-02-16T00:00:00",
          "2017-10-08T00:00:00",
          "2018-02-22T00:00:00",
          "2018-09-08T00:00:00",
          "2018-11-12T00:00:00",
          "2019-02-14T00:00:00",
          "2019-09-08T00:00:00",
          "2020-02-13T00:00:00",
          "2020-09-01T00:00:00",
          "2020-12-08T00:00:00",
          "2021-11-02T00:00:00"
         ],
         "y": [
          0.4089,
          0.5806,
          0.5977,
          0.7956,
          0.8791,
          0.8334,
          0.8191,
          0.8358,
          0.781,
          0.9467,
          0.7809,
          1.3523,
          0.6772,
          0.8907,
          1.8984,
          1.3523,
          0.8753,
          0.4748
         ]
        },
        {
         "line": {
          "color": "#17BECF"
         },
         "name": "TAEE4 - Value",
         "opacity": 0.8,
         "type": "scatter",
         "x": [
          "2013-04-29T00:00:00",
          "2013-04-30T00:00:00",
          "2013-05-02T00:00:00",
          "2013-05-03T00:00:00",
          "2013-05-06T00:00:00",
          "2013-05-07T00:00:00",
          "2013-05-08T00:00:00",
          "2013-05-09T00:00:00",
          "2013-05-10T00:00:00",
          "2013-05-13T00:00:00",
          "2013-05-14T00:00:00",
          "2013-05-15T00:00:00",
          "2013-05-16T00:00:00",
          "2013-05-17T00:00:00",
          "2013-05-20T00:00:00",
          "2013-05-21T00:00:00",
          "2013-05-22T00:00:00",
          "2013-05-23T00:00:00",
          "2013-05-24T00:00:00",
          "2013-05-27T00:00:00",
          "2013-05-28T00:00:00",
          "2013-05-29T00:00:00",
          "2013-05-31T00:00:00",
          "2013-06-03T00:00:00",
          "2013-06-04T00:00:00",
          "2013-06-05T00:00:00",
          "2013-06-06T00:00:00",
          "2013-06-07T00:00:00",
          "2013-06-10T00:00:00",
          "2013-06-11T00:00:00",
          "2013-06-12T00:00:00",
          "2013-06-13T00:00:00",
          "2013-06-14T00:00:00",
          "2013-06-17T00:00:00",
          "2013-06-18T00:00:00",
          "2013-06-19T00:00:00",
          "2013-06-20T00:00:00",
          "2013-06-21T00:00:00",
          "2013-06-24T00:00:00",
          "2013-06-25T00:00:00",
          "2013-06-26T00:00:00",
          "2013-06-27T00:00:00",
          "2013-06-28T00:00:00",
          "2013-07-01T00:00:00",
          "2013-07-02T00:00:00",
          "2013-07-03T00:00:00",
          "2013-07-04T00:00:00",
          "2013-07-05T00:00:00",
          "2013-07-08T00:00:00",
          "2013-07-10T00:00:00",
          "2013-07-11T00:00:00",
          "2013-07-12T00:00:00",
          "2013-07-15T00:00:00",
          "2013-07-16T00:00:00",
          "2013-07-17T00:00:00",
          "2013-07-18T00:00:00",
          "2013-07-19T00:00:00",
          "2013-07-22T00:00:00",
          "2013-07-23T00:00:00",
          "2013-07-24T00:00:00",
          "2013-07-25T00:00:00",
          "2013-07-26T00:00:00",
          "2013-07-29T00:00:00",
          "2013-07-30T00:00:00",
          "2013-07-31T00:00:00",
          "2013-08-01T00:00:00",
          "2013-08-02T00:00:00",
          "2013-08-05T00:00:00",
          "2013-08-06T00:00:00",
          "2013-08-07T00:00:00",
          "2013-08-08T00:00:00",
          "2013-08-09T00:00:00",
          "2013-08-12T00:00:00",
          "2013-08-13T00:00:00",
          "2013-08-14T00:00:00",
          "2013-08-15T00:00:00",
          "2013-08-16T00:00:00",
          "2013-08-19T00:00:00",
          "2013-08-20T00:00:00",
          "2013-08-21T00:00:00",
          "2013-08-22T00:00:00",
          "2013-08-23T00:00:00",
          "2013-08-26T00:00:00",
          "2013-08-27T00:00:00",
          "2013-08-28T00:00:00",
          "2013-08-29T00:00:00",
          "2013-08-30T00:00:00",
          "2013-09-02T00:00:00",
          "2013-09-03T00:00:00",
          "2013-09-04T00:00:00",
          "2013-09-05T00:00:00",
          "2013-09-06T00:00:00",
          "2013-09-09T00:00:00",
          "2013-09-10T00:00:00",
          "2013-09-11T00:00:00",
          "2013-09-12T00:00:00",
          "2013-09-13T00:00:00",
          "2013-09-16T00:00:00",
          "2013-09-17T00:00:00",
          "2013-09-18T00:00:00",
          "2013-09-19T00:00:00",
          "2013-09-20T00:00:00",
          "2013-09-23T00:00:00",
          "2013-09-24T00:00:00",
          "2013-09-25T00:00:00",
          "2013-09-26T00:00:00",
          "2013-09-27T00:00:00",
          "2013-09-30T00:00:00",
          "2013-10-01T00:00:00",
          "2013-10-02T00:00:00",
          "2013-10-03T00:00:00",
          "2013-10-04T00:00:00",
          "2013-10-07T00:00:00",
          "2013-10-08T00:00:00",
          "2013-10-09T00:00:00",
          "2013-10-10T00:00:00",
          "2013-10-11T00:00:00",
          "2013-10-14T00:00:00",
          "2013-10-15T00:00:00",
          "2013-10-16T00:00:00",
          "2013-10-17T00:00:00",
          "2013-10-18T00:00:00",
          "2013-10-21T00:00:00",
          "2013-10-22T00:00:00",
          "2013-10-23T00:00:00",
          "2013-10-24T00:00:00",
          "2013-10-25T00:00:00",
          "2013-10-28T00:00:00",
          "2013-10-29T00:00:00",
          "2013-10-30T00:00:00",
          "2013-10-31T00:00:00",
          "2013-11-01T00:00:00",
          "2013-11-04T00:00:00",
          "2013-11-05T00:00:00",
          "2013-11-06T00:00:00",
          "2013-11-07T00:00:00",
          "2013-11-08T00:00:00",
          "2013-11-11T00:00:00",
          "2013-11-12T00:00:00",
          "2013-11-13T00:00:00",
          "2013-11-14T00:00:00",
          "2013-11-18T00:00:00",
          "2013-11-19T00:00:00",
          "2013-11-21T00:00:00",
          "2013-11-22T00:00:00",
          "2013-11-25T00:00:00",
          "2013-11-26T00:00:00",
          "2013-11-27T00:00:00",
          "2013-11-28T00:00:00",
          "2013-11-29T00:00:00",
          "2013-12-02T00:00:00",
          "2013-12-03T00:00:00",
          "2013-12-04T00:00:00",
          "2013-12-05T00:00:00",
          "2013-12-06T00:00:00",
          "2013-12-09T00:00:00",
          "2013-12-10T00:00:00",
          "2013-12-11T00:00:00",
          "2013-12-12T00:00:00",
          "2013-12-13T00:00:00",
          "2013-12-16T00:00:00",
          "2013-12-17T00:00:00",
          "2013-12-18T00:00:00",
          "2013-12-19T00:00:00",
          "2013-12-20T00:00:00",
          "2013-12-23T00:00:00",
          "2013-12-26T00:00:00",
          "2013-12-27T00:00:00",
          "2013-12-30T00:00:00",
          "2014-01-02T00:00:00",
          "2014-01-03T00:00:00",
          "2014-01-06T00:00:00",
          "2014-01-07T00:00:00",
          "2014-01-08T00:00:00",
          "2014-01-09T00:00:00",
          "2014-01-10T00:00:00",
          "2014-01-13T00:00:00",
          "2014-01-14T00:00:00",
          "2014-01-15T00:00:00",
          "2014-01-16T00:00:00",
          "2014-01-17T00:00:00",
          "2014-01-20T00:00:00",
          "2014-01-21T00:00:00",
          "2014-01-22T00:00:00",
          "2014-01-23T00:00:00",
          "2014-01-24T00:00:00",
          "2014-01-27T00:00:00",
          "2014-01-28T00:00:00",
          "2014-01-29T00:00:00",
          "2014-01-30T00:00:00",
          "2014-01-31T00:00:00",
          "2014-02-03T00:00:00",
          "2014-02-04T00:00:00",
          "2014-02-05T00:00:00",
          "2014-02-06T00:00:00",
          "2014-02-07T00:00:00",
          "2014-02-10T00:00:00",
          "2014-02-11T00:00:00",
          "2014-02-12T00:00:00",
          "2014-02-13T00:00:00",
          "2014-02-14T00:00:00",
          "2014-02-17T00:00:00",
          "2014-02-18T00:00:00",
          "2014-02-19T00:00:00",
          "2014-02-20T00:00:00",
          "2014-02-21T00:00:00",
          "2014-02-24T00:00:00",
          "2014-02-25T00:00:00",
          "2014-02-26T00:00:00",
          "2014-02-27T00:00:00",
          "2014-02-28T00:00:00",
          "2014-03-05T00:00:00",
          "2014-03-06T00:00:00",
          "2014-03-07T00:00:00",
          "2014-03-10T00:00:00",
          "2014-03-11T00:00:00",
          "2014-03-12T00:00:00",
          "2014-03-13T00:00:00",
          "2014-03-14T00:00:00",
          "2014-03-17T00:00:00",
          "2014-03-18T00:00:00",
          "2014-03-19T00:00:00",
          "2014-03-20T00:00:00",
          "2014-03-21T00:00:00",
          "2014-03-24T00:00:00",
          "2014-03-25T00:00:00",
          "2014-03-26T00:00:00",
          "2014-03-27T00:00:00",
          "2014-03-28T00:00:00",
          "2014-03-31T00:00:00",
          "2014-04-01T00:00:00",
          "2014-04-02T00:00:00",
          "2014-04-03T00:00:00",
          "2014-04-04T00:00:00",
          "2014-04-07T00:00:00",
          "2014-04-08T00:00:00",
          "2014-04-09T00:00:00",
          "2014-04-10T00:00:00",
          "2014-04-11T00:00:00",
          "2014-04-14T00:00:00",
          "2014-04-15T00:00:00",
          "2014-04-16T00:00:00",
          "2014-04-17T00:00:00",
          "2014-04-22T00:00:00",
          "2014-04-23T00:00:00",
          "2014-04-24T00:00:00",
          "2014-04-25T00:00:00",
          "2014-04-28T00:00:00",
          "2014-04-29T00:00:00",
          "2014-04-30T00:00:00",
          "2014-05-02T00:00:00",
          "2014-05-05T00:00:00",
          "2014-05-06T00:00:00",
          "2014-05-07T00:00:00",
          "2014-05-08T00:00:00",
          "2014-05-09T00:00:00",
          "2014-05-12T00:00:00",
          "2014-05-13T00:00:00",
          "2014-05-14T00:00:00",
          "2014-05-15T00:00:00",
          "2014-05-16T00:00:00",
          "2014-05-19T00:00:00",
          "2014-05-20T00:00:00",
          "2014-05-21T00:00:00",
          "2014-05-22T00:00:00",
          "2014-05-23T00:00:00",
          "2014-05-26T00:00:00",
          "2014-05-27T00:00:00",
          "2014-05-28T00:00:00",
          "2014-05-29T00:00:00",
          "2014-05-30T00:00:00",
          "2014-06-02T00:00:00",
          "2014-06-03T00:00:00",
          "2014-06-04T00:00:00",
          "2014-06-05T00:00:00",
          "2014-06-06T00:00:00",
          "2014-06-09T00:00:00",
          "2014-06-10T00:00:00",
          "2014-06-11T00:00:00",
          "2014-06-13T00:00:00",
          "2014-06-16T00:00:00",
          "2014-06-17T00:00:00",
          "2014-06-18T00:00:00",
          "2014-06-20T00:00:00",
          "2014-06-23T00:00:00",
          "2014-06-24T00:00:00",
          "2014-06-25T00:00:00",
          "2014-06-26T00:00:00",
          "2014-06-27T00:00:00",
          "2014-06-30T00:00:00",
          "2014-07-01T00:00:00",
          "2014-07-02T00:00:00",
          "2014-07-03T00:00:00",
          "2014-07-04T00:00:00",
          "2014-07-07T00:00:00",
          "2014-07-08T00:00:00",
          "2014-07-10T00:00:00",
          "2014-07-11T00:00:00",
          "2014-07-14T00:00:00",
          "2014-07-15T00:00:00",
          "2014-07-16T00:00:00",
          "2014-07-17T00:00:00",
          "2014-07-18T00:00:00",
          "2014-07-21T00:00:00",
          "2014-07-22T00:00:00",
          "2014-07-23T00:00:00",
          "2014-07-24T00:00:00",
          "2014-07-25T00:00:00",
          "2014-07-28T00:00:00",
          "2014-07-29T00:00:00",
          "2014-07-30T00:00:00",
          "2014-07-31T00:00:00",
          "2014-08-01T00:00:00",
          "2014-08-04T00:00:00",
          "2014-08-05T00:00:00",
          "2014-08-06T00:00:00",
          "2014-08-07T00:00:00",
          "2014-08-08T00:00:00",
          "2014-08-11T00:00:00",
          "2014-08-12T00:00:00",
          "2014-08-13T00:00:00",
          "2014-08-14T00:00:00",
          "2014-08-15T00:00:00",
          "2014-08-18T00:00:00",
          "2014-08-19T00:00:00",
          "2014-08-20T00:00:00",
          "2014-08-21T00:00:00",
          "2014-08-22T00:00:00",
          "2014-08-25T00:00:00",
          "2014-08-26T00:00:00",
          "2014-08-27T00:00:00",
          "2014-08-28T00:00:00",
          "2014-08-29T00:00:00",
          "2014-09-01T00:00:00",
          "2014-09-02T00:00:00",
          "2014-09-03T00:00:00",
          "2014-09-04T00:00:00",
          "2014-09-05T00:00:00",
          "2014-09-08T00:00:00",
          "2014-09-09T00:00:00",
          "2014-09-10T00:00:00",
          "2014-09-11T00:00:00",
          "2014-09-12T00:00:00",
          "2014-09-15T00:00:00",
          "2014-09-16T00:00:00",
          "2014-09-17T00:00:00",
          "2014-09-18T00:00:00",
          "2014-09-19T00:00:00",
          "2014-09-22T00:00:00",
          "2014-09-23T00:00:00",
          "2014-09-24T00:00:00",
          "2014-09-25T00:00:00",
          "2014-09-26T00:00:00",
          "2014-09-29T00:00:00",
          "2014-09-30T00:00:00",
          "2014-10-01T00:00:00",
          "2014-10-02T00:00:00",
          "2014-10-03T00:00:00",
          "2014-10-06T00:00:00",
          "2014-10-07T00:00:00",
          "2014-10-08T00:00:00",
          "2014-10-09T00:00:00",
          "2014-10-10T00:00:00",
          "2014-10-13T00:00:00",
          "2014-10-14T00:00:00",
          "2014-10-15T00:00:00",
          "2014-10-16T00:00:00",
          "2014-10-17T00:00:00",
          "2014-10-20T00:00:00",
          "2014-10-21T00:00:00",
          "2014-10-22T00:00:00",
          "2014-10-23T00:00:00",
          "2014-10-24T00:00:00",
          "2014-10-27T00:00:00",
          "2014-10-28T00:00:00",
          "2014-10-29T00:00:00",
          "2014-10-30T00:00:00",
          "2014-10-31T00:00:00",
          "2014-11-03T00:00:00",
          "2014-11-04T00:00:00",
          "2014-11-05T00:00:00",
          "2014-11-06T00:00:00",
          "2014-11-07T00:00:00",
          "2014-11-10T00:00:00",
          "2014-11-11T00:00:00",
          "2014-11-12T00:00:00",
          "2014-11-13T00:00:00",
          "2014-11-14T00:00:00",
          "2014-11-17T00:00:00",
          "2014-11-18T00:00:00",
          "2014-11-19T00:00:00",
          "2014-11-21T00:00:00",
          "2014-11-24T00:00:00",
          "2014-11-25T00:00:00",
          "2014-11-26T00:00:00",
          "2014-11-27T00:00:00",
          "2014-11-28T00:00:00",
          "2014-12-01T00:00:00",
          "2014-12-02T00:00:00",
          "2014-12-03T00:00:00",
          "2014-12-04T00:00:00",
          "2014-12-05T00:00:00",
          "2014-12-08T00:00:00",
          "2014-12-09T00:00:00",
          "2014-12-10T00:00:00",
          "2014-12-11T00:00:00",
          "2014-12-12T00:00:00",
          "2014-12-15T00:00:00",
          "2014-12-16T00:00:00",
          "2014-12-17T00:00:00",
          "2014-12-18T00:00:00",
          "2014-12-19T00:00:00",
          "2014-12-22T00:00:00",
          "2014-12-23T00:00:00",
          "2014-12-26T00:00:00",
          "2014-12-29T00:00:00",
          "2014-12-30T00:00:00",
          "2015-01-02T00:00:00",
          "2015-01-05T00:00:00",
          "2015-01-06T00:00:00",
          "2015-01-07T00:00:00",
          "2015-01-08T00:00:00",
          "2015-01-09T00:00:00",
          "2015-01-12T00:00:00",
          "2015-01-13T00:00:00",
          "2015-01-14T00:00:00",
          "2015-01-15T00:00:00",
          "2015-01-16T00:00:00",
          "2015-01-19T00:00:00",
          "2015-01-20T00:00:00",
          "2015-01-21T00:00:00",
          "2015-01-22T00:00:00",
          "2015-01-23T00:00:00",
          "2015-01-26T00:00:00",
          "2015-01-27T00:00:00",
          "2015-01-28T00:00:00",
          "2015-01-29T00:00:00",
          "2015-01-30T00:00:00",
          "2015-02-02T00:00:00",
          "2015-02-03T00:00:00",
          "2015-02-04T00:00:00",
          "2015-02-05T00:00:00",
          "2015-02-06T00:00:00",
          "2015-02-09T00:00:00",
          "2015-02-10T00:00:00",
          "2015-02-11T00:00:00",
          "2015-02-12T00:00:00",
          "2015-02-13T00:00:00",
          "2015-02-18T00:00:00",
          "2015-02-19T00:00:00",
          "2015-02-20T00:00:00",
          "2015-02-23T00:00:00",
          "2015-02-24T00:00:00",
          "2015-02-25T00:00:00",
          "2015-02-26T00:00:00",
          "2015-02-27T00:00:00",
          "2015-03-02T00:00:00",
          "2015-03-03T00:00:00",
          "2015-03-04T00:00:00",
          "2015-03-05T00:00:00",
          "2015-03-06T00:00:00",
          "2015-03-09T00:00:00",
          "2015-03-10T00:00:00",
          "2015-03-11T00:00:00",
          "2015-03-12T00:00:00",
          "2015-03-13T00:00:00",
          "2015-03-16T00:00:00",
          "2015-03-17T00:00:00",
          "2015-03-18T00:00:00",
          "2015-03-19T00:00:00",
          "2015-03-20T00:00:00",
          "2015-03-23T00:00:00",
          "2015-03-24T00:00:00",
          "2015-03-25T00:00:00",
          "2015-03-26T00:00:00",
          "2015-03-27T00:00:00",
          "2015-03-30T00:00:00",
          "2015-03-31T00:00:00",
          "2015-04-01T00:00:00",
          "2015-04-02T00:00:00",
          "2015-04-06T00:00:00",
          "2015-04-07T00:00:00",
          "2015-04-08T00:00:00",
          "2015-04-09T00:00:00",
          "2015-04-10T00:00:00",
          "2015-04-13T00:00:00",
          "2015-04-14T00:00:00",
          "2015-04-15T00:00:00",
          "2015-04-16T00:00:00",
          "2015-04-17T00:00:00",
          "2015-04-20T00:00:00",
          "2015-04-22T00:00:00",
          "2015-04-23T00:00:00",
          "2015-04-24T00:00:00",
          "2015-04-27T00:00:00",
          "2015-04-28T00:00:00",
          "2015-04-29T00:00:00",
          "2015-04-30T00:00:00",
          "2015-05-04T00:00:00",
          "2015-05-05T00:00:00",
          "2015-05-06T00:00:00",
          "2015-05-07T00:00:00",
          "2015-05-08T00:00:00",
          "2015-05-11T00:00:00",
          "2015-05-12T00:00:00",
          "2015-05-13T00:00:00",
          "2015-05-14T00:00:00",
          "2015-05-15T00:00:00",
          "2015-05-18T00:00:00",
          "2015-05-19T00:00:00",
          "2015-05-20T00:00:00",
          "2015-05-21T00:00:00",
          "2015-05-22T00:00:00",
          "2015-05-25T00:00:00",
          "2015-05-26T00:00:00",
          "2015-05-27T00:00:00",
          "2015-05-28T00:00:00",
          "2015-05-29T00:00:00",
          "2015-06-01T00:00:00",
          "2015-06-02T00:00:00",
          "2015-06-03T00:00:00",
          "2015-06-05T00:00:00",
          "2015-06-08T00:00:00",
          "2015-06-09T00:00:00",
          "2015-06-10T00:00:00",
          "2015-06-11T00:00:00",
          "2015-06-12T00:00:00",
          "2015-06-15T00:00:00",
          "2015-06-16T00:00:00",
          "2015-06-17T00:00:00",
          "2015-06-18T00:00:00",
          "2015-06-19T00:00:00",
          "2015-06-22T00:00:00",
          "2015-06-23T00:00:00",
          "2015-06-24T00:00:00",
          "2015-06-25T00:00:00",
          "2015-06-26T00:00:00",
          "2015-06-29T00:00:00",
          "2015-06-30T00:00:00",
          "2015-07-01T00:00:00",
          "2015-07-02T00:00:00",
          "2015-07-03T00:00:00",
          "2015-07-06T00:00:00",
          "2015-07-07T00:00:00",
          "2015-07-08T00:00:00",
          "2015-07-10T00:00:00",
          "2015-07-13T00:00:00",
          "2015-07-14T00:00:00",
          "2015-07-15T00:00:00",
          "2015-07-16T00:00:00",
          "2015-07-17T00:00:00",
          "2015-07-20T00:00:00",
          "2015-07-21T00:00:00",
          "2015-07-22T00:00:00",
          "2015-07-23T00:00:00",
          "2015-07-24T00:00:00",
          "2015-07-27T00:00:00",
          "2015-07-28T00:00:00",
          "2015-07-29T00:00:00",
          "2015-07-30T00:00:00",
          "2015-07-31T00:00:00",
          "2015-08-03T00:00:00",
          "2015-08-04T00:00:00",
          "2015-08-05T00:00:00",
          "2015-08-06T00:00:00",
          "2015-08-07T00:00:00",
          "2015-08-10T00:00:00",
          "2015-08-11T00:00:00",
          "2015-08-12T00:00:00",
          "2015-08-13T00:00:00",
          "2015-08-14T00:00:00",
          "2015-08-17T00:00:00",
          "2015-08-18T00:00:00",
          "2015-08-19T00:00:00",
          "2015-08-20T00:00:00",
          "2015-08-21T00:00:00",
          "2015-08-24T00:00:00",
          "2015-08-25T00:00:00",
          "2015-08-26T00:00:00",
          "2015-08-27T00:00:00",
          "2015-08-28T00:00:00",
          "2015-08-31T00:00:00",
          "2015-09-01T00:00:00",
          "2015-09-02T00:00:00",
          "2015-09-03T00:00:00",
          "2015-09-04T00:00:00",
          "2015-09-08T00:00:00",
          "2015-09-09T00:00:00",
          "2015-09-10T00:00:00",
          "2015-09-11T00:00:00",
          "2015-09-14T00:00:00",
          "2015-09-15T00:00:00",
          "2015-09-16T00:00:00",
          "2015-09-17T00:00:00",
          "2015-09-18T00:00:00",
          "2015-09-21T00:00:00",
          "2015-09-22T00:00:00",
          "2015-09-23T00:00:00",
          "2015-09-24T00:00:00",
          "2015-09-25T00:00:00",
          "2015-09-28T00:00:00",
          "2015-09-29T00:00:00",
          "2015-09-30T00:00:00",
          "2015-10-01T00:00:00",
          "2015-10-02T00:00:00",
          "2015-10-05T00:00:00",
          "2015-10-06T00:00:00",
          "2015-10-07T00:00:00",
          "2015-10-08T00:00:00",
          "2015-10-09T00:00:00",
          "2015-10-13T00:00:00",
          "2015-10-14T00:00:00",
          "2015-10-15T00:00:00",
          "2015-10-16T00:00:00",
          "2015-10-19T00:00:00",
          "2015-10-20T00:00:00",
          "2015-10-21T00:00:00",
          "2015-10-22T00:00:00",
          "2015-10-23T00:00:00",
          "2015-10-26T00:00:00",
          "2015-10-27T00:00:00",
          "2015-10-28T00:00:00",
          "2015-10-29T00:00:00",
          "2015-10-30T00:00:00",
          "2015-11-03T00:00:00",
          "2015-11-04T00:00:00",
          "2015-11-05T00:00:00",
          "2015-11-06T00:00:00",
          "2015-11-09T00:00:00",
          "2015-11-10T00:00:00",
          "2015-11-11T00:00:00",
          "2015-11-12T00:00:00",
          "2015-11-13T00:00:00",
          "2015-11-16T00:00:00",
          "2015-11-17T00:00:00",
          "2015-11-18T00:00:00",
          "2015-11-19T00:00:00",
          "2015-11-23T00:00:00",
          "2015-11-24T00:00:00",
          "2015-11-25T00:00:00",
          "2015-11-26T00:00:00",
          "2015-11-27T00:00:00",
          "2015-11-30T00:00:00",
          "2015-12-01T00:00:00",
          "2015-12-02T00:00:00",
          "2015-12-03T00:00:00",
          "2015-12-04T00:00:00",
          "2015-12-07T00:00:00",
          "2015-12-08T00:00:00",
          "2015-12-09T00:00:00",
          "2015-12-10T00:00:00",
          "2015-12-11T00:00:00",
          "2015-12-14T00:00:00",
          "2015-12-15T00:00:00",
          "2015-12-16T00:00:00",
          "2015-12-17T00:00:00",
          "2015-12-18T00:00:00",
          "2015-12-21T00:00:00",
          "2015-12-22T00:00:00",
          "2015-12-23T00:00:00",
          "2015-12-28T00:00:00",
          "2015-12-29T00:00:00",
          "2015-12-30T00:00:00",
          "2016-01-04T00:00:00",
          "2016-01-05T00:00:00",
          "2016-01-06T00:00:00",
          "2016-01-07T00:00:00",
          "2016-01-08T00:00:00",
          "2016-01-11T00:00:00",
          "2016-01-12T00:00:00",
          "2016-01-13T00:00:00",
          "2016-01-14T00:00:00",
          "2016-01-15T00:00:00",
          "2016-01-18T00:00:00",
          "2016-01-19T00:00:00",
          "2016-01-20T00:00:00",
          "2016-01-21T00:00:00",
          "2016-01-22T00:00:00",
          "2016-01-26T00:00:00",
          "2016-01-27T00:00:00",
          "2016-01-28T00:00:00",
          "2016-01-29T00:00:00",
          "2016-02-01T00:00:00",
          "2016-02-02T00:00:00",
          "2016-02-03T00:00:00",
          "2016-02-04T00:00:00",
          "2016-02-05T00:00:00",
          "2016-02-10T00:00:00",
          "2016-02-11T00:00:00",
          "2016-02-12T00:00:00",
          "2016-02-15T00:00:00",
          "2016-02-16T00:00:00",
          "2016-02-17T00:00:00",
          "2016-02-18T00:00:00",
          "2016-02-19T00:00:00",
          "2016-02-22T00:00:00",
          "2016-02-23T00:00:00",
          "2016-02-24T00:00:00",
          "2016-02-25T00:00:00",
          "2016-02-26T00:00:00",
          "2016-02-29T00:00:00",
          "2016-03-01T00:00:00",
          "2016-03-02T00:00:00",
          "2016-03-03T00:00:00",
          "2016-03-04T00:00:00",
          "2016-03-07T00:00:00",
          "2016-03-08T00:00:00",
          "2016-03-09T00:00:00",
          "2016-03-10T00:00:00",
          "2016-03-11T00:00:00",
          "2016-03-14T00:00:00",
          "2016-03-15T00:00:00",
          "2016-03-16T00:00:00",
          "2016-03-17T00:00:00",
          "2016-03-18T00:00:00",
          "2016-03-21T00:00:00",
          "2016-03-22T00:00:00",
          "2016-03-23T00:00:00",
          "2016-03-24T00:00:00",
          "2016-03-28T00:00:00",
          "2016-03-29T00:00:00",
          "2016-03-30T00:00:00",
          "2016-03-31T00:00:00",
          "2016-04-01T00:00:00",
          "2016-04-04T00:00:00",
          "2016-04-05T00:00:00",
          "2016-04-06T00:00:00",
          "2016-04-07T00:00:00",
          "2016-04-08T00:00:00",
          "2016-04-11T00:00:00",
          "2016-04-12T00:00:00",
          "2016-04-13T00:00:00",
          "2016-04-14T00:00:00",
          "2016-04-15T00:00:00",
          "2016-04-18T00:00:00",
          "2016-04-19T00:00:00",
          "2016-04-20T00:00:00",
          "2016-04-22T00:00:00",
          "2016-04-25T00:00:00",
          "2016-04-26T00:00:00",
          "2016-04-27T00:00:00",
          "2016-04-28T00:00:00",
          "2016-04-29T00:00:00",
          "2016-05-02T00:00:00",
          "2016-05-03T00:00:00",
          "2016-05-04T00:00:00",
          "2016-05-05T00:00:00",
          "2016-05-06T00:00:00",
          "2016-05-09T00:00:00",
          "2016-05-10T00:00:00",
          "2016-05-11T00:00:00",
          "2016-05-12T00:00:00",
          "2016-05-13T00:00:00",
          "2016-05-16T00:00:00",
          "2016-05-17T00:00:00",
          "2016-05-18T00:00:00",
          "2016-05-19T00:00:00",
          "2016-05-20T00:00:00",
          "2016-05-23T00:00:00",
          "2016-05-24T00:00:00",
          "2016-05-25T00:00:00",
          "2016-05-27T00:00:00",
          "2016-05-30T00:00:00",
          "2016-05-31T00:00:00",
          "2016-06-01T00:00:00",
          "2016-06-02T00:00:00",
          "2016-06-03T00:00:00",
          "2016-06-06T00:00:00",
          "2016-06-07T00:00:00",
          "2016-06-08T00:00:00",
          "2016-06-09T00:00:00",
          "2016-06-10T00:00:00",
          "2016-06-13T00:00:00",
          "2016-06-14T00:00:00",
          "2016-06-15T00:00:00",
          "2016-06-16T00:00:00",
          "2016-06-17T00:00:00",
          "2016-06-20T00:00:00",
          "2016-06-21T00:00:00",
          "2016-06-22T00:00:00",
          "2016-06-23T00:00:00",
          "2016-06-24T00:00:00",
          "2016-06-27T00:00:00",
          "2016-06-28T00:00:00",
          "2016-06-29T00:00:00",
          "2016-06-30T00:00:00",
          "2016-07-01T00:00:00",
          "2016-07-04T00:00:00",
          "2016-07-05T00:00:00",
          "2016-07-06T00:00:00",
          "2016-07-07T00:00:00",
          "2016-07-08T00:00:00",
          "2016-07-11T00:00:00",
          "2016-07-12T00:00:00",
          "2016-07-13T00:00:00",
          "2016-07-14T00:00:00",
          "2016-07-15T00:00:00",
          "2016-07-18T00:00:00",
          "2016-07-19T00:00:00",
          "2016-07-20T00:00:00",
          "2016-07-21T00:00:00",
          "2016-07-22T00:00:00",
          "2016-07-25T00:00:00",
          "2016-07-26T00:00:00",
          "2016-07-27T00:00:00",
          "2016-07-28T00:00:00",
          "2016-07-29T00:00:00",
          "2016-08-01T00:00:00",
          "2016-08-02T00:00:00",
          "2016-08-03T00:00:00",
          "2016-08-04T00:00:00",
          "2016-08-05T00:00:00",
          "2016-08-08T00:00:00",
          "2016-08-09T00:00:00",
          "2016-08-10T00:00:00",
          "2016-08-11T00:00:00",
          "2016-08-12T00:00:00",
          "2016-08-15T00:00:00",
          "2016-08-16T00:00:00",
          "2016-08-17T00:00:00",
          "2016-08-18T00:00:00",
          "2016-08-19T00:00:00",
          "2016-08-22T00:00:00",
          "2016-08-23T00:00:00",
          "2016-08-24T00:00:00",
          "2016-08-25T00:00:00",
          "2016-08-26T00:00:00",
          "2016-08-29T00:00:00",
          "2016-08-30T00:00:00",
          "2016-08-31T00:00:00",
          "2016-09-01T00:00:00",
          "2016-09-02T00:00:00",
          "2016-09-05T00:00:00",
          "2016-09-06T00:00:00",
          "2016-09-08T00:00:00",
          "2016-09-09T00:00:00",
          "2016-09-12T00:00:00",
          "2016-09-13T00:00:00",
          "2016-09-14T00:00:00",
          "2016-09-15T00:00:00",
          "2016-09-16T00:00:00",
          "2016-09-19T00:00:00",
          "2016-09-20T00:00:00",
          "2016-09-21T00:00:00",
          "2016-09-22T00:00:00",
          "2016-09-23T00:00:00",
          "2016-09-26T00:00:00",
          "2016-09-27T00:00:00",
          "2016-09-28T00:00:00",
          "2016-09-29T00:00:00",
          "2016-09-30T00:00:00",
          "2016-10-03T00:00:00",
          "2016-10-04T00:00:00",
          "2016-10-05T00:00:00",
          "2016-10-06T00:00:00",
          "2016-10-07T00:00:00",
          "2016-10-10T00:00:00",
          "2016-10-11T00:00:00",
          "2016-10-13T00:00:00",
          "2016-10-14T00:00:00",
          "2016-10-17T00:00:00",
          "2016-10-18T00:00:00",
          "2016-10-19T00:00:00",
          "2016-10-20T00:00:00",
          "2016-10-21T00:00:00",
          "2016-10-24T00:00:00",
          "2016-10-25T00:00:00",
          "2016-10-26T00:00:00",
          "2016-10-27T00:00:00",
          "2016-10-28T00:00:00",
          "2016-10-31T00:00:00",
          "2016-11-01T00:00:00",
          "2016-11-03T00:00:00",
          "2016-11-04T00:00:00",
          "2016-11-07T00:00:00",
          "2016-11-08T00:00:00",
          "2016-11-09T00:00:00",
          "2016-11-10T00:00:00",
          "2016-11-11T00:00:00",
          "2016-11-14T00:00:00",
          "2016-11-16T00:00:00",
          "2016-11-17T00:00:00",
          "2016-11-18T00:00:00",
          "2016-11-21T00:00:00",
          "2016-11-22T00:00:00",
          "2016-11-23T00:00:00",
          "2016-11-24T00:00:00",
          "2016-11-25T00:00:00",
          "2016-11-28T00:00:00",
          "2016-11-29T00:00:00",
          "2016-11-30T00:00:00",
          "2016-12-01T00:00:00",
          "2016-12-02T00:00:00",
          "2016-12-05T00:00:00",
          "2016-12-06T00:00:00",
          "2016-12-07T00:00:00",
          "2016-12-08T00:00:00",
          "2016-12-09T00:00:00",
          "2016-12-12T00:00:00",
          "2016-12-13T00:00:00",
          "2016-12-14T00:00:00",
          "2016-12-15T00:00:00",
          "2016-12-16T00:00:00",
          "2016-12-19T00:00:00",
          "2016-12-20T00:00:00",
          "2016-12-21T00:00:00",
          "2016-12-22T00:00:00",
          "2016-12-23T00:00:00",
          "2016-12-26T00:00:00",
          "2016-12-27T00:00:00",
          "2016-12-28T00:00:00",
          "2016-12-29T00:00:00",
          "2017-01-02T00:00:00",
          "2017-01-03T00:00:00",
          "2017-01-04T00:00:00",
          "2017-01-05T00:00:00",
          "2017-01-06T00:00:00",
          "2017-01-09T00:00:00",
          "2017-01-10T00:00:00",
          "2017-01-11T00:00:00",
          "2017-01-12T00:00:00",
          "2017-01-13T00:00:00",
          "2017-01-16T00:00:00",
          "2017-01-17T00:00:00",
          "2017-01-18T00:00:00",
          "2017-01-19T00:00:00",
          "2017-01-20T00:00:00",
          "2017-01-23T00:00:00",
          "2017-01-24T00:00:00",
          "2017-01-26T00:00:00",
          "2017-01-27T00:00:00",
          "2017-01-30T00:00:00",
          "2017-01-31T00:00:00",
          "2017-02-01T00:00:00",
          "2017-02-02T00:00:00",
          "2017-02-03T00:00:00",
          "2017-02-06T00:00:00",
          "2017-02-07T00:00:00",
          "2017-02-08T00:00:00",
          "2017-02-09T00:00:00",
          "2017-02-10T00:00:00",
          "2017-02-13T00:00:00",
          "2017-02-14T00:00:00",
          "2017-02-15T00:00:00",
          "2017-02-16T00:00:00",
          "2017-02-17T00:00:00",
          "2017-02-20T00:00:00",
          "2017-02-21T00:00:00",
          "2017-02-22T00:00:00",
          "2017-02-23T00:00:00",
          "2017-02-24T00:00:00",
          "2017-03-01T00:00:00",
          "2017-03-02T00:00:00",
          "2017-03-03T00:00:00",
          "2017-03-06T00:00:00",
          "2017-03-07T00:00:00",
          "2017-03-08T00:00:00",
          "2017-03-09T00:00:00",
          "2017-03-10T00:00:00",
          "2017-03-13T00:00:00",
          "2017-03-14T00:00:00",
          "2017-03-15T00:00:00",
          "2017-03-16T00:00:00",
          "2017-03-17T00:00:00",
          "2017-03-20T00:00:00",
          "2017-03-21T00:00:00",
          "2017-03-22T00:00:00",
          "2017-03-23T00:00:00",
          "2017-03-24T00:00:00",
          "2017-03-27T00:00:00",
          "2017-03-28T00:00:00",
          "2017-03-29T00:00:00",
          "2017-03-30T00:00:00",
          "2017-03-31T00:00:00",
          "2017-04-03T00:00:00",
          "2017-04-04T00:00:00",
          "2017-04-05T00:00:00",
          "2017-04-06T00:00:00",
          "2017-04-07T00:00:00",
          "2017-04-10T00:00:00",
          "2017-04-11T00:00:00",
          "2017-04-12T00:00:00",
          "2017-04-13T00:00:00",
          "2017-04-17T00:00:00",
          "2017-04-18T00:00:00",
          "2017-04-19T00:00:00",
          "2017-04-20T00:00:00",
          "2017-04-24T00:00:00",
          "2017-04-25T00:00:00",
          "2017-04-26T00:00:00",
          "2017-04-27T00:00:00",
          "2017-04-28T00:00:00",
          "2017-05-02T00:00:00",
          "2017-05-03T00:00:00",
          "2017-05-04T00:00:00",
          "2017-05-05T00:00:00",
          "2017-05-08T00:00:00",
          "2017-05-09T00:00:00",
          "2017-05-10T00:00:00",
          "2017-05-11T00:00:00",
          "2017-05-12T00:00:00",
          "2017-05-15T00:00:00",
          "2017-05-16T00:00:00",
          "2017-05-17T00:00:00",
          "2017-05-18T00:00:00",
          "2017-05-19T00:00:00",
          "2017-05-22T00:00:00",
          "2017-05-23T00:00:00",
          "2017-05-24T00:00:00",
          "2017-05-25T00:00:00",
          "2017-05-26T00:00:00",
          "2017-05-29T00:00:00",
          "2017-05-30T00:00:00",
          "2017-05-31T00:00:00",
          "2017-06-01T00:00:00",
          "2017-06-02T00:00:00",
          "2017-06-05T00:00:00",
          "2017-06-06T00:00:00",
          "2017-06-07T00:00:00",
          "2017-06-08T00:00:00",
          "2017-06-09T00:00:00",
          "2017-06-12T00:00:00",
          "2017-06-13T00:00:00",
          "2017-06-14T00:00:00",
          "2017-06-15T00:00:00",
          "2017-06-16T00:00:00",
          "2017-06-19T00:00:00",
          "2017-06-20T00:00:00",
          "2017-06-21T00:00:00",
          "2017-06-22T00:00:00",
          "2017-06-23T00:00:00",
          "2017-06-26T00:00:00",
          "2017-06-27T00:00:00",
          "2017-06-28T00:00:00",
          "2017-06-29T00:00:00",
          "2017-06-30T00:00:00",
          "2017-07-03T00:00:00",
          "2017-07-04T00:00:00",
          "2017-07-05T00:00:00",
          "2017-07-06T00:00:00",
          "2017-07-07T00:00:00",
          "2017-07-10T00:00:00",
          "2017-07-11T00:00:00",
          "2017-07-12T00:00:00",
          "2017-07-13T00:00:00",
          "2017-07-14T00:00:00",
          "2017-07-17T00:00:00",
          "2017-07-18T00:00:00",
          "2017-07-19T00:00:00",
          "2017-07-20T00:00:00",
          "2017-07-21T00:00:00",
          "2017-07-24T00:00:00",
          "2017-07-25T00:00:00",
          "2017-07-26T00:00:00",
          "2017-07-27T00:00:00",
          "2017-07-28T00:00:00",
          "2017-07-31T00:00:00",
          "2017-08-01T00:00:00",
          "2017-08-02T00:00:00",
          "2017-08-03T00:00:00",
          "2017-08-04T00:00:00",
          "2017-08-07T00:00:00",
          "2017-08-08T00:00:00",
          "2017-08-09T00:00:00",
          "2017-08-10T00:00:00",
          "2017-08-11T00:00:00",
          "2017-08-14T00:00:00",
          "2017-08-15T00:00:00",
          "2017-08-16T00:00:00",
          "2017-08-17T00:00:00",
          "2017-08-18T00:00:00",
          "2017-08-21T00:00:00",
          "2017-08-22T00:00:00",
          "2017-08-23T00:00:00",
          "2017-08-24T00:00:00",
          "2017-08-25T00:00:00",
          "2017-08-28T00:00:00",
          "2017-08-29T00:00:00",
          "2017-08-30T00:00:00",
          "2017-08-31T00:00:00",
          "2017-09-01T00:00:00",
          "2017-09-04T00:00:00",
          "2017-09-05T00:00:00",
          "2017-09-06T00:00:00",
          "2017-09-07T00:00:00",
          "2017-09-08T00:00:00",
          "2017-09-11T00:00:00",
          "2017-09-12T00:00:00",
          "2017-09-13T00:00:00",
          "2017-09-14T00:00:00",
          "2017-09-15T00:00:00",
          "2017-09-18T00:00:00",
          "2017-09-19T00:00:00",
          "2017-09-20T00:00:00",
          "2017-09-21T00:00:00",
          "2017-09-22T00:00:00",
          "2017-09-25T00:00:00",
          "2017-09-26T00:00:00",
          "2017-09-27T00:00:00",
          "2017-09-28T00:00:00",
          "2017-09-29T00:00:00",
          "2017-10-02T00:00:00",
          "2017-10-03T00:00:00",
          "2017-10-04T00:00:00",
          "2017-10-05T00:00:00",
          "2017-10-06T00:00:00",
          "2017-10-09T00:00:00",
          "2017-10-10T00:00:00",
          "2017-10-11T00:00:00",
          "2017-10-12T00:00:00",
          "2017-10-13T00:00:00",
          "2017-10-16T00:00:00",
          "2017-10-17T00:00:00",
          "2017-10-18T00:00:00",
          "2017-10-19T00:00:00",
          "2017-10-20T00:00:00",
          "2017-10-23T00:00:00",
          "2017-10-24T00:00:00",
          "2017-10-25T00:00:00",
          "2017-10-26T00:00:00",
          "2017-10-27T00:00:00",
          "2017-10-30T00:00:00",
          "2017-10-31T00:00:00",
          "2017-11-01T00:00:00",
          "2017-11-02T00:00:00",
          "2017-11-03T00:00:00",
          "2017-11-06T00:00:00",
          "2017-11-07T00:00:00",
          "2017-11-08T00:00:00",
          "2017-11-09T00:00:00",
          "2017-11-10T00:00:00",
          "2017-11-13T00:00:00",
          "2017-11-14T00:00:00",
          "2017-11-15T00:00:00",
          "2017-11-16T00:00:00",
          "2017-11-17T00:00:00",
          "2017-11-20T00:00:00",
          "2017-11-21T00:00:00",
          "2017-11-22T00:00:00",
          "2017-11-23T00:00:00",
          "2017-11-24T00:00:00",
          "2017-11-27T00:00:00",
          "2017-11-28T00:00:00",
          "2017-11-29T00:00:00",
          "2017-11-30T00:00:00",
          "2017-12-01T00:00:00",
          "2017-12-04T00:00:00",
          "2017-12-05T00:00:00",
          "2017-12-06T00:00:00",
          "2017-12-07T00:00:00",
          "2017-12-08T00:00:00",
          "2017-12-11T00:00:00",
          "2017-12-12T00:00:00",
          "2017-12-13T00:00:00",
          "2017-12-14T00:00:00",
          "2017-12-15T00:00:00",
          "2017-12-18T00:00:00",
          "2017-12-19T00:00:00",
          "2017-12-20T00:00:00",
          "2017-12-21T00:00:00",
          "2017-12-22T00:00:00",
          "2017-12-25T00:00:00",
          "2017-12-26T00:00:00",
          "2017-12-27T00:00:00",
          "2017-12-28T00:00:00",
          "2017-12-29T00:00:00",
          "2018-01-02T00:00:00",
          "2018-01-03T00:00:00",
          "2018-01-04T00:00:00",
          "2018-01-05T00:00:00",
          "2018-01-08T00:00:00",
          "2018-01-09T00:00:00",
          "2018-01-10T00:00:00",
          "2018-01-11T00:00:00",
          "2018-01-12T00:00:00",
          "2018-01-15T00:00:00",
          "2018-01-16T00:00:00",
          "2018-01-17T00:00:00",
          "2018-01-18T00:00:00",
          "2018-01-19T00:00:00",
          "2018-01-22T00:00:00",
          "2018-01-23T00:00:00",
          "2018-01-24T00:00:00",
          "2018-01-25T00:00:00",
          "2018-01-26T00:00:00",
          "2018-01-29T00:00:00",
          "2018-01-30T00:00:00",
          "2018-01-31T00:00:00",
          "2018-02-01T00:00:00",
          "2018-02-02T00:00:00",
          "2018-02-05T00:00:00",
          "2018-02-06T00:00:00",
          "2018-02-07T00:00:00",
          "2018-02-08T00:00:00",
          "2018-02-09T00:00:00",
          "2018-02-15T00:00:00",
          "2018-02-16T00:00:00",
          "2018-02-19T00:00:00",
          "2018-02-20T00:00:00",
          "2018-02-21T00:00:00",
          "2018-02-22T00:00:00",
          "2018-02-23T00:00:00",
          "2018-02-26T00:00:00",
          "2018-02-27T00:00:00",
          "2018-02-28T00:00:00",
          "2018-03-01T00:00:00",
          "2018-03-02T00:00:00",
          "2018-03-05T00:00:00",
          "2018-03-06T00:00:00",
          "2018-03-07T00:00:00",
          "2018-03-08T00:00:00",
          "2018-03-09T00:00:00",
          "2018-03-12T00:00:00",
          "2018-03-13T00:00:00",
          "2018-03-14T00:00:00",
          "2018-03-15T00:00:00",
          "2018-03-16T00:00:00",
          "2018-03-19T00:00:00",
          "2018-03-20T00:00:00",
          "2018-03-21T00:00:00",
          "2018-03-22T00:00:00",
          "2018-03-23T00:00:00",
          "2018-03-26T00:00:00",
          "2018-03-27T00:00:00",
          "2018-03-28T00:00:00",
          "2018-03-29T00:00:00",
          "2018-04-02T00:00:00",
          "2018-04-03T00:00:00",
          "2018-04-04T00:00:00",
          "2018-04-05T00:00:00",
          "2018-04-06T00:00:00",
          "2018-04-09T00:00:00",
          "2018-04-10T00:00:00",
          "2018-04-11T00:00:00",
          "2018-04-12T00:00:00",
          "2018-04-13T00:00:00",
          "2018-04-16T00:00:00",
          "2018-04-17T00:00:00",
          "2018-04-18T00:00:00",
          "2018-04-19T00:00:00",
          "2018-04-20T00:00:00",
          "2018-04-23T00:00:00",
          "2018-04-24T00:00:00",
          "2018-04-25T00:00:00",
          "2018-04-26T00:00:00",
          "2018-04-27T00:00:00",
          "2018-04-30T00:00:00",
          "2018-05-02T00:00:00",
          "2018-05-03T00:00:00",
          "2018-05-04T00:00:00",
          "2018-05-07T00:00:00",
          "2018-05-08T00:00:00",
          "2018-05-09T00:00:00",
          "2018-05-10T00:00:00",
          "2018-05-11T00:00:00",
          "2018-05-14T00:00:00",
          "2018-05-15T00:00:00",
          "2018-05-16T00:00:00",
          "2018-05-17T00:00:00",
          "2018-05-18T00:00:00",
          "2018-05-21T00:00:00",
          "2018-05-22T00:00:00",
          "2018-05-23T00:00:00",
          "2018-05-24T00:00:00",
          "2018-05-25T00:00:00",
          "2018-05-28T00:00:00",
          "2018-05-29T00:00:00",
          "2018-05-30T00:00:00",
          "2018-06-01T00:00:00",
          "2018-06-04T00:00:00",
          "2018-06-05T00:00:00",
          "2018-06-06T00:00:00",
          "2018-06-07T00:00:00",
          "2018-06-08T00:00:00",
          "2018-06-11T00:00:00",
          "2018-06-12T00:00:00",
          "2018-06-13T00:00:00",
          "2018-06-14T00:00:00",
          "2018-06-15T00:00:00",
          "2018-06-18T00:00:00",
          "2018-06-19T00:00:00",
          "2018-06-20T00:00:00",
          "2018-06-21T00:00:00",
          "2018-06-22T00:00:00",
          "2018-06-25T00:00:00",
          "2018-06-26T00:00:00",
          "2018-06-27T00:00:00",
          "2018-06-28T00:00:00",
          "2018-06-29T00:00:00",
          "2018-07-02T00:00:00",
          "2018-07-03T00:00:00",
          "2018-07-04T00:00:00",
          "2018-07-05T00:00:00",
          "2018-07-06T00:00:00",
          "2018-07-10T00:00:00",
          "2018-07-11T00:00:00",
          "2018-07-12T00:00:00",
          "2018-07-13T00:00:00",
          "2018-07-16T00:00:00",
          "2018-07-17T00:00:00",
          "2018-07-18T00:00:00",
          "2018-07-19T00:00:00",
          "2018-07-20T00:00:00",
          "2018-07-23T00:00:00",
          "2018-07-24T00:00:00",
          "2018-07-25T00:00:00",
          "2018-07-26T00:00:00",
          "2018-07-27T00:00:00",
          "2018-07-30T00:00:00",
          "2018-07-31T00:00:00",
          "2018-08-01T00:00:00",
          "2018-08-02T00:00:00",
          "2018-08-03T00:00:00",
          "2018-08-06T00:00:00",
          "2018-08-07T00:00:00",
          "2018-08-08T00:00:00",
          "2018-08-09T00:00:00",
          "2018-08-10T00:00:00",
          "2018-08-13T00:00:00",
          "2018-08-14T00:00:00",
          "2018-08-15T00:00:00",
          "2018-08-16T00:00:00",
          "2018-08-17T00:00:00",
          "2018-08-20T00:00:00",
          "2018-08-21T00:00:00",
          "2018-08-22T00:00:00",
          "2018-08-23T00:00:00",
          "2018-08-24T00:00:00",
          "2018-08-27T00:00:00",
          "2018-08-28T00:00:00",
          "2018-08-29T00:00:00",
          "2018-08-30T00:00:00",
          "2018-08-31T00:00:00",
          "2018-09-03T00:00:00",
          "2018-09-04T00:00:00",
          "2018-09-05T00:00:00",
          "2018-09-06T00:00:00",
          "2018-09-10T00:00:00",
          "2018-09-11T00:00:00",
          "2018-09-12T00:00:00",
          "2018-09-13T00:00:00",
          "2018-09-14T00:00:00",
          "2018-09-17T00:00:00",
          "2018-09-18T00:00:00",
          "2018-09-19T00:00:00",
          "2018-09-20T00:00:00",
          "2018-09-21T00:00:00",
          "2018-09-24T00:00:00",
          "2018-09-25T00:00:00",
          "2018-09-26T00:00:00",
          "2018-09-27T00:00:00",
          "2018-09-28T00:00:00",
          "2018-10-01T00:00:00",
          "2018-10-02T00:00:00",
          "2018-10-03T00:00:00",
          "2018-10-04T00:00:00",
          "2018-10-05T00:00:00",
          "2018-10-08T00:00:00",
          "2018-10-09T00:00:00",
          "2018-10-10T00:00:00",
          "2018-10-11T00:00:00",
          "2018-10-15T00:00:00",
          "2018-10-16T00:00:00",
          "2018-10-17T00:00:00",
          "2018-10-18T00:00:00",
          "2018-10-19T00:00:00",
          "2018-10-22T00:00:00",
          "2018-10-23T00:00:00",
          "2018-10-24T00:00:00",
          "2018-10-25T00:00:00",
          "2018-10-26T00:00:00",
          "2018-10-29T00:00:00",
          "2018-10-30T00:00:00",
          "2018-10-31T00:00:00",
          "2018-11-01T00:00:00",
          "2018-11-05T00:00:00",
          "2018-11-06T00:00:00",
          "2018-11-07T00:00:00",
          "2018-11-08T00:00:00",
          "2018-11-09T00:00:00",
          "2018-11-12T00:00:00",
          "2018-11-13T00:00:00",
          "2018-11-14T00:00:00",
          "2018-11-16T00:00:00",
          "2018-11-19T00:00:00",
          "2018-11-21T00:00:00",
          "2018-11-22T00:00:00",
          "2018-11-23T00:00:00",
          "2018-11-26T00:00:00",
          "2018-11-27T00:00:00",
          "2018-11-28T00:00:00",
          "2018-11-29T00:00:00",
          "2018-11-30T00:00:00",
          "2018-12-03T00:00:00",
          "2018-12-04T00:00:00",
          "2018-12-05T00:00:00",
          "2018-12-06T00:00:00",
          "2018-12-07T00:00:00",
          "2018-12-10T00:00:00",
          "2018-12-11T00:00:00",
          "2018-12-12T00:00:00",
          "2018-12-13T00:00:00",
          "2018-12-14T00:00:00",
          "2018-12-17T00:00:00",
          "2018-12-18T00:00:00",
          "2018-12-19T00:00:00",
          "2018-12-20T00:00:00",
          "2018-12-21T00:00:00",
          "2018-12-26T00:00:00",
          "2018-12-27T00:00:00",
          "2018-12-28T00:00:00",
          "2019-01-02T00:00:00",
          "2019-01-03T00:00:00",
          "2019-01-04T00:00:00",
          "2019-01-07T00:00:00",
          "2019-01-08T00:00:00",
          "2019-01-09T00:00:00",
          "2019-01-10T00:00:00",
          "2019-01-11T00:00:00",
          "2019-01-14T00:00:00",
          "2019-01-15T00:00:00",
          "2019-01-16T00:00:00",
          "2019-01-17T00:00:00",
          "2019-01-18T00:00:00",
          "2019-01-21T00:00:00",
          "2019-01-22T00:00:00",
          "2019-01-23T00:00:00",
          "2019-01-24T00:00:00",
          "2019-01-28T00:00:00",
          "2019-01-29T00:00:00",
          "2019-01-30T00:00:00",
          "2019-01-31T00:00:00",
          "2019-02-01T00:00:00",
          "2019-02-04T00:00:00",
          "2019-02-05T00:00:00",
          "2019-02-06T00:00:00",
          "2019-02-07T00:00:00",
          "2019-02-08T00:00:00",
          "2019-02-11T00:00:00",
          "2019-02-12T00:00:00",
          "2019-02-13T00:00:00",
          "2019-02-14T00:00:00",
          "2019-02-15T00:00:00",
          "2019-02-18T00:00:00",
          "2019-02-19T00:00:00",
          "2019-02-20T00:00:00",
          "2019-02-21T00:00:00",
          "2019-02-22T00:00:00",
          "2019-02-25T00:00:00",
          "2019-02-26T00:00:00",
          "2019-02-27T00:00:00",
          "2019-02-28T00:00:00",
          "2019-03-01T00:00:00",
          "2019-03-07T00:00:00",
          "2019-03-08T00:00:00",
          "2019-03-11T00:00:00",
          "2019-03-12T00:00:00",
          "2019-03-13T00:00:00",
          "2019-03-14T00:00:00",
          "2019-03-15T00:00:00",
          "2019-03-18T00:00:00",
          "2019-03-19T00:00:00",
          "2019-03-20T00:00:00",
          "2019-03-21T00:00:00",
          "2019-03-22T00:00:00",
          "2019-03-25T00:00:00",
          "2019-03-26T00:00:00",
          "2019-03-27T00:00:00",
          "2019-03-28T00:00:00",
          "2019-03-29T00:00:00",
          "2019-04-01T00:00:00",
          "2019-04-02T00:00:00",
          "2019-04-03T00:00:00",
          "2019-04-04T00:00:00",
          "2019-04-05T00:00:00",
          "2019-04-08T00:00:00",
          "2019-04-09T00:00:00",
          "2019-04-10T00:00:00",
          "2019-04-11T00:00:00",
          "2019-04-12T00:00:00",
          "2019-04-15T00:00:00",
          "2019-04-16T00:00:00",
          "2019-04-17T00:00:00",
          "2019-04-18T00:00:00",
          "2019-04-22T00:00:00",
          "2019-04-23T00:00:00",
          "2019-04-24T00:00:00",
          "2019-04-25T00:00:00",
          "2019-04-26T00:00:00",
          "2019-04-29T00:00:00",
          "2019-04-30T00:00:00",
          "2019-05-02T00:00:00",
          "2019-05-03T00:00:00",
          "2019-05-06T00:00:00",
          "2019-05-07T00:00:00",
          "2019-05-08T00:00:00",
          "2019-05-09T00:00:00",
          "2019-05-10T00:00:00",
          "2019-05-13T00:00:00",
          "2019-05-14T00:00:00",
          "2019-05-15T00:00:00",
          "2019-05-16T00:00:00",
          "2019-05-17T00:00:00",
          "2019-05-20T00:00:00",
          "2019-05-21T00:00:00",
          "2019-05-22T00:00:00",
          "2019-05-23T00:00:00",
          "2019-05-24T00:00:00",
          "2019-05-27T00:00:00",
          "2019-05-28T00:00:00",
          "2019-05-29T00:00:00",
          "2019-05-30T00:00:00",
          "2019-05-31T00:00:00",
          "2019-06-03T00:00:00",
          "2019-06-04T00:00:00",
          "2019-06-05T00:00:00",
          "2019-06-06T00:00:00",
          "2019-06-07T00:00:00",
          "2019-06-10T00:00:00",
          "2019-06-11T00:00:00",
          "2019-06-12T00:00:00",
          "2019-06-13T00:00:00",
          "2019-06-14T00:00:00",
          "2019-06-17T00:00:00",
          "2019-06-18T00:00:00",
          "2019-06-19T00:00:00",
          "2019-06-21T00:00:00",
          "2019-06-24T00:00:00",
          "2019-06-25T00:00:00",
          "2019-06-26T00:00:00",
          "2019-06-27T00:00:00",
          "2019-06-28T00:00:00",
          "2019-07-01T00:00:00",
          "2019-07-02T00:00:00",
          "2019-07-03T00:00:00",
          "2019-07-04T00:00:00",
          "2019-07-05T00:00:00",
          "2019-07-08T00:00:00",
          "2019-07-10T00:00:00",
          "2019-07-11T00:00:00",
          "2019-07-12T00:00:00",
          "2019-07-15T00:00:00",
          "2019-07-16T00:00:00",
          "2019-07-17T00:00:00",
          "2019-07-18T00:00:00",
          "2019-07-19T00:00:00",
          "2019-07-22T00:00:00",
          "2019-07-23T00:00:00",
          "2019-07-24T00:00:00",
          "2019-07-25T00:00:00",
          "2019-07-26T00:00:00",
          "2019-07-29T00:00:00",
          "2019-07-30T00:00:00",
          "2019-07-31T00:00:00",
          "2019-08-01T00:00:00",
          "2019-08-02T00:00:00",
          "2019-08-05T00:00:00",
          "2019-08-06T00:00:00",
          "2019-08-07T00:00:00",
          "2019-08-08T00:00:00",
          "2019-08-09T00:00:00",
          "2019-08-12T00:00:00",
          "2019-08-13T00:00:00",
          "2019-08-14T00:00:00",
          "2019-08-15T00:00:00",
          "2019-08-16T00:00:00",
          "2019-08-19T00:00:00",
          "2019-08-20T00:00:00",
          "2019-08-21T00:00:00",
          "2019-08-22T00:00:00",
          "2019-08-23T00:00:00",
          "2019-08-26T00:00:00",
          "2019-08-27T00:00:00",
          "2019-08-28T00:00:00",
          "2019-08-29T00:00:00",
          "2019-08-30T00:00:00",
          "2019-09-02T00:00:00",
          "2019-09-03T00:00:00",
          "2019-09-04T00:00:00",
          "2019-09-05T00:00:00",
          "2019-09-06T00:00:00",
          "2019-09-09T00:00:00",
          "2019-09-10T00:00:00",
          "2019-09-11T00:00:00",
          "2019-09-12T00:00:00",
          "2019-09-13T00:00:00",
          "2019-09-16T00:00:00",
          "2019-09-17T00:00:00",
          "2019-09-18T00:00:00",
          "2019-09-19T00:00:00",
          "2019-09-20T00:00:00",
          "2019-09-23T00:00:00",
          "2019-09-24T00:00:00",
          "2019-09-25T00:00:00",
          "2019-09-26T00:00:00",
          "2019-09-27T00:00:00",
          "2019-09-30T00:00:00",
          "2019-10-01T00:00:00",
          "2019-10-02T00:00:00",
          "2019-10-03T00:00:00",
          "2019-10-04T00:00:00",
          "2019-10-07T00:00:00",
          "2019-10-08T00:00:00",
          "2019-10-09T00:00:00",
          "2019-10-10T00:00:00",
          "2019-10-11T00:00:00",
          "2019-10-14T00:00:00",
          "2019-10-15T00:00:00",
          "2019-10-16T00:00:00",
          "2019-10-17T00:00:00",
          "2019-10-18T00:00:00",
          "2019-10-21T00:00:00",
          "2019-10-22T00:00:00",
          "2019-10-23T00:00:00",
          "2019-10-24T00:00:00",
          "2019-10-25T00:00:00",
          "2019-10-28T00:00:00",
          "2019-10-29T00:00:00",
          "2019-10-30T00:00:00",
          "2019-10-31T00:00:00",
          "2019-11-01T00:00:00",
          "2019-11-04T00:00:00",
          "2019-11-05T00:00:00",
          "2019-11-06T00:00:00",
          "2019-11-07T00:00:00",
          "2019-11-08T00:00:00",
          "2019-11-11T00:00:00",
          "2019-11-12T00:00:00",
          "2019-11-13T00:00:00",
          "2019-11-14T00:00:00",
          "2019-11-18T00:00:00",
          "2019-11-19T00:00:00",
          "2019-11-21T00:00:00",
          "2019-11-22T00:00:00",
          "2019-11-25T00:00:00",
          "2019-11-26T00:00:00",
          "2019-11-27T00:00:00",
          "2019-11-28T00:00:00",
          "2019-11-29T00:00:00",
          "2019-12-02T00:00:00",
          "2019-12-03T00:00:00",
          "2019-12-04T00:00:00",
          "2019-12-05T00:00:00",
          "2019-12-06T00:00:00",
          "2019-12-09T00:00:00",
          "2019-12-10T00:00:00",
          "2019-12-11T00:00:00",
          "2019-12-12T00:00:00",
          "2019-12-13T00:00:00",
          "2019-12-16T00:00:00",
          "2019-12-17T00:00:00",
          "2019-12-18T00:00:00",
          "2019-12-19T00:00:00",
          "2019-12-20T00:00:00",
          "2019-12-23T00:00:00",
          "2019-12-26T00:00:00",
          "2019-12-27T00:00:00",
          "2019-12-30T00:00:00",
          "2020-01-02T00:00:00",
          "2020-01-03T00:00:00",
          "2020-01-06T00:00:00",
          "2020-01-07T00:00:00",
          "2020-01-08T00:00:00",
          "2020-01-09T00:00:00",
          "2020-01-10T00:00:00",
          "2020-01-13T00:00:00",
          "2020-01-14T00:00:00",
          "2020-01-15T00:00:00",
          "2020-01-16T00:00:00",
          "2020-01-17T00:00:00",
          "2020-01-20T00:00:00",
          "2020-01-21T00:00:00",
          "2020-01-22T00:00:00",
          "2020-01-23T00:00:00",
          "2020-01-24T00:00:00",
          "2020-01-27T00:00:00",
          "2020-01-28T00:00:00",
          "2020-01-29T00:00:00",
          "2020-01-30T00:00:00",
          "2020-01-31T00:00:00",
          "2020-02-03T00:00:00",
          "2020-02-04T00:00:00",
          "2020-02-05T00:00:00",
          "2020-02-06T00:00:00",
          "2020-02-07T00:00:00",
          "2020-02-10T00:00:00",
          "2020-02-11T00:00:00",
          "2020-02-12T00:00:00",
          "2020-02-13T00:00:00",
          "2020-02-14T00:00:00",
          "2020-02-17T00:00:00",
          "2020-02-18T00:00:00",
          "2020-02-19T00:00:00",
          "2020-02-20T00:00:00",
          "2020-02-21T00:00:00",
          "2020-02-27T00:00:00",
          "2020-02-28T00:00:00",
          "2020-03-02T00:00:00",
          "2020-03-03T00:00:00",
          "2020-03-04T00:00:00",
          "2020-03-05T00:00:00",
          "2020-03-06T00:00:00",
          "2020-03-09T00:00:00",
          "2020-03-10T00:00:00",
          "2020-03-11T00:00:00",
          "2020-03-12T00:00:00",
          "2020-03-13T00:00:00",
          "2020-03-16T00:00:00",
          "2020-03-17T00:00:00",
          "2020-03-18T00:00:00",
          "2020-03-19T00:00:00",
          "2020-03-20T00:00:00",
          "2020-03-23T00:00:00",
          "2020-03-24T00:00:00",
          "2020-03-25T00:00:00",
          "2020-03-26T00:00:00",
          "2020-03-27T00:00:00",
          "2020-03-30T00:00:00",
          "2020-03-31T00:00:00",
          "2020-04-01T00:00:00",
          "2020-04-02T00:00:00",
          "2020-04-03T00:00:00",
          "2020-04-06T00:00:00",
          "2020-04-07T00:00:00",
          "2020-04-08T00:00:00",
          "2020-04-09T00:00:00",
          "2020-04-13T00:00:00",
          "2020-04-14T00:00:00",
          "2020-04-15T00:00:00",
          "2020-04-16T00:00:00",
          "2020-04-17T00:00:00",
          "2020-04-20T00:00:00",
          "2020-04-22T00:00:00",
          "2020-04-23T00:00:00",
          "2020-04-24T00:00:00",
          "2020-04-27T00:00:00",
          "2020-04-28T00:00:00",
          "2020-04-29T00:00:00",
          "2020-04-30T00:00:00",
          "2020-05-04T00:00:00",
          "2020-05-05T00:00:00",
          "2020-05-06T00:00:00",
          "2020-05-07T00:00:00",
          "2020-05-08T00:00:00",
          "2020-05-11T00:00:00",
          "2020-05-12T00:00:00",
          "2020-05-13T00:00:00",
          "2020-05-14T00:00:00",
          "2020-05-15T00:00:00",
          "2020-05-18T00:00:00",
          "2020-05-19T00:00:00",
          "2020-05-20T00:00:00",
          "2020-05-21T00:00:00",
          "2020-05-22T00:00:00",
          "2020-05-25T00:00:00",
          "2020-05-26T00:00:00",
          "2020-05-27T00:00:00",
          "2020-05-28T00:00:00",
          "2020-05-29T00:00:00",
          "2020-06-01T00:00:00",
          "2020-06-02T00:00:00",
          "2020-06-03T00:00:00",
          "2020-06-04T00:00:00",
          "2020-06-05T00:00:00",
          "2020-06-08T00:00:00",
          "2020-06-09T00:00:00",
          "2020-06-10T00:00:00",
          "2020-06-12T00:00:00",
          "2020-06-15T00:00:00",
          "2020-06-16T00:00:00",
          "2020-06-17T00:00:00",
          "2020-06-18T00:00:00",
          "2020-06-19T00:00:00",
          "2020-06-22T00:00:00",
          "2020-06-23T00:00:00",
          "2020-06-24T00:00:00",
          "2020-06-25T00:00:00",
          "2020-06-26T00:00:00",
          "2020-06-29T00:00:00",
          "2020-06-30T00:00:00",
          "2020-07-01T00:00:00",
          "2020-07-02T00:00:00",
          "2020-07-03T00:00:00",
          "2020-07-06T00:00:00",
          "2020-07-07T00:00:00",
          "2020-07-08T00:00:00",
          "2020-07-09T00:00:00",
          "2020-07-10T00:00:00",
          "2020-07-13T00:00:00",
          "2020-07-14T00:00:00",
          "2020-07-15T00:00:00",
          "2020-07-16T00:00:00",
          "2020-07-17T00:00:00",
          "2020-07-20T00:00:00",
          "2020-07-21T00:00:00",
          "2020-07-22T00:00:00",
          "2020-07-23T00:00:00",
          "2020-07-24T00:00:00",
          "2020-07-27T00:00:00",
          "2020-07-28T00:00:00",
          "2020-07-29T00:00:00",
          "2020-07-30T00:00:00",
          "2020-07-31T00:00:00",
          "2020-08-03T00:00:00",
          "2020-08-04T00:00:00",
          "2020-08-05T00:00:00",
          "2020-08-06T00:00:00",
          "2020-08-07T00:00:00",
          "2020-08-10T00:00:00",
          "2020-08-11T00:00:00",
          "2020-08-12T00:00:00",
          "2020-08-13T00:00:00",
          "2020-08-14T00:00:00",
          "2020-08-17T00:00:00",
          "2020-08-18T00:00:00",
          "2020-08-19T00:00:00",
          "2020-08-20T00:00:00",
          "2020-08-21T00:00:00",
          "2020-08-24T00:00:00",
          "2020-08-25T00:00:00",
          "2020-08-26T00:00:00",
          "2020-08-27T00:00:00",
          "2020-08-28T00:00:00",
          "2020-08-31T00:00:00",
          "2020-09-01T00:00:00",
          "2020-09-02T00:00:00",
          "2020-09-03T00:00:00",
          "2020-09-04T00:00:00",
          "2020-09-08T00:00:00",
          "2020-09-09T00:00:00",
          "2020-09-10T00:00:00",
          "2020-09-11T00:00:00",
          "2020-09-14T00:00:00",
          "2020-09-15T00:00:00",
          "2020-09-16T00:00:00",
          "2020-09-17T00:00:00",
          "2020-09-18T00:00:00",
          "2020-09-21T00:00:00",
          "2020-09-22T00:00:00",
          "2020-09-23T00:00:00",
          "2020-09-24T00:00:00",
          "2020-09-25T00:00:00",
          "2020-09-28T00:00:00",
          "2020-09-29T00:00:00",
          "2020-09-30T00:00:00",
          "2020-10-01T00:00:00",
          "2020-10-02T00:00:00",
          "2020-10-05T00:00:00",
          "2020-10-06T00:00:00",
          "2020-10-07T00:00:00",
          "2020-10-08T00:00:00",
          "2020-10-09T00:00:00",
          "2020-10-13T00:00:00",
          "2020-10-14T00:00:00",
          "2020-10-15T00:00:00",
          "2020-10-16T00:00:00",
          "2020-10-19T00:00:00",
          "2020-10-20T00:00:00",
          "2020-10-21T00:00:00",
          "2020-10-22T00:00:00",
          "2020-10-23T00:00:00",
          "2020-10-26T00:00:00",
          "2020-10-27T00:00:00",
          "2020-10-28T00:00:00",
          "2020-10-29T00:00:00",
          "2020-10-30T00:00:00",
          "2020-11-03T00:00:00",
          "2020-11-04T00:00:00",
          "2020-11-05T00:00:00",
          "2020-11-06T00:00:00",
          "2020-11-09T00:00:00",
          "2020-11-10T00:00:00",
          "2020-11-11T00:00:00",
          "2020-11-12T00:00:00",
          "2020-11-13T00:00:00",
          "2020-11-16T00:00:00",
          "2020-11-17T00:00:00",
          "2020-11-18T00:00:00",
          "2020-11-19T00:00:00",
          "2020-11-23T00:00:00",
          "2020-11-24T00:00:00",
          "2020-11-25T00:00:00",
          "2020-11-26T00:00:00",
          "2020-11-27T00:00:00",
          "2020-11-30T00:00:00",
          "2020-12-01T00:00:00",
          "2020-12-02T00:00:00",
          "2020-12-03T00:00:00",
          "2020-12-04T00:00:00",
          "2020-12-07T00:00:00",
          "2020-12-08T00:00:00",
          "2020-12-09T00:00:00",
          "2020-12-10T00:00:00",
          "2020-12-11T00:00:00",
          "2020-12-14T00:00:00",
          "2020-12-15T00:00:00",
          "2020-12-16T00:00:00",
          "2020-12-17T00:00:00",
          "2020-12-18T00:00:00",
          "2020-12-21T00:00:00",
          "2020-12-22T00:00:00",
          "2020-12-23T00:00:00",
          "2020-12-28T00:00:00",
          "2020-12-29T00:00:00",
          "2020-12-30T00:00:00",
          "2021-01-04T00:00:00",
          "2021-01-05T00:00:00",
          "2021-01-06T00:00:00",
          "2021-01-07T00:00:00",
          "2021-01-08T00:00:00",
          "2021-01-11T00:00:00",
          "2021-01-12T00:00:00",
          "2021-01-13T00:00:00",
          "2021-01-14T00:00:00",
          "2021-01-15T00:00:00",
          "2021-01-18T00:00:00",
          "2021-01-19T00:00:00",
          "2021-01-20T00:00:00",
          "2021-01-21T00:00:00",
          "2021-01-22T00:00:00",
          "2021-01-26T00:00:00",
          "2021-01-27T00:00:00",
          "2021-01-28T00:00:00",
          "2021-01-29T00:00:00",
          "2021-02-01T00:00:00",
          "2021-02-02T00:00:00",
          "2021-02-03T00:00:00",
          "2021-02-04T00:00:00",
          "2021-02-05T00:00:00",
          "2021-02-08T00:00:00",
          "2021-02-09T00:00:00",
          "2021-02-10T00:00:00",
          "2021-02-11T00:00:00",
          "2021-02-12T00:00:00",
          "2021-02-18T00:00:00",
          "2021-02-19T00:00:00",
          "2021-02-22T00:00:00",
          "2021-02-23T00:00:00",
          "2021-02-24T00:00:00",
          "2021-02-25T00:00:00",
          "2021-02-26T00:00:00",
          "2021-03-01T00:00:00",
          "2021-03-02T00:00:00",
          "2021-03-03T00:00:00",
          "2021-03-04T00:00:00",
          "2021-03-05T00:00:00",
          "2021-03-08T00:00:00",
          "2021-03-09T00:00:00",
          "2021-03-10T00:00:00",
          "2021-03-11T00:00:00",
          "2021-03-12T00:00:00",
          "2021-03-15T00:00:00",
          "2021-03-16T00:00:00",
          "2021-03-17T00:00:00",
          "2021-03-18T00:00:00",
          "2021-03-19T00:00:00",
          "2021-03-22T00:00:00",
          "2021-03-23T00:00:00",
          "2021-03-24T00:00:00",
          "2021-03-25T00:00:00",
          "2021-03-26T00:00:00",
          "2021-03-29T00:00:00",
          "2021-03-30T00:00:00",
          "2021-03-31T00:00:00",
          "2021-04-01T00:00:00",
          "2021-04-05T00:00:00",
          "2021-04-06T00:00:00",
          "2021-04-07T00:00:00",
          "2021-04-08T00:00:00",
          "2021-04-09T00:00:00",
          "2021-04-12T00:00:00",
          "2021-04-13T00:00:00",
          "2021-04-14T00:00:00",
          "2021-04-15T00:00:00",
          "2021-04-16T00:00:00",
          "2021-04-19T00:00:00",
          "2021-04-20T00:00:00",
          "2021-04-22T00:00:00",
          "2021-04-23T00:00:00",
          "2021-04-26T00:00:00",
          "2021-04-27T00:00:00",
          "2021-04-28T00:00:00",
          "2021-04-29T00:00:00",
          "2021-04-30T00:00:00",
          "2021-05-03T00:00:00",
          "2021-05-04T00:00:00",
          "2021-05-05T00:00:00",
          "2021-05-06T00:00:00",
          "2021-05-07T00:00:00",
          "2021-05-10T00:00:00",
          "2021-05-11T00:00:00",
          "2021-05-12T00:00:00",
          "2021-05-13T00:00:00",
          "2021-05-14T00:00:00",
          "2021-05-17T00:00:00",
          "2021-05-18T00:00:00",
          "2021-05-19T00:00:00",
          "2021-05-20T00:00:00",
          "2021-05-21T00:00:00",
          "2021-05-24T00:00:00",
          "2021-05-25T00:00:00",
          "2021-05-26T00:00:00",
          "2021-05-27T00:00:00",
          "2021-05-28T00:00:00",
          "2021-05-31T00:00:00",
          "2021-06-01T00:00:00",
          "2021-06-02T00:00:00",
          "2021-06-04T00:00:00",
          "2021-06-07T00:00:00",
          "2021-06-08T00:00:00",
          "2021-06-09T00:00:00",
          "2021-06-10T00:00:00",
          "2021-06-11T00:00:00",
          "2021-06-14T00:00:00",
          "2021-06-15T00:00:00",
          "2021-06-16T00:00:00",
          "2021-06-17T00:00:00",
          "2021-06-18T00:00:00",
          "2021-06-21T00:00:00",
          "2021-06-22T00:00:00",
          "2021-06-23T00:00:00",
          "2021-06-24T00:00:00",
          "2021-06-25T00:00:00",
          "2021-06-28T00:00:00"
         ],
         "y": [
          16.600000381469727,
          17.049999237060547,
          17.5,
          17.75,
          17.93000030517578,
          17.889999389648438,
          17.5,
          17.75,
          17.90999984741211,
          17.829999923706055,
          18,
          18.399999618530273,
          18.799999237060547,
          18.84000015258789,
          18.559999465942383,
          18.5,
          18.25,
          17.84000015258789,
          18.040000915527344,
          18.040000915527344,
          18.350000381469727,
          18.09000015258789,
          18.469999313354492,
          18.200000762939453,
          17.799999237060547,
          17.75,
          17.799999237060547,
          17.899999618530273,
          17.950000762939453,
          17.459999084472656,
          17.25,
          17.899999618530273,
          18.139999389648438,
          18.100000381469727,
          17.979999542236328,
          17.420000076293945,
          17.209999084472656,
          17.440000534057617,
          16.950000762939453,
          16.700000762939453,
          16.829999923706055,
          17.290000915527344,
          17.600000381469727,
          17.5,
          17.190000534057617,
          17.25,
          17.729999542236328,
          17.600000381469727,
          17.899999618530273,
          17.75,
          17.899999618530273,
          17.719999313354492,
          17.610000610351562,
          17.40999984741211,
          17.959999084472656,
          18.049999237060547,
          17.950000762939453,
          18,
          18,
          18.049999237060547,
          18.110000610351562,
          18.110000610351562,
          18.149999618530273,
          18.389999389648438,
          18.440000534057617,
          18.670000076293945,
          18.989999771118164,
          19.399999618530273,
          19.399999618530273,
          19.600000381469727,
          19.899999618530273,
          19.940000534057617,
          19.510000228881836,
          19.65999984741211,
          19.399999618530273,
          19.399999618530273,
          19.309999465942383,
          18.260000228881836,
          18.200000762939453,
          18.469999313354492,
          18.719999313354492,
          19.309999465942383,
          18.989999771118164,
          18.959999084472656,
          18.8700008392334,
          19,
          19.239999771118164,
          19.200000762939453,
          19.190000534057617,
          19.18000030517578,
          19.549999237060547,
          19.899999618530273,
          20.459999084472656,
          20.709999084472656,
          20.860000610351562,
          21.010000228881836,
          20.940000534057617,
          20.8799991607666,
          21.18000030517578,
          21.899999618530273,
          21.75,
          21.5,
          21.389999389648438,
          21.469999313354492,
          21.850000381469727,
          21.899999618530273,
          22.15999984741211,
          21.809999465942383,
          22.459999084472656,
          22.100000381469727,
          21.600000381469727,
          21.600000381469727,
          21.989999771118164,
          22.3799991607666,
          22.84000015258789,
          23.399999618530273,
          23.329999923706055,
          23.59000015258789,
          23.75,
          23.549999237060547,
          23.899999618530273,
          24.229999542236328,
          24.200000762939453,
          24.219999313354492,
          23.600000381469727,
          23.989999771118164,
          23.790000915527344,
          23.850000381469727,
          23.729999542236328,
          24.139999389648438,
          24.469999313354492,
          24.700000762939453,
          24.260000228881836,
          23.850000381469727,
          23.260000228881836,
          23.100000381469727,
          23.200000762939453,
          23.65999984741211,
          22.959999084472656,
          23.68000030517578,
          24.1299991607666,
          24.100000381469727,
          23.770000457763672,
          24.100000381469727,
          24.1200008392334,
          24.219999313354492,
          24.399999618530273,
          24.43000030517578,
          25.149999618530273,
          25.399999618530273,
          25.3799991607666,
          25.100000381469727,
          24.530000686645508,
          24.3700008392334,
          24.06999969482422,
          24.329999923706055,
          24.399999618530273,
          24.350000381469727,
          23.979999542236328,
          24.139999389648438,
          24.139999389648438,
          24.3799991607666,
          24.329999923706055,
          24.549999237060547,
          24.270000457763672,
          23.950000762939453,
          23.68000030517578,
          24.170000076293945,
          24.5,
          23.950000762939453,
          23.43000030517578,
          23.100000381469727,
          22.950000762939453,
          23.239999771118164,
          22.729999542236328,
          23.030000686645508,
          23.139999389648438,
          23.479999542236328,
          23.959999084472656,
          24.149999618530273,
          23.969999313354492,
          23.889999389648438,
          23.729999542236328,
          24.149999618530273,
          23.899999618530273,
          23.290000915527344,
          23.030000686645508,
          23.100000381469727,
          22.799999237060547,
          22.65999984741211,
          22.700000762939453,
          21.829999923706055,
          22.280000686645508,
          22.770000457763672,
          23.68000030517578,
          23.350000381469727,
          23.5,
          24.5,
          23.899999618530273,
          24,
          23.75,
          23.56999969482422,
          23.350000381469727,
          23.459999084472656,
          23.479999542236328,
          23.5,
          23.290000915527344,
          23.5,
          23.450000762939453,
          23.549999237060547,
          23.299999237060547,
          23.43000030517578,
          23.520000457763672,
          23.200000762939453,
          22.809999465942383,
          22.549999237060547,
          22.3799991607666,
          22.209999084472656,
          22.3700008392334,
          22.399999618530273,
          23.290000915527344,
          23.829999923706055,
          23.709999084472656,
          23.260000228881836,
          23.600000381469727,
          23.950000762939453,
          23.690000534057617,
          24.149999618530273,
          24.149999618530273,
          25.110000610351562,
          25.299999237060547,
          25.489999771118164,
          25.290000915527344,
          25.149999618530273,
          25.760000228881836,
          25.059999465942383,
          25.1200008392334,
          25.049999237060547,
          25.700000762939453,
          25.959999084472656,
          26.200000762939453,
          26.299999237060547,
          26.34000015258789,
          26.450000762939453,
          26.389999389648438,
          26.709999084472656,
          26.350000381469727,
          26.440000534057617,
          26.5,
          26.149999618530273,
          26.639999389648438,
          27.049999237060547,
          28,
          28,
          28.200000762939453,
          28.25,
          28.399999618530273,
          28.200000762939453,
          28.5,
          28.649999618530273,
          28.700000762939453,
          28.799999237060547,
          28.530000686645508,
          27.950000762939453,
          28.190000534057617,
          28.149999618530273,
          28.75,
          27.920000076293945,
          28.149999618530273,
          28.040000915527344,
          28.5,
          28.559999465942383,
          29.399999618530273,
          29.700000762939453,
          30.18000030517578,
          30.6299991607666,
          31.149999618530273,
          32,
          31.8799991607666,
          32.400001525878906,
          32.7400016784668,
          31.90999984741211,
          32.349998474121094,
          31.770000457763672,
          31.309999465942383,
          32.5099983215332,
          32,
          32.540000915527344,
          32.189998626708984,
          32.439998626708984,
          33.04999923706055,
          32.5,
          32.70000076293945,
          32.79999923706055,
          32.70000076293945,
          33.029998779296875,
          33.369998931884766,
          33.220001220703125,
          32.9900016784668,
          32.849998474121094,
          32.290000915527344,
          32.22999954223633,
          32.7599983215332,
          33.88999938964844,
          34.209999084472656,
          34.54999923706055,
          34.900001525878906,
          35.060001373291016,
          35.13999938964844,
          34.72999954223633,
          33.97999954223633,
          33.099998474121094,
          34.04999923706055,
          34.20000076293945,
          33.439998626708984,
          32.400001525878906,
          32.290000915527344,
          32.11000061035156,
          32.939998626708984,
          33.5,
          33.75,
          33.849998474121094,
          34.220001220703125,
          34.33000183105469,
          34.45000076293945,
          33.70000076293945,
          33.849998474121094,
          33.75,
          34.709999084472656,
          35.29999923706055,
          35.099998474121094,
          34.900001525878906,
          35.689998626708984,
          35.08000183105469,
          34.63999938964844,
          35,
          35.41999816894531,
          35.099998474121094,
          34.380001068115234,
          34.0099983215332,
          33.900001525878906,
          34.150001525878906,
          32.709999084472656,
          32.630001068115234,
          33.25,
          33.02000045776367,
          32.220001220703125,
          32.400001525878906,
          31.719999313354492,
          31.5,
          31.989999771118164,
          31.989999771118164,
          31.200000762939453,
          31.799999237060547,
          32.20000076293945,
          31.709999084472656,
          31.600000381469727,
          31.700000762939453,
          32.04999923706055,
          32.0099983215332,
          31.610000610351562,
          31.579999923706055,
          30.450000762939453,
          31.149999618530273,
          31.209999084472656,
          30.540000915527344,
          29.739999771118164,
          30.399999618530273,
          29.75,
          29.350000381469727,
          29.3700008392334,
          28.649999618530273,
          28.739999771118164,
          29.600000381469727,
          30.649999618530273,
          31,
          31.959999084472656,
          33.060001373291016,
          32.810001373291016,
          32.95000076293945,
          32.619998931884766,
          31.31999969482422,
          31.610000610351562,
          32.099998474121094,
          31.950000762939453,
          32.310001373291016,
          31.299999237060547,
          31,
          31.18000030517578,
          32.310001373291016,
          33.290000915527344,
          34.75,
          33.400001525878906,
          33.5,
          33.400001525878906,
          33.47999954223633,
          33.52000045776367,
          31.959999084472656,
          32.08000183105469,
          31.65999984741211,
          31.690000534057617,
          32,
          31.540000915527344,
          31.719999313354492,
          31.649999618530273,
          31.850000381469727,
          31.299999237060547,
          30.770000457763672,
          30.15999984741211,
          31.079999923706055,
          31.010000228881836,
          31.049999237060547,
          31.149999618530273,
          31.479999542236328,
          32.720001220703125,
          32.33000183105469,
          31.8700008392334,
          30.350000381469727,
          29.440000534057617,
          30.690000534057617,
          30.200000762939453,
          30.110000610351562,
          29.1299991607666,
          29.799999237060547,
          29.18000030517578,
          28.68000030517578,
          29.25,
          30.299999237060547,
          29.600000381469727,
          29.170000076293945,
          30.350000381469727,
          30.420000076293945,
          30.149999618530273,
          29.969999313354492,
          29.579999923706055,
          28.90999984741211,
          29.520000457763672,
          29.790000915527344,
          29.979999542236328,
          30.260000228881836,
          30.190000534057617,
          30.139999389648438,
          29.329999923706055,
          30.049999237060547,
          29.309999465942383,
          29.489999771118164,
          30.25,
          29.989999771118164,
          30.290000915527344,
          31.600000381469727,
          31.84000015258789,
          32,
          32.66999816894531,
          32.900001525878906,
          33.060001373291016,
          32.15999984741211,
          32.599998474121094,
          32.7599983215332,
          31.760000228881836,
          31.520000457763672,
          30.450000762939453,
          29.850000381469727,
          29.950000762939453,
          30.540000915527344,
          29.829999923706055,
          29.520000457763672,
          30.100000381469727,
          31.540000915527344,
          32.66999816894531,
          32.720001220703125,
          32.70000076293945,
          32.79999923706055,
          32.86000061035156,
          32.7599983215332,
          31.719999313354492,
          31.8799991607666,
          32.849998474121094,
          32.869998931884766,
          33.45000076293945,
          34.470001220703125,
          35.9900016784668,
          34.79999923706055,
          33.79999923706055,
          33.95000076293945,
          35.40999984741211,
          35.31999969482422,
          34.900001525878906,
          36.0099983215332,
          36.189998626708984,
          35.400001525878906,
          35.02000045776367,
          35.4900016784668,
          36.5,
          36.09000015258789,
          34.47999954223633,
          35.029998779296875,
          34.65999984741211,
          35.189998626708984,
          35.11000061035156,
          35.13999938964844,
          35.95000076293945,
          36.2400016784668,
          37.380001068115234,
          37.310001373291016,
          36.7599983215332,
          36.33000183105469,
          36.290000915527344,
          36.70000076293945,
          35.93000030517578,
          35.22999954223633,
          34.7400016784668,
          35.189998626708984,
          33.79999923706055,
          34.27000045776367,
          34.08000183105469,
          34,
          34.290000915527344,
          33.33000183105469,
          33.599998474121094,
          34.650001525878906,
          34.2400016784668,
          33.90999984741211,
          34.599998474121094,
          33.58000183105469,
          33.939998626708984,
          33.56999969482422,
          33.029998779296875,
          32.79999923706055,
          33.400001525878906,
          33.29999923706055,
          34.11000061035156,
          33.86000061035156,
          34.20000076293945,
          34.400001525878906,
          34.40999984741211,
          35.439998626708984,
          34.849998474121094,
          34.779998779296875,
          34.02000045776367,
          34.27000045776367,
          34.439998626708984,
          33.959999084472656,
          33.93000030517578,
          33.79999923706055,
          33.099998474121094,
          33.650001525878906,
          33.939998626708984,
          33.79999923706055,
          33.95000076293945,
          33.56999969482422,
          33.060001373291016,
          32.61000061035156,
          32.849998474121094,
          32.20000076293945,
          30.389999389648438,
          30.43000030517578,
          30.34000015258789,
          30.959999084472656,
          31.489999771118164,
          31.979999542236328,
          32.209999084472656,
          32.02000045776367,
          31.459999084472656,
          30.809999465942383,
          30,
          30.1200008392334,
          31.8799991607666,
          32.88999938964844,
          31.059999465942383,
          30.489999771118164,
          30.170000076293945,
          30.280000686645508,
          31.200000762939453,
          30.959999084472656,
          30.100000381469727,
          29.719999313354492,
          29,
          28.700000762939453,
          29.6299991607666,
          30.25,
          29.700000762939453,
          28.700000762939453,
          27.770000457763672,
          27.549999237060547,
          28.469999313354492,
          27.3700008392334,
          26.600000381469727,
          25.950000762939453,
          25.479999542236328,
          26.950000762939453,
          27.950000762939453,
          27.790000915527344,
          28.690000534057617,
          28.1200008392334,
          26.809999465942383,
          26.200000762939453,
          25.559999465942383,
          24.90999984741211,
          25.149999618530273,
          25,
          24.3799991607666,
          24,
          24.809999465942383,
          25.059999465942383,
          26.670000076293945,
          26.959999084472656,
          26.979999542236328,
          28.299999237060547,
          28.260000228881836,
          29.290000915527344,
          28.850000381469727,
          28.200000762939453,
          28.209999084472656,
          28.700000762939453,
          29.15999984741211,
          28.459999084472656,
          28.440000534057617,
          28.559999465942383,
          28.450000762939453,
          28.280000686645508,
          27.639999389648438,
          28.049999237060547,
          26.56999969482422,
          26.600000381469727,
          28.209999084472656,
          28.149999618530273,
          29.200000762939453,
          28.540000915527344,
          27.5,
          28.040000915527344,
          27.860000610351562,
          27.959999084472656,
          27.489999771118164,
          28.1200008392334,
          28.200000762939453,
          28.469999313354492,
          29.200000762939453,
          28.5,
          28.770000457763672,
          28,
          28.450000762939453,
          27.100000381469727,
          25.969999313354492,
          26.690000534057617,
          26.100000381469727,
          28.299999237060547,
          26.920000076293945,
          27.549999237060547,
          26.5,
          28.5,
          28.049999237060547,
          28.100000381469727,
          27.739999771118164,
          26.729999542236328,
          27.049999237060547,
          27.239999771118164,
          25.25,
          24.6299991607666,
          24.459999084472656,
          24.829999923706055,
          24.360000610351562,
          24.100000381469727,
          24.329999923706055,
          22.829999923706055,
          24.290000915527344,
          24.100000381469727,
          23.149999618530273,
          23.59000015258789,
          22.850000381469727,
          23.229999542236328,
          23.040000915527344,
          23.799999237060547,
          22.799999237060547,
          22.25,
          22.690000534057617,
          22.940000534057617,
          21.719999313354492,
          21.979999542236328,
          21,
          21.059999465942383,
          21.75,
          23.1299991607666,
          23.5,
          22.5,
          23.06999969482422,
          23.440000534057617,
          24,
          24,
          23.100000381469727,
          23.100000381469727,
          23.510000228881836,
          23.700000762939453,
          24.809999465942383,
          24.049999237060547,
          24.209999084472656,
          25.25,
          25.030000686645508,
          23.399999618530273,
          23.600000381469727,
          23.600000381469727,
          24.1200008392334,
          25.440000534057617,
          25.989999771118164,
          26.899999618530273,
          28.1299991607666,
          28.09000015258789,
          29.549999237060547,
          29.790000915527344,
          31.93000030517578,
          31.389999389648438,
          30.639999389648438,
          27.600000381469727,
          27.780000686645508,
          30.809999465942383,
          30.790000915527344,
          30.850000381469727,
          29.149999618530273,
          28.860000610351562,
          28.540000915527344,
          30.040000915527344,
          30.75,
          30.31999969482422,
          29.719999313354492,
          29.399999618530273,
          28.43000030517578,
          28.559999465942383,
          28.360000610351562,
          29.09000015258789,
          30.8799991607666,
          30.6299991607666,
          31.940000534057617,
          32.119998931884766,
          32.400001525878906,
          33.25,
          33.349998474121094,
          33.59000015258789,
          33.560001373291016,
          33.75,
          31.25,
          31.389999389648438,
          31.309999465942383,
          29.950000762939453,
          30,
          29.510000228881836,
          28.389999389648438,
          28.420000076293945,
          27.8700008392334,
          27.59000015258789,
          27.649999618530273,
          28.559999465942383,
          28.18000030517578,
          28.25,
          28,
          26.989999771118164,
          26.15999984741211,
          27.049999237060547,
          27.709999084472656,
          27.200000762939453,
          26.75,
          27.280000686645508,
          27.6200008392334,
          27.600000381469727,
          27.399999618530273,
          27.260000228881836,
          27.110000610351562,
          27.5,
          27.600000381469727,
          27.3700008392334,
          26.889999389648438,
          27.270000457763672,
          27.649999618530273,
          26.75,
          26.75,
          26.25,
          26.979999542236328,
          27.260000228881836,
          27.149999618530273,
          27.809999465942383,
          27.920000076293945,
          27.18000030517578,
          27.829999923706055,
          26.729999542236328,
          27.25,
          27.579999923706055,
          28.010000228881836,
          28.110000610351562,
          27.600000381469727,
          27.649999618530273,
          26.889999389648438,
          26.729999542236328,
          26.479999542236328,
          27.75,
          27.600000381469727,
          28.100000381469727,
          28.190000534057617,
          29.040000915527344,
          29.219999313354492,
          29.850000381469727,
          29.690000534057617,
          30.06999969482422,
          29.670000076293945,
          29.700000762939453,
          29.350000381469727,
          29.420000076293945,
          29.049999237060547,
          29.360000610351562,
          30.139999389648438,
          30.139999389648438,
          29.799999237060547,
          29.899999618530273,
          30.34000015258789,
          30.280000686645508,
          29.969999313354492,
          29.790000915527344,
          29.8799991607666,
          30.639999389648438,
          29.809999465942383,
          29.809999465942383,
          29.549999237060547,
          29.450000762939453,
          29.049999237060547,
          28.799999237060547,
          28.239999771118164,
          28.229999542236328,
          28.600000381469727,
          29.020000457763672,
          28.709999084472656,
          29,
          29.200000762939453,
          29.149999618530273,
          30,
          30.739999771118164,
          30.670000076293945,
          31.18000030517578,
          31.110000610351562,
          30.239999771118164,
          30.459999084472656,
          29.75,
          29.899999618530273,
          30.59000015258789,
          29.940000534057617,
          29.809999465942383,
          29.6299991607666,
          30.170000076293945,
          31.030000686645508,
          31.170000076293945,
          30.540000915527344,
          30.90999984741211,
          30.81999969482422,
          30.329999923706055,
          29.8799991607666,
          30.450000762939453,
          30.559999465942383,
          30.110000610351562,
          30.06999969482422,
          30.40999984741211,
          30.84000015258789,
          30.450000762939453,
          30.899999618530273,
          31.530000686645508,
          31.920000076293945,
          32.29999923706055,
          32.33000183105469,
          32.33000183105469,
          32.04999923706055,
          31.809999465942383,
          31.639999389648438,
          31.219999313354492,
          31.450000762939453,
          31.34000015258789,
          32.13999938964844,
          31.110000610351562,
          29.799999237060547,
          29.549999237060547,
          30.780000686645508,
          30.5,
          30.18000030517578,
          28.700000762939453,
          28.100000381469727,
          28.100000381469727,
          29.06999969482422,
          28.649999618530273,
          28.989999771118164,
          28.90999984741211,
          29.1299991607666,
          28.709999084472656,
          28.15999984741211,
          27.920000076293945,
          28.649999618530273,
          27.940000534057617,
          28.290000915527344,
          26.950000762939453,
          27.5,
          27,
          27.200000762939453,
          27.399999618530273,
          27,
          26.709999084472656,
          25.81999969482422,
          26.65999984741211,
          26.309999465942383,
          26.6200008392334,
          26.469999313354492,
          26.299999237060547,
          26.489999771118164,
          26.280000686645508,
          27.100000381469727,
          27.25,
          27.329999923706055,
          26.90999984741211,
          27.989999771118164,
          28.299999237060547,
          27.81999969482422,
          28.809999465942383,
          29.719999313354492,
          29.1200008392334,
          28.670000076293945,
          29.31999969482422,
          29.559999465942383,
          28.709999084472656,
          28.399999618530273,
          27.25,
          27.049999237060547,
          27.450000762939453,
          27.260000228881836,
          27.18000030517578,
          27.329999923706055,
          27.709999084472656,
          27.360000610351562,
          28.200000762939453,
          28.770000457763672,
          28.299999237060547,
          27.90999984741211,
          27.65999984741211,
          27.790000915527344,
          27.6299991607666,
          28.030000686645508,
          27.940000534057617,
          27.5,
          27.540000915527344,
          27.56999969482422,
          28.530000686645508,
          28.15999984741211,
          28.850000381469727,
          29.5,
          28.739999771118164,
          28.799999237060547,
          29.389999389648438,
          29.31999969482422,
          29.31999969482422,
          28.6200008392334,
          28.420000076293945,
          28.940000534057617,
          29.600000381469727,
          29.450000762939453,
          29.149999618530273,
          28.780000686645508,
          28.81999969482422,
          28.989999771118164,
          28.850000381469727,
          29,
          29.459999084472656,
          30.149999618530273,
          29.350000381469727,
          29,
          28.770000457763672,
          29.450000762939453,
          29.09000015258789,
          29.010000228881836,
          28.3700008392334,
          28.649999618530273,
          29.389999389648438,
          29.450000762939453,
          29.200000762939453,
          29.209999084472656,
          29.25,
          28.760000228881836,
          28.68000030517578,
          28.969999313354492,
          28.399999618530273,
          28.709999084472656,
          28.420000076293945,
          28.079999923706055,
          29.09000015258789,
          28.989999771118164,
          28.450000762939453,
          29.020000457763672,
          28.93000030517578,
          29.219999313354492,
          29.360000610351562,
          29.020000457763672,
          29.889999389648438,
          29.829999923706055,
          29.719999313354492,
          29.049999237060547,
          29.170000076293945,
          29.860000610351562,
          30.170000076293945,
          30.3799991607666,
          30.43000030517578,
          31.15999984741211,
          31,
          31.639999389648438,
          31.100000381469727,
          27.920000076293945,
          28.559999465942383,
          28.299999237060547,
          29.149999618530273,
          29.81999969482422,
          29.65999984741211,
          29.760000228881836,
          29.760000228881836,
          29.690000534057617,
          29.100000381469727,
          29.850000381469727,
          30.299999237060547,
          30.360000610351562,
          30,
          29.729999542236328,
          29.520000457763672,
          29.760000228881836,
          28.889999389648438,
          28.65999984741211,
          28.850000381469727,
          28.850000381469727,
          28.719999313354492,
          29.309999465942383,
          28.31999969482422,
          28.299999237060547,
          28.649999618530273,
          28.299999237060547,
          28.690000534057617,
          28.049999237060547,
          27.780000686645508,
          28.100000381469727,
          28.649999618530273,
          28.1200008392334,
          27.989999771118164,
          27.559999465942383,
          27.350000381469727,
          27.389999389648438,
          27.649999618530273,
          27.8700008392334,
          28.3700008392334,
          28.950000762939453,
          29.15999984741211,
          28.65999984741211,
          28.899999618530273,
          28.809999465942383,
          28.950000762939453,
          28.5,
          28.239999771118164,
          27.799999237060547,
          27.459999084472656,
          27.84000015258789,
          27.700000762939453,
          27.450000762939453,
          27.5,
          27.809999465942383,
          27.75,
          27.100000381469727,
          26.940000534057617,
          26.829999923706055,
          26.479999542236328,
          26.229999542236328,
          25.829999923706055,
          26.40999984741211,
          26.809999465942383,
          27.110000610351562,
          26.450000762939453,
          27.579999923706055,
          27.700000762939453,
          27.829999923706055,
          27.979999542236328,
          27.600000381469727,
          27.420000076293945,
          27.56999969482422,
          27.670000076293945,
          27.459999084472656,
          27.719999313354492,
          27.989999771118164,
          27.93000030517578,
          28.31999969482422,
          28.719999313354492,
          28.719999313354492,
          29.100000381469727,
          28.899999618530273,
          28.899999618530273,
          28.690000534057617,
          28.959999084472656,
          29.670000076293945,
          29.479999542236328,
          29,
          28.93000030517578,
          28.690000534057617,
          28.75,
          28.719999313354492,
          28.850000381469727,
          28.5,
          28.530000686645508,
          28.6299991607666,
          28.290000915527344,
          28.520000457763672,
          29.1200008392334,
          29.299999237060547,
          29.049999237060547,
          29,
          29.1200008392334,
          29.100000381469727,
          29.100000381469727,
          29.149999618530273,
          28.81999969482422,
          28.600000381469727,
          29.040000915527344,
          28.610000610351562,
          29.010000228881836,
          28.450000762939453,
          28.719999313354492,
          28.709999084472656,
          28.520000457763672,
          28.600000381469727,
          28,
          27.729999542236328,
          27.420000076293945,
          27.420000076293945,
          27.270000457763672,
          28.25,
          27.200000762939453,
          28.260000228881836,
          28.059999465942383,
          28.100000381469727,
          27.959999084472656,
          27.5,
          27.5,
          27.799999237060547,
          27.450000762939453,
          27.450000762939453,
          27.700000762939453,
          27.59000015258789,
          27.31999969482422,
          27.149999618530273,
          26.979999542236328,
          27,
          26.850000381469727,
          26.8799991607666,
          27.059999465942383,
          27.190000534057617,
          27.389999389648438,
          27.84000015258789,
          28.139999389648438,
          27.809999465942383,
          27.889999389648438,
          28,
          28.079999923706055,
          28,
          28.200000762939453,
          28.270000457763672,
          28.1299991607666,
          28.18000030517578,
          28.25,
          28.209999084472656,
          28.209999084472656,
          28.149999618530273,
          28.3799991607666,
          28.489999771118164,
          28.489999771118164,
          28.700000762939453,
          28.719999313354492,
          28.780000686645508,
          28.969999313354492,
          29.139999389648438,
          29.040000915527344,
          28.920000076293945,
          29.09000015258789,
          29.149999618530273,
          29.110000610351562,
          29.6299991607666,
          30.309999465942383,
          30.6200008392334,
          30.690000534057617,
          30.549999237060547,
          30.799999237060547,
          31.809999465942383,
          31.809999465942383,
          32.5,
          31.200000762939453,
          31.209999084472656,
          31.110000610351562,
          31.920000076293945,
          31.75,
          31.25,
          31.920000076293945,
          31.25,
          30.440000534057617,
          30.610000610351562,
          31.270000457763672,
          31.75,
          30.280000686645508,
          30.389999389648438,
          30.850000381469727,
          30.549999237060547,
          29.75,
          29.600000381469727,
          29.309999465942383,
          29.100000381469727,
          29.209999084472656,
          29.200000762939453,
          29.420000076293945,
          29.5,
          29.049999237060547,
          28.799999237060547,
          29.469999313354492,
          29.43000030517578,
          29.040000915527344,
          28.770000457763672,
          27.940000534057617,
          28.149999618530273,
          28.049999237060547,
          28.149999618530273,
          28.389999389648438,
          28.649999618530273,
          29.510000228881836,
          29.079999923706055,
          29.049999237060547,
          29.239999771118164,
          29.270000457763672,
          28.739999771118164,
          28.3700008392334,
          28.299999237060547,
          28.790000915527344,
          28.549999237060547,
          28.450000762939453,
          28.649999618530273,
          28.219999313354492,
          28,
          27.940000534057617,
          27.700000762939453,
          27.770000457763672,
          28.399999618530273,
          28,
          27.479999542236328,
          27.799999237060547,
          27.510000228881836,
          27.520000457763672,
          27.8700008392334,
          28.020000457763672,
          27.479999542236328,
          27.479999542236328,
          27.440000534057617,
          27.059999465942383,
          26.350000381469727,
          26.899999618530273,
          27.049999237060547,
          27.75,
          27.950000762939453,
          27.329999923706055,
          26.93000030517578,
          27.350000381469727,
          26.5,
          26.670000076293945,
          26.649999618530273,
          27.700000762939453,
          27.5,
          28,
          27.350000381469727,
          26.860000610351562,
          26.040000915527344,
          26.059999465942383,
          26.440000534057617,
          26.510000228881836,
          25.5,
          25.850000381469727,
          25.260000228881836,
          25.459999084472656,
          25.5,
          25.399999618530273,
          25,
          24.84000015258789,
          24.65999984741211,
          24.549999237060547,
          24.709999084472656,
          24.549999237060547,
          24.1299991607666,
          24.31999969482422,
          24.5,
          24.649999618530273,
          24.190000534057617,
          24.149999618530273,
          24.459999084472656,
          24.399999618530273,
          24.6200008392334,
          24.600000381469727,
          24.520000457763672,
          24.600000381469727,
          24.799999237060547,
          24.719999313354492,
          25,
          25.190000534057617,
          25.600000381469727,
          26.200000762939453,
          25.84000015258789,
          25.579999923706055,
          25.200000762939453,
          25.229999542236328,
          25.200000762939453,
          25.40999984741211,
          24.700000762939453,
          24.75,
          24.690000534057617,
          24.489999771118164,
          24.84000015258789,
          24.899999618530273,
          25.399999618530273,
          25,
          24.700000762939453,
          24.639999389648438,
          24.520000457763672,
          23.100000381469727,
          23.799999237060547,
          24.389999389648438,
          25.450000762939453,
          26.010000228881836,
          25.899999618530273,
          25.530000686645508,
          25.3700008392334,
          25.170000076293945,
          24.170000076293945,
          24.18000030517578,
          25.020000457763672,
          24.920000076293945,
          24.959999084472656,
          24.260000228881836,
          24.479999542236328,
          24.059999465942383,
          24.200000762939453,
          24.690000534057617,
          24.709999084472656,
          24.579999923706055,
          23.959999084472656,
          23.81999969482422,
          23.56999969482422,
          23.350000381469727,
          23.260000228881836,
          23.280000686645508,
          22.940000534057617,
          23.270000457763672,
          23.899999618530273,
          23.719999313354492,
          24.18000030517578,
          24.34000015258789,
          24.56999969482422,
          24.100000381469727,
          23.8700008392334,
          24.899999618530273,
          25.68000030517578,
          25.690000534057617,
          25.75,
          26.850000381469727,
          27.530000686645508,
          27.200000762939453,
          27.149999618530273,
          27,
          27.200000762939453,
          27,
          26.399999618530273,
          26.43000030517578,
          26.530000686645508,
          26.350000381469727,
          25.75,
          26.360000610351562,
          26.030000686645508,
          26.020000457763672,
          26.780000686645508,
          26.479999542236328,
          27.149999618530273,
          28.149999618530273,
          27.899999618530273,
          27.549999237060547,
          26.729999542236328,
          26.610000610351562,
          26.469999313354492,
          26.43000030517578,
          26.920000076293945,
          27.43000030517578,
          26.639999389648438,
          27.1200008392334,
          26.829999923706055,
          27.200000762939453,
          27,
          27.780000686645508,
          28.709999084472656,
          28.479999542236328,
          28.31999969482422,
          27.940000534057617,
          27.5,
          27.799999237060547,
          28.5,
          28.690000534057617,
          28.399999618530273,
          28.459999084472656,
          27.15999984741211,
          27.290000915527344,
          27.149999618530273,
          26.75,
          27,
          26.5,
          26.260000228881836,
          26.899999618530273,
          26.799999237060547,
          27.190000534057617,
          27.59000015258789,
          28.31999969482422,
          28.6299991607666,
          28.350000381469727,
          27.93000030517578,
          27.520000457763672,
          26.649999618530273,
          27.399999618530273,
          27.75,
          28,
          28.1299991607666,
          28.399999618530273,
          29.030000686645508,
          29.639999389648438,
          29.100000381469727,
          29.149999618530273,
          29.649999618530273,
          29.989999771118164,
          30.059999465942383,
          30.049999237060547,
          30.65999984741211,
          31.059999465942383,
          31.399999618530273,
          31.6200008392334,
          31.5,
          30.1200008392334,
          30.219999313354492,
          30.239999771118164,
          29.549999237060547,
          28.920000076293945,
          28.389999389648438,
          28.65999984741211,
          27.68000030517578,
          27.649999618530273,
          28,
          27.389999389648438,
          27.139999389648438,
          27.399999618530273,
          27.6200008392334,
          27.469999313354492,
          27.780000686645508,
          27.299999237060547,
          26.860000610351562,
          26.489999771118164,
          26.600000381469727,
          27.719999313354492,
          27.799999237060547,
          28.100000381469727,
          27.520000457763672,
          28.100000381469727,
          27.8700008392334,
          27.790000915527344,
          27.350000381469727,
          26.899999618530273,
          26.219999313354492,
          26.459999084472656,
          26.239999771118164,
          25.959999084472656,
          26.299999237060547,
          26.520000457763672,
          26.3799991607666,
          27.25,
          27.790000915527344,
          28,
          28.309999465942383,
          28.25,
          27.700000762939453,
          27.579999923706055,
          27.309999465942383,
          27.399999618530273,
          27.280000686645508,
          27.6200008392334,
          27.84000015258789,
          27.299999237060547,
          27.59000015258789,
          27.6200008392334,
          27.799999237060547,
          28.530000686645508,
          28.290000915527344,
          28.600000381469727,
          28.260000228881836,
          28.420000076293945,
          28.030000686645508,
          28.520000457763672,
          27.579999923706055,
          27.43000030517578,
          27.6200008392334,
          28.100000381469727,
          28,
          28.600000381469727,
          28.25,
          28.3799991607666,
          27.81999969482422,
          28.350000381469727,
          28.34000015258789,
          28.299999237060547,
          28.709999084472656,
          28.600000381469727,
          29.290000915527344,
          29.729999542236328,
          29.389999389648438,
          29.59000015258789,
          29.84000015258789,
          30.299999237060547,
          30.559999465942383,
          30.790000915527344,
          31.25,
          30.989999771118164,
          30.780000686645508,
          31.149999618530273,
          31.079999923706055,
          30.979999542236328,
          30.8799991607666,
          30.899999618530273,
          32.04999923706055,
          31.729999542236328,
          32.20000076293945,
          32.11000061035156,
          31.75,
          32.470001220703125,
          32.43000030517578,
          32.380001068115234,
          32.79999923706055,
          32.599998474121094,
          32.77000045776367,
          33.09000015258789,
          33.849998474121094,
          33.5099983215332,
          33.7400016784668,
          33.16999816894531,
          33.41999816894531,
          33.369998931884766,
          33.38999938964844,
          33.810001373291016,
          33.599998474121094,
          32.70000076293945,
          33.119998931884766,
          32.869998931884766,
          32.529998779296875,
          32.4900016784668,
          32.599998474121094,
          32.61000061035156,
          32.52000045776367,
          32.45000076293945,
          32.18000030517578,
          32.400001525878906,
          31.59000015258789,
          32.36000061035156,
          33.02000045776367,
          34.439998626708984,
          35.45000076293945,
          33.70000076293945,
          34.06999969482422,
          33.34000015258789,
          33.099998474121094,
          33.2400016784668,
          33.150001525878906,
          33.08000183105469,
          33.290000915527344,
          32.599998474121094,
          32.189998626708984,
          31.8799991607666,
          32.099998474121094,
          32.5099983215332,
          32.880001068115234,
          32.66999816894531,
          32.650001525878906,
          32.220001220703125,
          32.619998931884766,
          32.81999969482422,
          32.72999954223633,
          32.43000030517578,
          32.720001220703125,
          33.4900016784668,
          33.88999938964844,
          33.63999938964844,
          33.43000030517578,
          33.720001220703125,
          33.95000076293945,
          34.369998931884766,
          34.650001525878906,
          34.529998779296875,
          34.47999954223633,
          34.779998779296875,
          35.5,
          35.65999984741211,
          35.029998779296875,
          34.40999984741211,
          33.599998474121094,
          33.43000030517578,
          33.47999954223633,
          32.5,
          32.2400016784668,
          32.79999923706055,
          33.04999923706055,
          34.2599983215332,
          34.2599983215332,
          34.40999984741211,
          34.88999938964844,
          35.06999969482422,
          34.459999084472656,
          34.79999923706055,
          35.349998474121094,
          35.540000915527344,
          35.650001525878906,
          35.189998626708984,
          34.779998779296875,
          34.18000030517578,
          34,
          33.970001220703125,
          34.31999969482422,
          33.619998931884766,
          34.45000076293945,
          35.369998931884766,
          35.459999084472656,
          34.689998626708984,
          34.58000183105469,
          34.15999984741211,
          34.209999084472656,
          34.400001525878906,
          33.900001525878906,
          34.029998779296875,
          35.150001525878906,
          35.20000076293945,
          34.61000061035156,
          33.88999938964844,
          33.95000076293945,
          34.470001220703125,
          34.45000076293945,
          34.52000045776367,
          35.86000061035156,
          36.11000061035156,
          36.70000076293945,
          36.720001220703125,
          36.619998931884766,
          36.189998626708984,
          36.349998474121094,
          36.5,
          37.349998474121094,
          36.81999969482422,
          37.54999923706055,
          38.029998779296875,
          38.29999923706055,
          37.7400016784668,
          37.95000076293945,
          37.7599983215332,
          37.84000015258789,
          37.70000076293945,
          38.099998474121094,
          37.68000030517578,
          38.29999923706055,
          38.31999969482422,
          38.29999923706055,
          38.189998626708984,
          36.400001525878906,
          36.130001068115234,
          36.560001373291016,
          36.599998474121094,
          36.06999969482422,
          36.13999938964844,
          36.15999984741211,
          36,
          36.189998626708984,
          36.2400016784668,
          35.900001525878906,
          35,
          35.0099983215332,
          35.619998931884766,
          35.61000061035156,
          34.779998779296875,
          34.93000030517578,
          34.45000076293945,
          34.630001068115234,
          34.79999923706055,
          35.36000061035156,
          35.81999969482422,
          36.869998931884766,
          37.150001525878906,
          37.2400016784668,
          34.47999954223633,
          33.72999954223633,
          33.33000183105469,
          33.97999954223633,
          33.439998626708984,
          33,
          31.469999313354492,
          31.850000381469727,
          31.600000381469727,
          30.6299991607666,
          31.040000915527344,
          30.440000534057617,
          30.479999542236328,
          28.389999389648438,
          29,
          27.780000686645508,
          25.209999084472656,
          26.610000610351562,
          24.079999923706055,
          26.670000076293945,
          26.850000381469727,
          24.469999313354492,
          24.489999771118164,
          22.399999618530273,
          24.709999084472656,
          26.540000915527344,
          26.549999237060547,
          24.5,
          24.790000915527344,
          24.850000381469727,
          24.059999465942383,
          23.479999542236328,
          23.290000915527344,
          23.6299991607666,
          24.979999542236328,
          25.510000228881836,
          25.780000686645508,
          26.09000015258789,
          26.139999389648438,
          26.209999084472656,
          25.799999237060547,
          25.920000076293945,
          26.25,
          26.950000762939453,
          26.18000030517578,
          24.399999618530273,
          25.299999237060547,
          25.260000228881836,
          26,
          26.549999237060547,
          25.299999237060547,
          24.899999618530273,
          24.520000457763672,
          23.489999771118164,
          23.270000457763672,
          23.549999237060547,
          22.850000381469727,
          23.110000610351562,
          23.709999084472656,
          22.59000015258789,
          23.5,
          23.479999542236328,
          23.530000686645508,
          24.149999618530273,
          23.510000228881836,
          24.649999618530273,
          25.18000030517578,
          25.299999237060547,
          25.610000610351562,
          25.280000686645508,
          25.649999618530273,
          26.510000228881836,
          27.889999389648438,
          28.049999237060547,
          28.489999771118164,
          28.399999618530273,
          27.6200008392334,
          26.850000381469727,
          26.420000076293945,
          26.350000381469727,
          26.149999618530273,
          27.09000015258789,
          27.81999969482422,
          28.790000915527344,
          28.829999923706055,
          28.75,
          28.3700008392334,
          29,
          27.850000381469727,
          28.25,
          27.270000457763672,
          27.700000762939453,
          27.530000686645508,
          27.760000228881836,
          28.030000686645508,
          27.799999237060547,
          28.34000015258789,
          28.049999237060547,
          27.719999313354492,
          27.3799991607666,
          27.309999465942383,
          27.559999465942383,
          27.399999618530273,
          27.549999237060547,
          28.309999465942383,
          28.209999084472656,
          28.329999923706055,
          27.8700008392334,
          28,
          28.489999771118164,
          28.06999969482422,
          28.239999771118164,
          28.06999969482422,
          27.829999923706055,
          28.270000457763672,
          28.100000381469727,
          28.209999084472656,
          28.770000457763672,
          28.549999237060547,
          28.739999771118164,
          28.90999984741211,
          28.950000762939453,
          27.100000381469727,
          27.040000915527344,
          26.25,
          27.020000457763672,
          26.520000457763672,
          26.479999542236328,
          26.6299991607666,
          26.489999771118164,
          26.75,
          26.329999923706055,
          26.5,
          27.549999237060547,
          26.3799991607666,
          26.899999618530273,
          27.229999542236328,
          26.969999313354492,
          27,
          26.579999923706055,
          26.600000381469727,
          26.280000686645508,
          25.469999313354492,
          25.860000610351562,
          26.100000381469727,
          26.219999313354492,
          26.100000381469727,
          25.600000381469727,
          25.139999389648438,
          25.270000457763672,
          24.709999084472656,
          25.270000457763672,
          25.030000686645508,
          24.25,
          24.450000762939453,
          24.270000457763672,
          24.610000610351562,
          24.399999618530273,
          24.459999084472656,
          24.309999465942383,
          24,
          24.5,
          24.200000762939453,
          24.540000915527344,
          24.729999542236328,
          24.790000915527344,
          24.579999923706055,
          25.110000610351562,
          25.1299991607666,
          25.6299991607666,
          25.6200008392334,
          25.56999969482422,
          25.709999084472656,
          25.280000686645508,
          24.31999969482422,
          24.280000686645508,
          23.68000030517578,
          24.68000030517578,
          25.5,
          26.020000457763672,
          26.149999618530273,
          26.6200008392334,
          27.25,
          26.969999313354492,
          26.5,
          27.139999389648438,
          28,
          28.75,
          28.290000915527344,
          28.06999969482422,
          29.1200008392334,
          29.3799991607666,
          29.34000015258789,
          29.420000076293945,
          29.6200008392334,
          28.559999465942383,
          28.3799991607666,
          28.540000915527344,
          28.739999771118164,
          28.729999542236328,
          28.969999313354492,
          28.649999618530273,
          28.579999923706055,
          29.469999313354492,
          29.950000762939453,
          29.850000381469727,
          29.93000030517578,
          30.260000228881836,
          30.260000228881836,
          29.600000381469727,
          28.969999313354492,
          29.15999984741211,
          29.1299991607666,
          29.729999542236328,
          30.059999465942383,
          29.6299991607666,
          29.389999389648438,
          28.84000015258789,
          28.3700008392334,
          28.969999313354492,
          29.8700008392334,
          29.25,
          29.440000534057617,
          29.579999923706055,
          29.979999542236328,
          29.350000381469727,
          29.049999237060547,
          28.829999923706055,
          28.649999618530273,
          28.790000915527344,
          28.420000076293945,
          28.450000762939453,
          28,
          28.229999542236328,
          27.65999984741211,
          28.049999237060547,
          28.290000915527344,
          28.350000381469727,
          28.280000686645508,
          28.520000457763672,
          28.09000015258789,
          28.579999923706055,
          28.719999313354492,
          28.639999389648438,
          28.010000228881836,
          27.65999984741211,
          27.670000076293945,
          26.579999923706055,
          26.829999923706055,
          26.540000915527344,
          25.950000762939453,
          25.43000030517578,
          24.799999237060547,
          24.790000915527344,
          24.6200008392334,
          24.5,
          25.149999618530273,
          24.3799991607666,
          23.65999984741211,
          24.149999618530273,
          24.3700008392334,
          23.950000762939453,
          24.09000015258789,
          23.920000076293945,
          24.209999084472656,
          24.299999237060547,
          24.5,
          24.420000076293945,
          24.280000686645508,
          23.739999771118164,
          23.850000381469727,
          23.959999084472656,
          24.06999969482422,
          24.780000686645508,
          24.25,
          23.920000076293945,
          24.06999969482422,
          24.059999465942383,
          24.040000915527344,
          23.959999084472656,
          23.889999389648438,
          24.139999389648438,
          23.81999969482422,
          23.780000686645508,
          23.649999618530273,
          23.729999542236328,
          23.280000686645508,
          23.329999923706055,
          23.209999084472656,
          23.399999618530273,
          23.190000534057617,
          22.389999389648438,
          22.469999313354492,
          22.75,
          22.329999923706055,
          22.270000457763672,
          21.979999542236328,
          22.360000610351562,
          22.690000534057617,
          23,
          22.790000915527344,
          23.389999389648438,
          23.020000457763672,
          23.3700008392334,
          23.350000381469727,
          23.5,
          23.270000457763672,
          23.329999923706055,
          23.6299991607666,
          23.639999389648438,
          23.59000015258789,
          23.3700008392334,
          23.25,
          23.420000076293945,
          23.389999389648438,
          23.399999618530273,
          24.09000015258789,
          24.100000381469727,
          24.190000534057617,
          24.610000610351562,
          24.309999465942383,
          24.280000686645508,
          24.700000762939453,
          24.56999969482422,
          24.920000076293945,
          25.09000015258789,
          25.030000686645508,
          25.139999389648438,
          25.360000610351562,
          25.469999313354492,
          25.540000915527344,
          24.700000762939453,
          24.399999618530273,
          23.920000076293945,
          24.100000381469727
         ]
        }
       ],
       "layout": {
        "autosize": false,
        "height": 900,
        "template": {
         "data": {
          "bar": [
           {
            "error_x": {
             "color": "#2a3f5f"
            },
            "error_y": {
             "color": "#2a3f5f"
            },
            "marker": {
             "line": {
              "color": "#E5ECF6",
              "width": 0.5
             }
            },
            "type": "bar"
           }
          ],
          "barpolar": [
           {
            "marker": {
             "line": {
              "color": "#E5ECF6",
              "width": 0.5
             }
            },
            "type": "barpolar"
           }
          ],
          "carpet": [
           {
            "aaxis": {
             "endlinecolor": "#2a3f5f",
             "gridcolor": "white",
             "linecolor": "white",
             "minorgridcolor": "white",
             "startlinecolor": "#2a3f5f"
            },
            "baxis": {
             "endlinecolor": "#2a3f5f",
             "gridcolor": "white",
             "linecolor": "white",
             "minorgridcolor": "white",
             "startlinecolor": "#2a3f5f"
            },
            "type": "carpet"
           }
          ],
          "choropleth": [
           {
            "colorbar": {
             "outlinewidth": 0,
             "ticks": ""
            },
            "type": "choropleth"
           }
          ],
          "contour": [
           {
            "colorbar": {
             "outlinewidth": 0,
             "ticks": ""
            },
            "colorscale": [
             [
              0,
              "#0d0887"
             ],
             [
              0.1111111111111111,
              "#46039f"
             ],
             [
              0.2222222222222222,
              "#7201a8"
             ],
             [
              0.3333333333333333,
              "#9c179e"
             ],
             [
              0.4444444444444444,
              "#bd3786"
             ],
             [
              0.5555555555555556,
              "#d8576b"
             ],
             [
              0.6666666666666666,
              "#ed7953"
             ],
             [
              0.7777777777777778,
              "#fb9f3a"
             ],
             [
              0.8888888888888888,
              "#fdca26"
             ],
             [
              1,
              "#f0f921"
             ]
            ],
            "type": "contour"
           }
          ],
          "contourcarpet": [
           {
            "colorbar": {
             "outlinewidth": 0,
             "ticks": ""
            },
            "type": "contourcarpet"
           }
          ],
          "heatmap": [
           {
            "colorbar": {
             "outlinewidth": 0,
             "ticks": ""
            },
            "colorscale": [
             [
              0,
              "#0d0887"
             ],
             [
              0.1111111111111111,
              "#46039f"
             ],
             [
              0.2222222222222222,
              "#7201a8"
             ],
             [
              0.3333333333333333,
              "#9c179e"
             ],
             [
              0.4444444444444444,
              "#bd3786"
             ],
             [
              0.5555555555555556,
              "#d8576b"
             ],
             [
              0.6666666666666666,
              "#ed7953"
             ],
             [
              0.7777777777777778,
              "#fb9f3a"
             ],
             [
              0.8888888888888888,
              "#fdca26"
             ],
             [
              1,
              "#f0f921"
             ]
            ],
            "type": "heatmap"
           }
          ],
          "heatmapgl": [
           {
            "colorbar": {
             "outlinewidth": 0,
             "ticks": ""
            },
            "colorscale": [
             [
              0,
              "#0d0887"
             ],
             [
              0.1111111111111111,
              "#46039f"
             ],
             [
              0.2222222222222222,
              "#7201a8"
             ],
             [
              0.3333333333333333,
              "#9c179e"
             ],
             [
              0.4444444444444444,
              "#bd3786"
             ],
             [
              0.5555555555555556,
              "#d8576b"
             ],
             [
              0.6666666666666666,
              "#ed7953"
             ],
             [
              0.7777777777777778,
              "#fb9f3a"
             ],
             [
              0.8888888888888888,
              "#fdca26"
             ],
             [
              1,
              "#f0f921"
             ]
            ],
            "type": "heatmapgl"
           }
          ],
          "histogram": [
           {
            "marker": {
             "colorbar": {
              "outlinewidth": 0,
              "ticks": ""
             }
            },
            "type": "histogram"
           }
          ],
          "histogram2d": [
           {
            "colorbar": {
             "outlinewidth": 0,
             "ticks": ""
            },
            "colorscale": [
             [
              0,
              "#0d0887"
             ],
             [
              0.1111111111111111,
              "#46039f"
             ],
             [
              0.2222222222222222,
              "#7201a8"
             ],
             [
              0.3333333333333333,
              "#9c179e"
             ],
             [
              0.4444444444444444,
              "#bd3786"
             ],
             [
              0.5555555555555556,
              "#d8576b"
             ],
             [
              0.6666666666666666,
              "#ed7953"
             ],
             [
              0.7777777777777778,
              "#fb9f3a"
             ],
             [
              0.8888888888888888,
              "#fdca26"
             ],
             [
              1,
              "#f0f921"
             ]
            ],
            "type": "histogram2d"
           }
          ],
          "histogram2dcontour": [
           {
            "colorbar": {
             "outlinewidth": 0,
             "ticks": ""
            },
            "colorscale": [
             [
              0,
              "#0d0887"
             ],
             [
              0.1111111111111111,
              "#46039f"
             ],
             [
              0.2222222222222222,
              "#7201a8"
             ],
             [
              0.3333333333333333,
              "#9c179e"
             ],
             [
              0.4444444444444444,
              "#bd3786"
             ],
             [
              0.5555555555555556,
              "#d8576b"
             ],
             [
              0.6666666666666666,
              "#ed7953"
             ],
             [
              0.7777777777777778,
              "#fb9f3a"
             ],
             [
              0.8888888888888888,
              "#fdca26"
             ],
             [
              1,
              "#f0f921"
             ]
            ],
            "type": "histogram2dcontour"
           }
          ],
          "mesh3d": [
           {
            "colorbar": {
             "outlinewidth": 0,
             "ticks": ""
            },
            "type": "mesh3d"
           }
          ],
          "parcoords": [
           {
            "line": {
             "colorbar": {
              "outlinewidth": 0,
              "ticks": ""
             }
            },
            "type": "parcoords"
           }
          ],
          "pie": [
           {
            "automargin": true,
            "type": "pie"
           }
          ],
          "scatter": [
           {
            "marker": {
             "colorbar": {
              "outlinewidth": 0,
              "ticks": ""
             }
            },
            "type": "scatter"
           }
          ],
          "scatter3d": [
           {
            "line": {
             "colorbar": {
              "outlinewidth": 0,
              "ticks": ""
             }
            },
            "marker": {
             "colorbar": {
              "outlinewidth": 0,
              "ticks": ""
             }
            },
            "type": "scatter3d"
           }
          ],
          "scattercarpet": [
           {
            "marker": {
             "colorbar": {
              "outlinewidth": 0,
              "ticks": ""
             }
            },
            "type": "scattercarpet"
           }
          ],
          "scattergeo": [
           {
            "marker": {
             "colorbar": {
              "outlinewidth": 0,
              "ticks": ""
             }
            },
            "type": "scattergeo"
           }
          ],
          "scattergl": [
           {
            "marker": {
             "colorbar": {
              "outlinewidth": 0,
              "ticks": ""
             }
            },
            "type": "scattergl"
           }
          ],
          "scattermapbox": [
           {
            "marker": {
             "colorbar": {
              "outlinewidth": 0,
              "ticks": ""
             }
            },
            "type": "scattermapbox"
           }
          ],
          "scatterpolar": [
           {
            "marker": {
             "colorbar": {
              "outlinewidth": 0,
              "ticks": ""
             }
            },
            "type": "scatterpolar"
           }
          ],
          "scatterpolargl": [
           {
            "marker": {
             "colorbar": {
              "outlinewidth": 0,
              "ticks": ""
             }
            },
            "type": "scatterpolargl"
           }
          ],
          "scatterternary": [
           {
            "marker": {
             "colorbar": {
              "outlinewidth": 0,
              "ticks": ""
             }
            },
            "type": "scatterternary"
           }
          ],
          "surface": [
           {
            "colorbar": {
             "outlinewidth": 0,
             "ticks": ""
            },
            "colorscale": [
             [
              0,
              "#0d0887"
             ],
             [
              0.1111111111111111,
              "#46039f"
             ],
             [
              0.2222222222222222,
              "#7201a8"
             ],
             [
              0.3333333333333333,
              "#9c179e"
             ],
             [
              0.4444444444444444,
              "#bd3786"
             ],
             [
              0.5555555555555556,
              "#d8576b"
             ],
             [
              0.6666666666666666,
              "#ed7953"
             ],
             [
              0.7777777777777778,
              "#fb9f3a"
             ],
             [
              0.8888888888888888,
              "#fdca26"
             ],
             [
              1,
              "#f0f921"
             ]
            ],
            "type": "surface"
           }
          ],
          "table": [
           {
            "cells": {
             "fill": {
              "color": "#EBF0F8"
             },
             "line": {
              "color": "white"
             }
            },
            "header": {
             "fill": {
              "color": "#C8D4E3"
             },
             "line": {
              "color": "white"
             }
            },
            "type": "table"
           }
          ]
         },
         "layout": {
          "annotationdefaults": {
           "arrowcolor": "#2a3f5f",
           "arrowhead": 0,
           "arrowwidth": 1
          },
          "autotypenumbers": "strict",
          "coloraxis": {
           "colorbar": {
            "outlinewidth": 0,
            "ticks": ""
           }
          },
          "colorscale": {
           "diverging": [
            [
             0,
             "#8e0152"
            ],
            [
             0.1,
             "#c51b7d"
            ],
            [
             0.2,
             "#de77ae"
            ],
            [
             0.3,
             "#f1b6da"
            ],
            [
             0.4,
             "#fde0ef"
            ],
            [
             0.5,
             "#f7f7f7"
            ],
            [
             0.6,
             "#e6f5d0"
            ],
            [
             0.7,
             "#b8e186"
            ],
            [
             0.8,
             "#7fbc41"
            ],
            [
             0.9,
             "#4d9221"
            ],
            [
             1,
             "#276419"
            ]
           ],
           "sequential": [
            [
             0,
             "#0d0887"
            ],
            [
             0.1111111111111111,
             "#46039f"
            ],
            [
             0.2222222222222222,
             "#7201a8"
            ],
            [
             0.3333333333333333,
             "#9c179e"
            ],
            [
             0.4444444444444444,
             "#bd3786"
            ],
            [
             0.5555555555555556,
             "#d8576b"
            ],
            [
             0.6666666666666666,
             "#ed7953"
            ],
            [
             0.7777777777777778,
             "#fb9f3a"
            ],
            [
             0.8888888888888888,
             "#fdca26"
            ],
            [
             1,
             "#f0f921"
            ]
           ],
           "sequentialminus": [
            [
             0,
             "#0d0887"
            ],
            [
             0.1111111111111111,
             "#46039f"
            ],
            [
             0.2222222222222222,
             "#7201a8"
            ],
            [
             0.3333333333333333,
             "#9c179e"
            ],
            [
             0.4444444444444444,
             "#bd3786"
            ],
            [
             0.5555555555555556,
             "#d8576b"
            ],
            [
             0.6666666666666666,
             "#ed7953"
            ],
            [
             0.7777777777777778,
             "#fb9f3a"
            ],
            [
             0.8888888888888888,
             "#fdca26"
            ],
            [
             1,
             "#f0f921"
            ]
           ]
          },
          "colorway": [
           "#636efa",
           "#EF553B",
           "#00cc96",
           "#ab63fa",
           "#FFA15A",
           "#19d3f3",
           "#FF6692",
           "#B6E880",
           "#FF97FF",
           "#FECB52"
          ],
          "font": {
           "color": "#2a3f5f"
          },
          "geo": {
           "bgcolor": "white",
           "lakecolor": "white",
           "landcolor": "#E5ECF6",
           "showlakes": true,
           "showland": true,
           "subunitcolor": "white"
          },
          "hoverlabel": {
           "align": "left"
          },
          "hovermode": "closest",
          "mapbox": {
           "style": "light"
          },
          "paper_bgcolor": "white",
          "plot_bgcolor": "#E5ECF6",
          "polar": {
           "angularaxis": {
            "gridcolor": "white",
            "linecolor": "white",
            "ticks": ""
           },
           "bgcolor": "#E5ECF6",
           "radialaxis": {
            "gridcolor": "white",
            "linecolor": "white",
            "ticks": ""
           }
          },
          "scene": {
           "xaxis": {
            "backgroundcolor": "#E5ECF6",
            "gridcolor": "white",
            "gridwidth": 2,
            "linecolor": "white",
            "showbackground": true,
            "ticks": "",
            "zerolinecolor": "white"
           },
           "yaxis": {
            "backgroundcolor": "#E5ECF6",
            "gridcolor": "white",
            "gridwidth": 2,
            "linecolor": "white",
            "showbackground": true,
            "ticks": "",
            "zerolinecolor": "white"
           },
           "zaxis": {
            "backgroundcolor": "#E5ECF6",
            "gridcolor": "white",
            "gridwidth": 2,
            "linecolor": "white",
            "showbackground": true,
            "ticks": "",
            "zerolinecolor": "white"
           }
          },
          "shapedefaults": {
           "line": {
            "color": "#2a3f5f"
           }
          },
          "ternary": {
           "aaxis": {
            "gridcolor": "white",
            "linecolor": "white",
            "ticks": ""
           },
           "baxis": {
            "gridcolor": "white",
            "linecolor": "white",
            "ticks": ""
           },
           "bgcolor": "#E5ECF6",
           "caxis": {
            "gridcolor": "white",
            "linecolor": "white",
            "ticks": ""
           }
          },
          "title": {
           "x": 0.05
          },
          "xaxis": {
           "automargin": true,
           "gridcolor": "white",
           "linecolor": "white",
           "ticks": "",
           "title": {
            "standoff": 15
           },
           "zerolinecolor": "white",
           "zerolinewidth": 2
          },
          "yaxis": {
           "automargin": true,
           "gridcolor": "white",
           "linecolor": "white",
           "ticks": "",
           "title": {
            "standoff": 15
           },
           "zerolinecolor": "white",
           "zerolinewidth": 2
          }
         }
        },
        "title": {
         "text": "TAESA",
         "x": 0.5
        },
        "width": 1500,
        "xaxis": {
         "range": [
          "2020-01-01",
          "2020-12-31"
         ]
        }
       }
      }
     },
     "metadata": {}
    }
   ],
   "source": [
    "div = go.Scatter(\n",
    "    x=df_sorted.date,\n",
    "    y=df_sorted.valor,\n",
    "    name = \"TAEE4 - div\",\n",
    "    line = dict(color = '#330000'),\n",
    "    opacity = 0.8\n",
    ")\n",
    "\n",
    "value = go.Scatter(\n",
    "    x=df_value.index,\n",
    "    y=df_value.Close,\n",
    "    name = \"TAEE4 - Value\",\n",
    "    line = dict(color = '#17BECF'),\n",
    "    opacity = 0.8\n",
    ")\n",
    "\n",
    "data = [div, value]\n",
    "\n",
    "layout = dict(\n",
    "    autosize=False,\n",
    "    width=1500,\n",
    "    height=900,\n",
    "    title=\"TAESA\",\n",
    "    title_x=0.5,\n",
    "    xaxis = dict(\n",
    "        range = ['2020-01-01','2020-12-31']\n",
    "    )\n",
    ")\n",
    "\n",
    "fig = dict(data=data, layout=layout)\n",
    "py.iplot(fig)"
   ]
  },
  {
   "cell_type": "code",
   "execution_count": 20,
   "metadata": {},
   "outputs": [
    {
     "output_type": "display_data",
     "data": {
      "application/vnd.plotly.v1+json": {
       "config": {
        "linkText": "Export to plot.ly",
        "plotlyServerURL": "https://plot.ly",
        "showLink": false
       },
       "data": [
        {
         "line": {
          "color": "#330000"
         },
         "name": "TAEE4 - div",
         "opacity": 0.8,
         "type": "scatter",
         "x": [
          "2013-08-19T00:00:00",
          "2014-02-14T00:00:00",
          "2014-08-18T00:00:00",
          "2015-12-02T00:00:00",
          "2015-12-08T00:00:00",
          "2016-02-23T00:00:00",
          "2016-11-08T00:00:00",
          "2017-02-16T00:00:00",
          "2017-10-08T00:00:00",
          "2018-02-22T00:00:00",
          "2018-09-08T00:00:00",
          "2018-11-12T00:00:00",
          "2019-02-14T00:00:00",
          "2019-09-08T00:00:00",
          "2020-02-13T00:00:00",
          "2020-09-01T00:00:00",
          "2020-12-08T00:00:00",
          "2021-11-02T00:00:00"
         ],
         "y": [
          0.4089,
          0.5806,
          0.5977,
          0.7956,
          0.8791,
          0.8334,
          0.8191,
          0.8358,
          0.781,
          0.9467,
          0.7809,
          1.3523,
          0.6772,
          0.8907,
          1.8984,
          1.3523,
          0.8753,
          0.4748
         ]
        }
       ],
       "layout": {
        "autosize": false,
        "height": 900,
        "template": {
         "data": {
          "bar": [
           {
            "error_x": {
             "color": "#2a3f5f"
            },
            "error_y": {
             "color": "#2a3f5f"
            },
            "marker": {
             "line": {
              "color": "#E5ECF6",
              "width": 0.5
             }
            },
            "type": "bar"
           }
          ],
          "barpolar": [
           {
            "marker": {
             "line": {
              "color": "#E5ECF6",
              "width": 0.5
             }
            },
            "type": "barpolar"
           }
          ],
          "carpet": [
           {
            "aaxis": {
             "endlinecolor": "#2a3f5f",
             "gridcolor": "white",
             "linecolor": "white",
             "minorgridcolor": "white",
             "startlinecolor": "#2a3f5f"
            },
            "baxis": {
             "endlinecolor": "#2a3f5f",
             "gridcolor": "white",
             "linecolor": "white",
             "minorgridcolor": "white",
             "startlinecolor": "#2a3f5f"
            },
            "type": "carpet"
           }
          ],
          "choropleth": [
           {
            "colorbar": {
             "outlinewidth": 0,
             "ticks": ""
            },
            "type": "choropleth"
           }
          ],
          "contour": [
           {
            "colorbar": {
             "outlinewidth": 0,
             "ticks": ""
            },
            "colorscale": [
             [
              0,
              "#0d0887"
             ],
             [
              0.1111111111111111,
              "#46039f"
             ],
             [
              0.2222222222222222,
              "#7201a8"
             ],
             [
              0.3333333333333333,
              "#9c179e"
             ],
             [
              0.4444444444444444,
              "#bd3786"
             ],
             [
              0.5555555555555556,
              "#d8576b"
             ],
             [
              0.6666666666666666,
              "#ed7953"
             ],
             [
              0.7777777777777778,
              "#fb9f3a"
             ],
             [
              0.8888888888888888,
              "#fdca26"
             ],
             [
              1,
              "#f0f921"
             ]
            ],
            "type": "contour"
           }
          ],
          "contourcarpet": [
           {
            "colorbar": {
             "outlinewidth": 0,
             "ticks": ""
            },
            "type": "contourcarpet"
           }
          ],
          "heatmap": [
           {
            "colorbar": {
             "outlinewidth": 0,
             "ticks": ""
            },
            "colorscale": [
             [
              0,
              "#0d0887"
             ],
             [
              0.1111111111111111,
              "#46039f"
             ],
             [
              0.2222222222222222,
              "#7201a8"
             ],
             [
              0.3333333333333333,
              "#9c179e"
             ],
             [
              0.4444444444444444,
              "#bd3786"
             ],
             [
              0.5555555555555556,
              "#d8576b"
             ],
             [
              0.6666666666666666,
              "#ed7953"
             ],
             [
              0.7777777777777778,
              "#fb9f3a"
             ],
             [
              0.8888888888888888,
              "#fdca26"
             ],
             [
              1,
              "#f0f921"
             ]
            ],
            "type": "heatmap"
           }
          ],
          "heatmapgl": [
           {
            "colorbar": {
             "outlinewidth": 0,
             "ticks": ""
            },
            "colorscale": [
             [
              0,
              "#0d0887"
             ],
             [
              0.1111111111111111,
              "#46039f"
             ],
             [
              0.2222222222222222,
              "#7201a8"
             ],
             [
              0.3333333333333333,
              "#9c179e"
             ],
             [
              0.4444444444444444,
              "#bd3786"
             ],
             [
              0.5555555555555556,
              "#d8576b"
             ],
             [
              0.6666666666666666,
              "#ed7953"
             ],
             [
              0.7777777777777778,
              "#fb9f3a"
             ],
             [
              0.8888888888888888,
              "#fdca26"
             ],
             [
              1,
              "#f0f921"
             ]
            ],
            "type": "heatmapgl"
           }
          ],
          "histogram": [
           {
            "marker": {
             "colorbar": {
              "outlinewidth": 0,
              "ticks": ""
             }
            },
            "type": "histogram"
           }
          ],
          "histogram2d": [
           {
            "colorbar": {
             "outlinewidth": 0,
             "ticks": ""
            },
            "colorscale": [
             [
              0,
              "#0d0887"
             ],
             [
              0.1111111111111111,
              "#46039f"
             ],
             [
              0.2222222222222222,
              "#7201a8"
             ],
             [
              0.3333333333333333,
              "#9c179e"
             ],
             [
              0.4444444444444444,
              "#bd3786"
             ],
             [
              0.5555555555555556,
              "#d8576b"
             ],
             [
              0.6666666666666666,
              "#ed7953"
             ],
             [
              0.7777777777777778,
              "#fb9f3a"
             ],
             [
              0.8888888888888888,
              "#fdca26"
             ],
             [
              1,
              "#f0f921"
             ]
            ],
            "type": "histogram2d"
           }
          ],
          "histogram2dcontour": [
           {
            "colorbar": {
             "outlinewidth": 0,
             "ticks": ""
            },
            "colorscale": [
             [
              0,
              "#0d0887"
             ],
             [
              0.1111111111111111,
              "#46039f"
             ],
             [
              0.2222222222222222,
              "#7201a8"
             ],
             [
              0.3333333333333333,
              "#9c179e"
             ],
             [
              0.4444444444444444,
              "#bd3786"
             ],
             [
              0.5555555555555556,
              "#d8576b"
             ],
             [
              0.6666666666666666,
              "#ed7953"
             ],
             [
              0.7777777777777778,
              "#fb9f3a"
             ],
             [
              0.8888888888888888,
              "#fdca26"
             ],
             [
              1,
              "#f0f921"
             ]
            ],
            "type": "histogram2dcontour"
           }
          ],
          "mesh3d": [
           {
            "colorbar": {
             "outlinewidth": 0,
             "ticks": ""
            },
            "type": "mesh3d"
           }
          ],
          "parcoords": [
           {
            "line": {
             "colorbar": {
              "outlinewidth": 0,
              "ticks": ""
             }
            },
            "type": "parcoords"
           }
          ],
          "pie": [
           {
            "automargin": true,
            "type": "pie"
           }
          ],
          "scatter": [
           {
            "marker": {
             "colorbar": {
              "outlinewidth": 0,
              "ticks": ""
             }
            },
            "type": "scatter"
           }
          ],
          "scatter3d": [
           {
            "line": {
             "colorbar": {
              "outlinewidth": 0,
              "ticks": ""
             }
            },
            "marker": {
             "colorbar": {
              "outlinewidth": 0,
              "ticks": ""
             }
            },
            "type": "scatter3d"
           }
          ],
          "scattercarpet": [
           {
            "marker": {
             "colorbar": {
              "outlinewidth": 0,
              "ticks": ""
             }
            },
            "type": "scattercarpet"
           }
          ],
          "scattergeo": [
           {
            "marker": {
             "colorbar": {
              "outlinewidth": 0,
              "ticks": ""
             }
            },
            "type": "scattergeo"
           }
          ],
          "scattergl": [
           {
            "marker": {
             "colorbar": {
              "outlinewidth": 0,
              "ticks": ""
             }
            },
            "type": "scattergl"
           }
          ],
          "scattermapbox": [
           {
            "marker": {
             "colorbar": {
              "outlinewidth": 0,
              "ticks": ""
             }
            },
            "type": "scattermapbox"
           }
          ],
          "scatterpolar": [
           {
            "marker": {
             "colorbar": {
              "outlinewidth": 0,
              "ticks": ""
             }
            },
            "type": "scatterpolar"
           }
          ],
          "scatterpolargl": [
           {
            "marker": {
             "colorbar": {
              "outlinewidth": 0,
              "ticks": ""
             }
            },
            "type": "scatterpolargl"
           }
          ],
          "scatterternary": [
           {
            "marker": {
             "colorbar": {
              "outlinewidth": 0,
              "ticks": ""
             }
            },
            "type": "scatterternary"
           }
          ],
          "surface": [
           {
            "colorbar": {
             "outlinewidth": 0,
             "ticks": ""
            },
            "colorscale": [
             [
              0,
              "#0d0887"
             ],
             [
              0.1111111111111111,
              "#46039f"
             ],
             [
              0.2222222222222222,
              "#7201a8"
             ],
             [
              0.3333333333333333,
              "#9c179e"
             ],
             [
              0.4444444444444444,
              "#bd3786"
             ],
             [
              0.5555555555555556,
              "#d8576b"
             ],
             [
              0.6666666666666666,
              "#ed7953"
             ],
             [
              0.7777777777777778,
              "#fb9f3a"
             ],
             [
              0.8888888888888888,
              "#fdca26"
             ],
             [
              1,
              "#f0f921"
             ]
            ],
            "type": "surface"
           }
          ],
          "table": [
           {
            "cells": {
             "fill": {
              "color": "#EBF0F8"
             },
             "line": {
              "color": "white"
             }
            },
            "header": {
             "fill": {
              "color": "#C8D4E3"
             },
             "line": {
              "color": "white"
             }
            },
            "type": "table"
           }
          ]
         },
         "layout": {
          "annotationdefaults": {
           "arrowcolor": "#2a3f5f",
           "arrowhead": 0,
           "arrowwidth": 1
          },
          "autotypenumbers": "strict",
          "coloraxis": {
           "colorbar": {
            "outlinewidth": 0,
            "ticks": ""
           }
          },
          "colorscale": {
           "diverging": [
            [
             0,
             "#8e0152"
            ],
            [
             0.1,
             "#c51b7d"
            ],
            [
             0.2,
             "#de77ae"
            ],
            [
             0.3,
             "#f1b6da"
            ],
            [
             0.4,
             "#fde0ef"
            ],
            [
             0.5,
             "#f7f7f7"
            ],
            [
             0.6,
             "#e6f5d0"
            ],
            [
             0.7,
             "#b8e186"
            ],
            [
             0.8,
             "#7fbc41"
            ],
            [
             0.9,
             "#4d9221"
            ],
            [
             1,
             "#276419"
            ]
           ],
           "sequential": [
            [
             0,
             "#0d0887"
            ],
            [
             0.1111111111111111,
             "#46039f"
            ],
            [
             0.2222222222222222,
             "#7201a8"
            ],
            [
             0.3333333333333333,
             "#9c179e"
            ],
            [
             0.4444444444444444,
             "#bd3786"
            ],
            [
             0.5555555555555556,
             "#d8576b"
            ],
            [
             0.6666666666666666,
             "#ed7953"
            ],
            [
             0.7777777777777778,
             "#fb9f3a"
            ],
            [
             0.8888888888888888,
             "#fdca26"
            ],
            [
             1,
             "#f0f921"
            ]
           ],
           "sequentialminus": [
            [
             0,
             "#0d0887"
            ],
            [
             0.1111111111111111,
             "#46039f"
            ],
            [
             0.2222222222222222,
             "#7201a8"
            ],
            [
             0.3333333333333333,
             "#9c179e"
            ],
            [
             0.4444444444444444,
             "#bd3786"
            ],
            [
             0.5555555555555556,
             "#d8576b"
            ],
            [
             0.6666666666666666,
             "#ed7953"
            ],
            [
             0.7777777777777778,
             "#fb9f3a"
            ],
            [
             0.8888888888888888,
             "#fdca26"
            ],
            [
             1,
             "#f0f921"
            ]
           ]
          },
          "colorway": [
           "#636efa",
           "#EF553B",
           "#00cc96",
           "#ab63fa",
           "#FFA15A",
           "#19d3f3",
           "#FF6692",
           "#B6E880",
           "#FF97FF",
           "#FECB52"
          ],
          "font": {
           "color": "#2a3f5f"
          },
          "geo": {
           "bgcolor": "white",
           "lakecolor": "white",
           "landcolor": "#E5ECF6",
           "showlakes": true,
           "showland": true,
           "subunitcolor": "white"
          },
          "hoverlabel": {
           "align": "left"
          },
          "hovermode": "closest",
          "mapbox": {
           "style": "light"
          },
          "paper_bgcolor": "white",
          "plot_bgcolor": "#E5ECF6",
          "polar": {
           "angularaxis": {
            "gridcolor": "white",
            "linecolor": "white",
            "ticks": ""
           },
           "bgcolor": "#E5ECF6",
           "radialaxis": {
            "gridcolor": "white",
            "linecolor": "white",
            "ticks": ""
           }
          },
          "scene": {
           "xaxis": {
            "backgroundcolor": "#E5ECF6",
            "gridcolor": "white",
            "gridwidth": 2,
            "linecolor": "white",
            "showbackground": true,
            "ticks": "",
            "zerolinecolor": "white"
           },
           "yaxis": {
            "backgroundcolor": "#E5ECF6",
            "gridcolor": "white",
            "gridwidth": 2,
            "linecolor": "white",
            "showbackground": true,
            "ticks": "",
            "zerolinecolor": "white"
           },
           "zaxis": {
            "backgroundcolor": "#E5ECF6",
            "gridcolor": "white",
            "gridwidth": 2,
            "linecolor": "white",
            "showbackground": true,
            "ticks": "",
            "zerolinecolor": "white"
           }
          },
          "shapedefaults": {
           "line": {
            "color": "#2a3f5f"
           }
          },
          "ternary": {
           "aaxis": {
            "gridcolor": "white",
            "linecolor": "white",
            "ticks": ""
           },
           "baxis": {
            "gridcolor": "white",
            "linecolor": "white",
            "ticks": ""
           },
           "bgcolor": "#E5ECF6",
           "caxis": {
            "gridcolor": "white",
            "linecolor": "white",
            "ticks": ""
           }
          },
          "title": {
           "x": 0.05
          },
          "xaxis": {
           "automargin": true,
           "gridcolor": "white",
           "linecolor": "white",
           "ticks": "",
           "title": {
            "standoff": 15
           },
           "zerolinecolor": "white",
           "zerolinewidth": 2
          },
          "yaxis": {
           "automargin": true,
           "gridcolor": "white",
           "linecolor": "white",
           "ticks": "",
           "title": {
            "standoff": 15
           },
           "zerolinecolor": "white",
           "zerolinewidth": 2
          }
         }
        },
        "title": {
         "text": "TAESA",
         "x": 0.5
        },
        "width": 1500,
        "xaxis": {
         "range": [
          "2020-01-01",
          "2021-06-31"
         ]
        }
       }
      }
     },
     "metadata": {}
    }
   ],
   "source": [
    "div = go.Scatter(\n",
    "    x=df_sorted.date,\n",
    "    y=df_sorted.valor,\n",
    "    name = \"TAEE4 - div\",\n",
    "    line = dict(color = '#330000'),\n",
    "    opacity = 0.8\n",
    ")\n",
    "\n",
    "# value = go.Scatter(\n",
    "#     x=df_value.index,\n",
    "#     y=df_value.Close,\n",
    "#     name = \"TAEE4 - Value\",\n",
    "#     line = dict(color = '#17BECF'),\n",
    "#     opacity = 0.8\n",
    "# )\n",
    "\n",
    "data = [div]\n",
    "\n",
    "layout = dict(\n",
    "    autosize=False,\n",
    "    width=1500,\n",
    "    height=900,\n",
    "    title=\"TAESA\",\n",
    "    title_x=0.5,\n",
    "    xaxis = dict(\n",
    "        range = ['2020-01-01','2021-06-31']\n",
    "    )\n",
    ")\n",
    "\n",
    "fig = dict(data=data, layout=layout)\n",
    "py.iplot(fig)"
   ]
  },
  {
   "cell_type": "code",
   "execution_count": null,
   "metadata": {},
   "outputs": [],
   "source": []
  }
 ]
}